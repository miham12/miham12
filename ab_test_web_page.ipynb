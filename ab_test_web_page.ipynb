{
 "cells": [
  {
   "cell_type": "markdown",
   "id": "944f55ba-c6b1-4843-aa2d-910938599b5c",
   "metadata": {},
   "source": [
    "# AB-тест для посадочной страницы"
   ]
  },
  {
   "cell_type": "markdown",
   "id": "ed54bda3-3047-44d0-a35c-5687b300a001",
   "metadata": {},
   "source": [
    "## Описание"
   ]
  },
  {
   "cell_type": "markdown",
   "id": "6714a4cf-38c7-4b4e-9c3f-34dfd6ab96c5",
   "metadata": {},
   "source": [
    "Компания разработала новую посадочную страницу с целью увеличения продаж своего продукта. Было решено провести А/Б-тестирование, чтобы узнать, какая из версий посадочной страницы покажет себя лучше. Пользователей собрали в две группы одинакового размера. Экспериментальной группе (treatment group) была показана новая посадочная страница, контрольной группе (control group) - старая"
   ]
  },
  {
   "cell_type": "markdown",
   "id": "fb71dc66-b622-4419-990f-2f1276f1da10",
   "metadata": {},
   "source": [
    "### Какие данные представлены?\n",
    "\n",
    "user_id: уинкальный идентификатор пользователя\n",
    "timestamp: время посещения страницы\n",
    "group: группа (экспериментальная или контрольная)\n",
    "landing_page: посадочная страница (старая - old_page либо новая - new_page)\n",
    "converted: статус пользователя после просмотра страницы (1 - совершил покупку, 0 - нет)"
   ]
  },
  {
   "cell_type": "code",
   "execution_count": 37,
   "id": "b96a14ea-0f88-4359-8cde-46b0fdfc370f",
   "metadata": {},
   "outputs": [
    {
     "name": "stderr",
     "output_type": "stream",
     "text": [
      "/var/folders/tg/9wjldqyd6jx2gyw4jp24xqr40000gp/T/ipykernel_26026/2783672785.py:10: TqdmWarning: IProgress not found. Please update jupyter and ipywidgets. See https://ipywidgets.readthedocs.io/en/stable/user_install.html\n",
      "  from tqdm.autonotebook import tqdm\n"
     ]
    }
   ],
   "source": [
    "#все библиотеки \n",
    "import pandas as pd\n",
    "import numpy as np\n",
    "import scipy.stats as stats\n",
    "from IPython.display import Image, display\n",
    "import plotly.graph_objects as go\n",
    "import plotly.express as px\n",
    "import plotly.figure_factory as ff\n",
    "from plotly.subplots import make_subplots\n",
    "from tqdm.autonotebook import tqdm"
   ]
  },
  {
   "cell_type": "markdown",
   "id": "7ecb09f9-e156-4a8f-89f3-12abf597756d",
   "metadata": {},
   "source": [
    "## Препроцессинг "
   ]
  },
  {
   "cell_type": "code",
   "execution_count": 4,
   "id": "9028c694-c442-42b3-a5fa-951c277b0811",
   "metadata": {},
   "outputs": [
    {
     "data": {
      "text/html": [
       "<div>\n",
       "<style scoped>\n",
       "    .dataframe tbody tr th:only-of-type {\n",
       "        vertical-align: middle;\n",
       "    }\n",
       "\n",
       "    .dataframe tbody tr th {\n",
       "        vertical-align: top;\n",
       "    }\n",
       "\n",
       "    .dataframe thead th {\n",
       "        text-align: right;\n",
       "    }\n",
       "</style>\n",
       "<table border=\"1\" class=\"dataframe\">\n",
       "  <thead>\n",
       "    <tr style=\"text-align: right;\">\n",
       "      <th></th>\n",
       "      <th>user_id</th>\n",
       "      <th>timestamp</th>\n",
       "      <th>group</th>\n",
       "      <th>landing_page</th>\n",
       "      <th>converted</th>\n",
       "    </tr>\n",
       "  </thead>\n",
       "  <tbody>\n",
       "    <tr>\n",
       "      <th>0</th>\n",
       "      <td>851104</td>\n",
       "      <td>11:48.6</td>\n",
       "      <td>control</td>\n",
       "      <td>old_page</td>\n",
       "      <td>0</td>\n",
       "    </tr>\n",
       "    <tr>\n",
       "      <th>1</th>\n",
       "      <td>804228</td>\n",
       "      <td>01:45.2</td>\n",
       "      <td>control</td>\n",
       "      <td>old_page</td>\n",
       "      <td>0</td>\n",
       "    </tr>\n",
       "    <tr>\n",
       "      <th>2</th>\n",
       "      <td>661590</td>\n",
       "      <td>55:06.2</td>\n",
       "      <td>treatment</td>\n",
       "      <td>new_page</td>\n",
       "      <td>0</td>\n",
       "    </tr>\n",
       "    <tr>\n",
       "      <th>3</th>\n",
       "      <td>853541</td>\n",
       "      <td>28:03.1</td>\n",
       "      <td>treatment</td>\n",
       "      <td>new_page</td>\n",
       "      <td>0</td>\n",
       "    </tr>\n",
       "    <tr>\n",
       "      <th>4</th>\n",
       "      <td>864975</td>\n",
       "      <td>52:26.2</td>\n",
       "      <td>control</td>\n",
       "      <td>old_page</td>\n",
       "      <td>1</td>\n",
       "    </tr>\n",
       "  </tbody>\n",
       "</table>\n",
       "</div>"
      ],
      "text/plain": [
       "   user_id timestamp      group landing_page  converted\n",
       "0   851104   11:48.6    control     old_page          0\n",
       "1   804228   01:45.2    control     old_page          0\n",
       "2   661590   55:06.2  treatment     new_page          0\n",
       "3   853541   28:03.1  treatment     new_page          0\n",
       "4   864975   52:26.2    control     old_page          1"
      ]
     },
     "execution_count": 4,
     "metadata": {},
     "output_type": "execute_result"
    }
   ],
   "source": [
    "df = pd.read_csv('ab_data.csv')\n",
    "df.head()"
   ]
  },
  {
   "cell_type": "code",
   "execution_count": 6,
   "id": "08d6ca06-d32b-4881-af94-b9239896af61",
   "metadata": {},
   "outputs": [
    {
     "name": "stdout",
     "output_type": "stream",
     "text": [
      "Размер датасета: 294480 строк и 5 столбцов.\n"
     ]
    }
   ],
   "source": [
    "print(f'Размер датасета: {df.shape[0]} строк и {df.shape[1]} столбцов.')"
   ]
  },
  {
   "cell_type": "code",
   "execution_count": 7,
   "id": "e2f4767c-b4a4-4f26-8743-584ea937371e",
   "metadata": {},
   "outputs": [
    {
     "name": "stdout",
     "output_type": "stream",
     "text": [
      "<class 'pandas.core.frame.DataFrame'>\n",
      "RangeIndex: 294480 entries, 0 to 294479\n",
      "Data columns (total 5 columns):\n",
      " #   Column        Non-Null Count   Dtype \n",
      "---  ------        --------------   ----- \n",
      " 0   user_id       294480 non-null  int64 \n",
      " 1   timestamp     294480 non-null  object\n",
      " 2   group         294480 non-null  object\n",
      " 3   landing_page  294480 non-null  object\n",
      " 4   converted     294480 non-null  int64 \n",
      "dtypes: int64(2), object(3)\n",
      "memory usage: 11.2+ MB\n"
     ]
    }
   ],
   "source": [
    "df.info()"
   ]
  },
  {
   "cell_type": "code",
   "execution_count": 11,
   "id": "5e747d93-81f0-4292-b777-0aefe9dab9f5",
   "metadata": {},
   "outputs": [
    {
     "name": "stdout",
     "output_type": "stream",
     "text": [
      "Число пропусков в данных:\n",
      "user_id         0\n",
      "timestamp       0\n",
      "group           0\n",
      "landing_page    0\n",
      "converted       0\n",
      "dtype: int64\n"
     ]
    }
   ],
   "source": [
    "print(f\"Число пропусков в данных:\\n{df.isnull().sum()}\")"
   ]
  },
  {
   "cell_type": "code",
   "execution_count": 14,
   "id": "032723c7-1249-474e-b372-95060b322f1d",
   "metadata": {},
   "outputs": [
    {
     "name": "stdout",
     "output_type": "stream",
     "text": [
      "Число повторяющихся наблюдений: 0\n"
     ]
    }
   ],
   "source": [
    "print(f\"Число повторяющихся наблюдений: {df.duplicated().sum()}\")"
   ]
  },
  {
   "cell_type": "code",
   "execution_count": 15,
   "id": "02a99a61-b07a-49e2-abaf-a41311cc5442",
   "metadata": {},
   "outputs": [
    {
     "data": {
      "text/plain": [
       "user_id         290585\n",
       "timestamp        35993\n",
       "group                2\n",
       "landing_page         2\n",
       "converted            2\n",
       "dtype: int64"
      ]
     },
     "execution_count": 15,
     "metadata": {},
     "output_type": "execute_result"
    }
   ],
   "source": [
    "#число уникальных значений в каждом столбце\n",
    "df.nunique()"
   ]
  },
  {
   "cell_type": "markdown",
   "id": "d06a7c32-64ba-4f20-8055-71a1d2fee497",
   "metadata": {},
   "source": [
    "Есть ли повторяющиеся идентификаторы пользователей?"
   ]
  },
  {
   "cell_type": "code",
   "execution_count": 16,
   "id": "43c20828-fd32-440f-90cb-a0640c84a0b7",
   "metadata": {},
   "outputs": [
    {
     "data": {
      "text/html": [
       "<div>\n",
       "<style scoped>\n",
       "    .dataframe tbody tr th:only-of-type {\n",
       "        vertical-align: middle;\n",
       "    }\n",
       "\n",
       "    .dataframe tbody tr th {\n",
       "        vertical-align: top;\n",
       "    }\n",
       "\n",
       "    .dataframe thead th {\n",
       "        text-align: right;\n",
       "    }\n",
       "</style>\n",
       "<table border=\"1\" class=\"dataframe\">\n",
       "  <thead>\n",
       "    <tr style=\"text-align: right;\">\n",
       "      <th></th>\n",
       "      <th>user_id</th>\n",
       "      <th>timestamp</th>\n",
       "      <th>group</th>\n",
       "      <th>landing_page</th>\n",
       "      <th>converted</th>\n",
       "    </tr>\n",
       "  </thead>\n",
       "  <tbody>\n",
       "    <tr>\n",
       "      <th>2656</th>\n",
       "      <td>698120</td>\n",
       "      <td>13:42.6</td>\n",
       "      <td>control</td>\n",
       "      <td>old_page</td>\n",
       "      <td>0</td>\n",
       "    </tr>\n",
       "    <tr>\n",
       "      <th>2893</th>\n",
       "      <td>773192</td>\n",
       "      <td>55:59.6</td>\n",
       "      <td>treatment</td>\n",
       "      <td>new_page</td>\n",
       "      <td>0</td>\n",
       "    </tr>\n",
       "    <tr>\n",
       "      <th>7500</th>\n",
       "      <td>899953</td>\n",
       "      <td>06:54.1</td>\n",
       "      <td>control</td>\n",
       "      <td>new_page</td>\n",
       "      <td>0</td>\n",
       "    </tr>\n",
       "    <tr>\n",
       "      <th>8036</th>\n",
       "      <td>790934</td>\n",
       "      <td>32:20.3</td>\n",
       "      <td>treatment</td>\n",
       "      <td>new_page</td>\n",
       "      <td>0</td>\n",
       "    </tr>\n",
       "    <tr>\n",
       "      <th>10218</th>\n",
       "      <td>633793</td>\n",
       "      <td>16:00.7</td>\n",
       "      <td>treatment</td>\n",
       "      <td>old_page</td>\n",
       "      <td>0</td>\n",
       "    </tr>\n",
       "    <tr>\n",
       "      <th>...</th>\n",
       "      <td>...</td>\n",
       "      <td>...</td>\n",
       "      <td>...</td>\n",
       "      <td>...</td>\n",
       "      <td>...</td>\n",
       "    </tr>\n",
       "    <tr>\n",
       "      <th>294309</th>\n",
       "      <td>787083</td>\n",
       "      <td>15:21.0</td>\n",
       "      <td>control</td>\n",
       "      <td>old_page</td>\n",
       "      <td>0</td>\n",
       "    </tr>\n",
       "    <tr>\n",
       "      <th>294328</th>\n",
       "      <td>641570</td>\n",
       "      <td>59:27.7</td>\n",
       "      <td>control</td>\n",
       "      <td>old_page</td>\n",
       "      <td>0</td>\n",
       "    </tr>\n",
       "    <tr>\n",
       "      <th>294331</th>\n",
       "      <td>689637</td>\n",
       "      <td>34:28.3</td>\n",
       "      <td>control</td>\n",
       "      <td>new_page</td>\n",
       "      <td>0</td>\n",
       "    </tr>\n",
       "    <tr>\n",
       "      <th>294355</th>\n",
       "      <td>744456</td>\n",
       "      <td>32:07.1</td>\n",
       "      <td>treatment</td>\n",
       "      <td>new_page</td>\n",
       "      <td>0</td>\n",
       "    </tr>\n",
       "    <tr>\n",
       "      <th>294478</th>\n",
       "      <td>759899</td>\n",
       "      <td>20:29.0</td>\n",
       "      <td>treatment</td>\n",
       "      <td>new_page</td>\n",
       "      <td>0</td>\n",
       "    </tr>\n",
       "  </tbody>\n",
       "</table>\n",
       "<p>3895 rows × 5 columns</p>\n",
       "</div>"
      ],
      "text/plain": [
       "        user_id timestamp      group landing_page  converted\n",
       "2656     698120   13:42.6    control     old_page          0\n",
       "2893     773192   55:59.6  treatment     new_page          0\n",
       "7500     899953   06:54.1    control     new_page          0\n",
       "8036     790934   32:20.3  treatment     new_page          0\n",
       "10218    633793   16:00.7  treatment     old_page          0\n",
       "...         ...       ...        ...          ...        ...\n",
       "294309   787083   15:21.0    control     old_page          0\n",
       "294328   641570   59:27.7    control     old_page          0\n",
       "294331   689637   34:28.3    control     new_page          0\n",
       "294355   744456   32:07.1  treatment     new_page          0\n",
       "294478   759899   20:29.0  treatment     new_page          0\n",
       "\n",
       "[3895 rows x 5 columns]"
      ]
     },
     "execution_count": 16,
     "metadata": {},
     "output_type": "execute_result"
    }
   ],
   "source": [
    "df[df['user_id'].duplicated()]"
   ]
  },
  {
   "cell_type": "markdown",
   "id": "f009b1e9-f69a-47ae-97b6-82d81899101b",
   "metadata": {},
   "source": [
    "Есть ли в данных записи с несоответствиями в колонках group и landing_page?\n",
    "Группе treatment должна была показываться новая посадочная страница, группе control - старая."
   ]
  },
  {
   "cell_type": "code",
   "execution_count": 17,
   "id": "9f52d042-ccf4-4b01-8392-3edb4bbf9050",
   "metadata": {},
   "outputs": [
    {
     "name": "stdout",
     "output_type": "stream",
     "text": [
      "Сколько раз экспериментальной группе была показана старая посадочная страница: 1965\n",
      "Сколько раз контрольной группе была показана новая посадочная страница: 1928\n",
      "Общее число ошибок: 3893\n"
     ]
    }
   ],
   "source": [
    "df_mismatch_in_treatment = df[(df['group']=='treatment') & (df['landing_page']=='old_page')]\n",
    "\n",
    "df_mismatch_in_control = df[(df['group']=='control') & (df['landing_page']=='new_page')]\n",
    "\n",
    "n_mismatch = df_mismatch_in_treatment.shape[0] + df_mismatch_in_control.shape[0]\n",
    "\n",
    "print(f'Сколько раз экспериментальной группе была показана старая посадочная страница: {df_mismatch_in_treatment.shape[0]}')\n",
    "print(f'Сколько раз контрольной группе была показана новая посадочная страница: {df_mismatch_in_control.shape[0]}')\n",
    "print(f'Общее число ошибок: {n_mismatch}')"
   ]
  },
  {
   "cell_type": "markdown",
   "id": "68ba3262-ff4e-4715-baf0-93d6b5927717",
   "metadata": {},
   "source": [
    "По каким-то причинам некоторым пользователям была показана неправильная посадочная страница. Исключим таких пользователей из исследования."
   ]
  },
  {
   "cell_type": "code",
   "execution_count": 18,
   "id": "54bb94fd-76f2-4770-a7c7-6f6ca2e2e5d3",
   "metadata": {},
   "outputs": [
    {
     "data": {
      "text/plain": [
       "(290587, 5)"
      ]
     },
     "execution_count": 18,
     "metadata": {},
     "output_type": "execute_result"
    }
   ],
   "source": [
    "df_cleaned = df[(df[\"group\"]==\"treatment\")&(df[\"landing_page\"]==\"new_page\") | (df[\"group\"]==\"control\")&(df[\"landing_page\"]==\"old_page\")]\n",
    "df_cleaned.shape"
   ]
  },
  {
   "cell_type": "markdown",
   "id": "acc160c0-62e4-42b1-b01e-e1ba4c17eaa6",
   "metadata": {},
   "source": [
    "В данных остается еще два дубликата. Данные дубликаты появились из-за повторного посещения пользователями посадочной страницы."
   ]
  },
  {
   "cell_type": "code",
   "execution_count": 19,
   "id": "5dfa75ae-db36-4887-b331-4381d0e711ca",
   "metadata": {},
   "outputs": [
    {
     "data": {
      "text/html": [
       "<div>\n",
       "<style scoped>\n",
       "    .dataframe tbody tr th:only-of-type {\n",
       "        vertical-align: middle;\n",
       "    }\n",
       "\n",
       "    .dataframe tbody tr th {\n",
       "        vertical-align: top;\n",
       "    }\n",
       "\n",
       "    .dataframe thead th {\n",
       "        text-align: right;\n",
       "    }\n",
       "</style>\n",
       "<table border=\"1\" class=\"dataframe\">\n",
       "  <thead>\n",
       "    <tr style=\"text-align: right;\">\n",
       "      <th></th>\n",
       "      <th>user_id</th>\n",
       "      <th>timestamp</th>\n",
       "      <th>group</th>\n",
       "      <th>landing_page</th>\n",
       "      <th>converted</th>\n",
       "    </tr>\n",
       "  </thead>\n",
       "  <tbody>\n",
       "    <tr>\n",
       "      <th>2893</th>\n",
       "      <td>773192</td>\n",
       "      <td>55:59.6</td>\n",
       "      <td>treatment</td>\n",
       "      <td>new_page</td>\n",
       "      <td>0</td>\n",
       "    </tr>\n",
       "    <tr>\n",
       "      <th>294478</th>\n",
       "      <td>759899</td>\n",
       "      <td>20:29.0</td>\n",
       "      <td>treatment</td>\n",
       "      <td>new_page</td>\n",
       "      <td>0</td>\n",
       "    </tr>\n",
       "  </tbody>\n",
       "</table>\n",
       "</div>"
      ],
      "text/plain": [
       "        user_id timestamp      group landing_page  converted\n",
       "2893     773192   55:59.6  treatment     new_page          0\n",
       "294478   759899   20:29.0  treatment     new_page          0"
      ]
     },
     "execution_count": 19,
     "metadata": {},
     "output_type": "execute_result"
    }
   ],
   "source": [
    "df_cleaned[df_cleaned['user_id'].duplicated()]"
   ]
  },
  {
   "cell_type": "code",
   "execution_count": 21,
   "id": "501f3519-55b9-4a03-bc41-c37885861c0c",
   "metadata": {},
   "outputs": [
    {
     "data": {
      "text/html": [
       "<div>\n",
       "<style scoped>\n",
       "    .dataframe tbody tr th:only-of-type {\n",
       "        vertical-align: middle;\n",
       "    }\n",
       "\n",
       "    .dataframe tbody tr th {\n",
       "        vertical-align: top;\n",
       "    }\n",
       "\n",
       "    .dataframe thead th {\n",
       "        text-align: right;\n",
       "    }\n",
       "</style>\n",
       "<table border=\"1\" class=\"dataframe\">\n",
       "  <thead>\n",
       "    <tr style=\"text-align: right;\">\n",
       "      <th></th>\n",
       "      <th>user_id</th>\n",
       "      <th>timestamp</th>\n",
       "      <th>group</th>\n",
       "      <th>landing_page</th>\n",
       "      <th>converted</th>\n",
       "    </tr>\n",
       "  </thead>\n",
       "  <tbody>\n",
       "    <tr>\n",
       "      <th>1899</th>\n",
       "      <td>773192</td>\n",
       "      <td>37:58.8</td>\n",
       "      <td>treatment</td>\n",
       "      <td>new_page</td>\n",
       "      <td>0</td>\n",
       "    </tr>\n",
       "    <tr>\n",
       "      <th>2893</th>\n",
       "      <td>773192</td>\n",
       "      <td>55:59.6</td>\n",
       "      <td>treatment</td>\n",
       "      <td>new_page</td>\n",
       "      <td>0</td>\n",
       "    </tr>\n",
       "  </tbody>\n",
       "</table>\n",
       "</div>"
      ],
      "text/plain": [
       "      user_id timestamp      group landing_page  converted\n",
       "1899   773192   37:58.8  treatment     new_page          0\n",
       "2893   773192   55:59.6  treatment     new_page          0"
      ]
     },
     "execution_count": 21,
     "metadata": {},
     "output_type": "execute_result"
    }
   ],
   "source": [
    "df_cleaned[df_cleaned['user_id'] == 773192]"
   ]
  },
  {
   "cell_type": "code",
   "execution_count": 22,
   "id": "53d5daf1-9f8e-4f58-8ecf-8c2f7771db51",
   "metadata": {},
   "outputs": [
    {
     "data": {
      "text/html": [
       "<div>\n",
       "<style scoped>\n",
       "    .dataframe tbody tr th:only-of-type {\n",
       "        vertical-align: middle;\n",
       "    }\n",
       "\n",
       "    .dataframe tbody tr th {\n",
       "        vertical-align: top;\n",
       "    }\n",
       "\n",
       "    .dataframe thead th {\n",
       "        text-align: right;\n",
       "    }\n",
       "</style>\n",
       "<table border=\"1\" class=\"dataframe\">\n",
       "  <thead>\n",
       "    <tr style=\"text-align: right;\">\n",
       "      <th></th>\n",
       "      <th>user_id</th>\n",
       "      <th>timestamp</th>\n",
       "      <th>group</th>\n",
       "      <th>landing_page</th>\n",
       "      <th>converted</th>\n",
       "    </tr>\n",
       "  </thead>\n",
       "  <tbody>\n",
       "    <tr>\n",
       "      <th>250001</th>\n",
       "      <td>759899</td>\n",
       "      <td>07:36.1</td>\n",
       "      <td>treatment</td>\n",
       "      <td>new_page</td>\n",
       "      <td>0</td>\n",
       "    </tr>\n",
       "    <tr>\n",
       "      <th>294478</th>\n",
       "      <td>759899</td>\n",
       "      <td>20:29.0</td>\n",
       "      <td>treatment</td>\n",
       "      <td>new_page</td>\n",
       "      <td>0</td>\n",
       "    </tr>\n",
       "  </tbody>\n",
       "</table>\n",
       "</div>"
      ],
      "text/plain": [
       "        user_id timestamp      group landing_page  converted\n",
       "250001   759899   07:36.1  treatment     new_page          0\n",
       "294478   759899   20:29.0  treatment     new_page          0"
      ]
     },
     "execution_count": 22,
     "metadata": {},
     "output_type": "execute_result"
    }
   ],
   "source": [
    "df_cleaned[df_cleaned['user_id'] == 759899]"
   ]
  },
  {
   "cell_type": "markdown",
   "id": "d66b6fd6-bc5b-4cbf-a0b8-b5c73cf6e206",
   "metadata": {},
   "source": [
    "## Доверительный интервал "
   ]
  },
  {
   "cell_type": "markdown",
   "id": "888456b9-4164-4cf1-9c3e-902e888e43bf",
   "metadata": {},
   "source": [
    "Сравним проценты конверсии для групп"
   ]
  },
  {
   "cell_type": "code",
   "execution_count": 23,
   "id": "ef9b3edc-0715-4bd2-9b23-3b4c141d4af0",
   "metadata": {},
   "outputs": [
    {
     "data": {
      "text/html": [
       "<div>\n",
       "<style scoped>\n",
       "    .dataframe tbody tr th:only-of-type {\n",
       "        vertical-align: middle;\n",
       "    }\n",
       "\n",
       "    .dataframe tbody tr th {\n",
       "        vertical-align: top;\n",
       "    }\n",
       "\n",
       "    .dataframe thead th {\n",
       "        text-align: right;\n",
       "    }\n",
       "</style>\n",
       "<table border=\"1\" class=\"dataframe\">\n",
       "  <thead>\n",
       "    <tr style=\"text-align: right;\">\n",
       "      <th></th>\n",
       "      <th>landing_page</th>\n",
       "      <th>count</th>\n",
       "      <th>mean</th>\n",
       "    </tr>\n",
       "  </thead>\n",
       "  <tbody>\n",
       "    <tr>\n",
       "      <th>0</th>\n",
       "      <td>new_page</td>\n",
       "      <td>145313</td>\n",
       "      <td>11.880561</td>\n",
       "    </tr>\n",
       "    <tr>\n",
       "      <th>1</th>\n",
       "      <td>old_page</td>\n",
       "      <td>145274</td>\n",
       "      <td>12.038630</td>\n",
       "    </tr>\n",
       "  </tbody>\n",
       "</table>\n",
       "</div>"
      ],
      "text/plain": [
       "  landing_page   count       mean\n",
       "0     new_page  145313  11.880561\n",
       "1     old_page  145274  12.038630"
      ]
     },
     "execution_count": 23,
     "metadata": {},
     "output_type": "execute_result"
    }
   ],
   "source": [
    "conv = df_cleaned.groupby('landing_page')['converted'].agg(['count', 'mean']).reset_index()\n",
    "conv['mean'] = conv['mean'] * 100\n",
    "conv"
   ]
  },
  {
   "cell_type": "markdown",
   "id": "749ea1cf-c9ff-43a7-b08b-d0b29d83a439",
   "metadata": {},
   "source": [
    "Кажется, есть небольшое ухудшение в конверсии пользователей, которым показывалась новая посадочная страница. Для старой посадочной страницы конверсия - 12%, для новой 11,8%. Хочется узнать, значима ли эта разница?\n",
    "\n",
    "Построим 95%-й доверительный интервал для разницы долей."
   ]
  },
  {
   "cell_type": "code",
   "execution_count": 26,
   "id": "ca8c64c0-0d30-49da-a05c-3c34460dc0fd",
   "metadata": {},
   "outputs": [
    {
     "name": "stdout",
     "output_type": "stream",
     "text": [
      "Доверительный интервал [-0.00394; 0.00078] ширины 0.00472\n"
     ]
    }
   ],
   "source": [
    "x = df_cleaned[df_cleaned.landing_page == 'new_page'].converted.values\n",
    "y = df_cleaned[df_cleaned.landing_page == 'old_page'].converted.values\n",
    "\n",
    "diff = x.mean() - y.mean() # разница средних\n",
    "nx, ny = x.size, y.size # размеры долей\n",
    "diff_std = np.sqrt(x.var(ddof=1)/nx + y.var(ddof=1)/nx) # стандартное отклонение долей\n",
    "\n",
    "left, right = stats.norm.interval(0.95, loc=diff, scale=diff_std)\n",
    "print(f'Доверительный интервал [{round(left, 5)}; {round(right, 5)}] ширины {round(right-left, 5)}')"
   ]
  },
  {
   "cell_type": "markdown",
   "id": "e8a8c7ae-0e31-4b70-944b-72a7572fb118",
   "metadata": {},
   "source": [
    "Ноль входит в доверительный интервал, поэтому на уровне значимости 5% можно сделать вывод о том, что изменения не значимы.\n",
    "\n",
    "Проверим гипотезу о равенстве средних, используя z-критерий.\n",
    "\n",
    "Нулевая гипотеза H0: Средние не отличаются.\n",
    "\n",
    "Альтернативная гипотеза H1: Существуют различия в средних значениях."
   ]
  },
  {
   "cell_type": "code",
   "execution_count": 27,
   "id": "3ce6a25d-f856-4ce5-b36a-4bc41d9d3d11",
   "metadata": {},
   "outputs": [
    {
     "name": "stdout",
     "output_type": "stream",
     "text": [
      "-1.31 попадает в (-1.96 , 1.96) => Нулевая гипотеза НЕ отвергается\n"
     ]
    }
   ],
   "source": [
    "alpha = 0.05\n",
    "\n",
    "z_obs = diff/diff_std # наблюдаемое значение z-критерия\n",
    "z_crit = stats.norm.ppf(1 - alpha/2) # критическое значение z-критерия\n",
    "\n",
    "print(f'{z_obs:.3} попадает в ({-z_crit:.3} , {z_crit:.3}) => Нулевая гипотеза НЕ отвергается')"
   ]
  },
  {
   "cell_type": "markdown",
   "id": "d81d52b5-db1c-403f-a7a5-c94b301c354a",
   "metadata": {},
   "source": [
    "Наблюдаемое значение z-критерия попадает в критический интервал, значит на уровне значимости 5% можно сделать вывод о том, что изменения не значимы.\n",
    "\n",
    "Зная наблюдаемое значение z-критерия, посчитаем p-уровень значимости."
   ]
  },
  {
   "cell_type": "code",
   "execution_count": 28,
   "id": "5e04b9ce-17ac-4bad-a1b1-5cd4f17a9f70",
   "metadata": {},
   "outputs": [
    {
     "name": "stdout",
     "output_type": "stream",
     "text": [
      "p-уровень значимости = 0.1891623336124968\n"
     ]
    }
   ],
   "source": [
    "print(f'p-уровень значимости = {2 * (1 - stats.norm().cdf(np.abs(z_obs)))}')"
   ]
  },
  {
   "cell_type": "markdown",
   "id": "d54c09b1-664a-4055-83cb-24874a2fbebb",
   "metadata": {},
   "source": [
    "p-уровень значимости больше 0.05, что также не позволяет отклонить гипотезу о равенстве средних."
   ]
  },
  {
   "cell_type": "markdown",
   "id": "14a5f708-0937-4686-b8f2-a0507fd8000b",
   "metadata": {},
   "source": [
    "## Критерий хи-квадрат Пирсона"
   ]
  },
  {
   "cell_type": "markdown",
   "id": "d974c9ff-da93-41a5-9cf4-3a1465f7623e",
   "metadata": {},
   "source": [
    "Мы можем оценить значимость различий между двумя группами, используя критерий хи-квадрат Пирсона. Для начала построим таблицу сопряженности.\n",
    "\n",
    "Посмотрим на количество и процент пользователей, совершивших покупку и не совершивших покупку, отдельно в контрольной и экспериментальной группах."
   ]
  },
  {
   "cell_type": "code",
   "execution_count": 29,
   "id": "a0e5efef-bf1b-4bc3-bc38-596d30304d53",
   "metadata": {},
   "outputs": [
    {
     "data": {
      "text/html": [
       "<div>\n",
       "<style scoped>\n",
       "    .dataframe tbody tr th:only-of-type {\n",
       "        vertical-align: middle;\n",
       "    }\n",
       "\n",
       "    .dataframe tbody tr th {\n",
       "        vertical-align: top;\n",
       "    }\n",
       "\n",
       "    .dataframe thead th {\n",
       "        text-align: right;\n",
       "    }\n",
       "</style>\n",
       "<table border=\"1\" class=\"dataframe\">\n",
       "  <thead>\n",
       "    <tr style=\"text-align: right;\">\n",
       "      <th></th>\n",
       "      <th>Кол-во в контр. группе</th>\n",
       "      <th>Кол-во в эксп. группе</th>\n",
       "      <th>% в контр. группе</th>\n",
       "      <th>% в эксп. группе</th>\n",
       "    </tr>\n",
       "    <tr>\n",
       "      <th>converted</th>\n",
       "      <th></th>\n",
       "      <th></th>\n",
       "      <th></th>\n",
       "      <th></th>\n",
       "    </tr>\n",
       "  </thead>\n",
       "  <tbody>\n",
       "    <tr>\n",
       "      <th>0</th>\n",
       "      <td>127785</td>\n",
       "      <td>128049</td>\n",
       "      <td>0.879614</td>\n",
       "      <td>0.881194</td>\n",
       "    </tr>\n",
       "    <tr>\n",
       "      <th>1</th>\n",
       "      <td>17489</td>\n",
       "      <td>17264</td>\n",
       "      <td>0.120386</td>\n",
       "      <td>0.118806</td>\n",
       "    </tr>\n",
       "  </tbody>\n",
       "</table>\n",
       "</div>"
      ],
      "text/plain": [
       "           Кол-во в контр. группе  Кол-во в эксп. группе  % в контр. группе  \\\n",
       "converted                                                                     \n",
       "0                          127785                 128049           0.879614   \n",
       "1                           17489                  17264           0.120386   \n",
       "\n",
       "           % в эксп. группе  \n",
       "converted                    \n",
       "0                  0.881194  \n",
       "1                  0.118806  "
      ]
     },
     "execution_count": 29,
     "metadata": {},
     "output_type": "execute_result"
    }
   ],
   "source": [
    "df_counts = pd.DataFrame({'Кол-во в контр. группе': df_cleaned[df_cleaned.group=='control'].converted.value_counts(),\n",
    "              'Кол-во в эксп. группе': df_cleaned[df_cleaned.group=='treatment'].converted.value_counts(),\n",
    "              '% в контр. группе': df_cleaned[df_cleaned.group=='control'].converted.value_counts()/ len(df_cleaned[df_cleaned.group=='control']),\n",
    "              '% в эксп. группе': df_cleaned[df_cleaned.group=='treatment'].converted.value_counts() / len(df_cleaned[df_cleaned.group=='treatment'])})\n",
    "df_counts"
   ]
  },
  {
   "cell_type": "code",
   "execution_count": null,
   "id": "37a78e42-bf1a-43d1-a277-ebf175a094f2",
   "metadata": {},
   "outputs": [],
   "source": [
    "Для исследования возьмем из таблицы первые две колонки с количеством пользователей."
   ]
  },
  {
   "cell_type": "code",
   "execution_count": 30,
   "id": "ab32c360-e714-4aca-9776-fd9bec0b45f0",
   "metadata": {},
   "outputs": [
    {
     "data": {
      "text/plain": [
       "array([[127785, 128049],\n",
       "       [ 17489,  17264]])"
      ]
     },
     "execution_count": 30,
     "metadata": {},
     "output_type": "execute_result"
    }
   ],
   "source": [
    "count_table = df_counts.iloc[:,0:2].to_numpy()\n",
    "count_table"
   ]
  },
  {
   "cell_type": "markdown",
   "id": "f7f030bf-e03f-459d-b85b-0ed5a5104ab6",
   "metadata": {},
   "source": [
    "Нулевая гипотеза H0: Распределение не отличается от ожидаемого.\n",
    "\n",
    "Альтернативная гипотеза H1: Распределение отличается (существует статистически значимая разница между конверсиями в зависимости от версии посадочной страницы)."
   ]
  },
  {
   "cell_type": "code",
   "execution_count": 32,
   "id": "f39f594b-def5-4fe1-8319-1cfb3e784e2a",
   "metadata": {},
   "outputs": [
    {
     "name": "stdout",
     "output_type": "stream",
     "text": [
      "Число степеней свободы: 1\n",
      "####################################### \n",
      "\n",
      "Ожидаемое распределение: \n",
      "[[127899.83211912 127934.16788088]\n",
      " [ 17374.16788088  17378.83211912]]\n",
      "####################################### \n",
      "\n",
      "Критическое значение статистики: 3.84\n",
      "Полученное значение статистики: 1.71\n",
      "####################################### \n",
      "\n",
      "Критическое значение p-уровня значимости: 0.05\n",
      "Полученное значение p-уровня значимости: 0.19\n",
      "####################################### \n",
      "\n"
     ]
    }
   ],
   "source": [
    "stat, p, dof, expected = stats.chi2_contingency(count_table) # результаты теста\n",
    "print(f'Число степеней свободы: {dof}')\n",
    "print('#######################################', '\\n')\n",
    "\n",
    "print('Ожидаемое распределение: ')\n",
    "print(expected)\n",
    "print('#######################################', '\\n')\n",
    "\n",
    "prob = 0.95\n",
    "critical = stats.chi2.ppf(prob, dof)\n",
    "print(f'Критическое значение статистики: {round(critical, 2)}')\n",
    "print(f'Полученное значение статистики: {round(stat, 2)}')\n",
    "print('#######################################', '\\n')\n",
    "\n",
    "alpha = 1-prob\n",
    "print(f'Критическое значение p-уровня значимости: {round(alpha, 2)}')\n",
    "print(f'Полученное значение p-уровня значимости: {round(p, 2)}')\n",
    "print('#######################################', '\\n')"
   ]
  },
  {
   "cell_type": "markdown",
   "id": "eb4554a8-fb65-4a2f-96d5-435e2e531ce9",
   "metadata": {},
   "source": [
    "Наблюдаемое значение p-уровня значимости больше критического значения, поэтому можно сделать вывод, что статистически значимой разницы между конверсиями нет."
   ]
  },
  {
   "cell_type": "markdown",
   "id": "bce701c7-89dc-4197-bdea-31d62370b53d",
   "metadata": {},
   "source": [
    "##  Бутстрэп"
   ]
  },
  {
   "cell_type": "markdown",
   "id": "65d32676-1790-4a33-be74-a045096f1b47",
   "metadata": {},
   "source": [
    "Сделаем 10000 бутстрэп выборок и посчитаем средние значения конверсии по каждой версии посадочной страницы. Затем посмотрим на распределние средних."
   ]
  },
  {
   "cell_type": "code",
   "execution_count": 38,
   "id": "70c26b67-0f84-4623-853d-e92e39b02479",
   "metadata": {},
   "outputs": [
    {
     "name": "stderr",
     "output_type": "stream",
     "text": [
      "                                                    \r"
     ]
    }
   ],
   "source": [
    "boot_1d = []\n",
    "for i in tqdm(range(10000), leave=False):\n",
    "    boot_mean = df_cleaned.sample(frac=1, replace=True).groupby('landing_page').converted.mean()\n",
    "    boot_1d.append(boot_mean)\n",
    "    \n",
    "boot_1d = pd.DataFrame(boot_1d)"
   ]
  },
  {
   "cell_type": "code",
   "execution_count": 41,
   "id": "9510cea0-bcbf-4535-8471-2ce2b1ad41be",
   "metadata": {},
   "outputs": [
    {
     "data": {
      "application/vnd.plotly.v1+json": {
       "config": {
        "plotlyServerURL": "https://plot.ly"
       },
       "data": [
        {
         "legendgroup": "Новый лендинг",
         "marker": {
          "color": "#A56CC1"
         },
         "mode": "lines",
         "name": "Новый лендинг",
         "showlegend": true,
         "type": "scatter",
         "x": [
          0.11582286319787524,
          0.11583522705614403,
          0.11584759091441281,
          0.1158599547726816,
          0.11587231863095039,
          0.11588468248921917,
          0.11589704634748796,
          0.11590941020575675,
          0.11592177406402553,
          0.11593413792229432,
          0.11594650178056311,
          0.11595886563883188,
          0.11597122949710068,
          0.11598359335536947,
          0.11599595721363824,
          0.11600832107190703,
          0.11602068493017582,
          0.11603304878844461,
          0.11604541264671339,
          0.11605777650498218,
          0.11607014036325097,
          0.11608250422151975,
          0.11609486807978854,
          0.11610723193805733,
          0.11611959579632611,
          0.1161319596545949,
          0.11614432351286369,
          0.11615668737113247,
          0.11616905122940126,
          0.11618141508767005,
          0.11619377894593882,
          0.11620614280420762,
          0.1162185066624764,
          0.11623087052074518,
          0.11624323437901397,
          0.11625559823728276,
          0.11626796209555154,
          0.11628032595382033,
          0.11629268981208912,
          0.1163050536703579,
          0.11631741752862669,
          0.11632978138689548,
          0.11634214524516426,
          0.11635450910343305,
          0.11636687296170184,
          0.11637923681997063,
          0.1163916006782394,
          0.1164039645365082,
          0.11641632839477699,
          0.11642869225304577,
          0.11644105611131456,
          0.11645341996958335,
          0.11646578382785212,
          0.11647814768612091,
          0.1164905115443897,
          0.11650287540265848,
          0.11651523926092727,
          0.11652760311919606,
          0.11653996697746484,
          0.11655233083573363,
          0.11656469469400242,
          0.1165770585522712,
          0.11658942241053999,
          0.11660178626880878,
          0.11661415012707756,
          0.11662651398534635,
          0.11663887784361514,
          0.11665124170188391,
          0.1166636055601527,
          0.1166759694184215,
          0.11668833327669027,
          0.11670069713495906,
          0.11671306099322785,
          0.11672542485149663,
          0.11673778870976542,
          0.11675015256803421,
          0.116762516426303,
          0.11677488028457178,
          0.11678724414284057,
          0.11679960800110936,
          0.11681197185937814,
          0.11682433571764693,
          0.11683669957591572,
          0.1168490634341845,
          0.11686142729245329,
          0.11687379115072208,
          0.11688615500899086,
          0.11689851886725965,
          0.11691088272552844,
          0.11692324658379721,
          0.116935610442066,
          0.1169479743003348,
          0.11696033815860357,
          0.11697270201687236,
          0.11698506587514115,
          0.11699742973340993,
          0.11700979359167872,
          0.11702215744994751,
          0.11703452130821629,
          0.11704688516648508,
          0.11705924902475387,
          0.11707161288302265,
          0.11708397674129144,
          0.11709634059956023,
          0.11710870445782902,
          0.1171210683160978,
          0.11713343217436659,
          0.11714579603263538,
          0.11715815989090415,
          0.11717052374917294,
          0.11718288760744174,
          0.11719525146571051,
          0.1172076153239793,
          0.1172199791822481,
          0.11723234304051687,
          0.11724470689878566,
          0.11725707075705445,
          0.11726943461532323,
          0.11728179847359202,
          0.11729416233186081,
          0.11730652619012959,
          0.11731889004839838,
          0.11733125390666717,
          0.11734361776493595,
          0.11735598162320474,
          0.11736834548147353,
          0.1173807093397423,
          0.1173930731980111,
          0.11740543705627988,
          0.11741780091454866,
          0.11743016477281745,
          0.11744252863108624,
          0.11745489248935503,
          0.11746725634762381,
          0.1174796202058926,
          0.11749198406416139,
          0.11750434792243017,
          0.11751671178069896,
          0.11752907563896775,
          0.11754143949723653,
          0.11755380335550532,
          0.11756616721377411,
          0.11757853107204289,
          0.11759089493031168,
          0.11760325878858047,
          0.11761562264684924,
          0.11762798650511803,
          0.11764035036338683,
          0.1176527142216556,
          0.11766507807992439,
          0.11767744193819318,
          0.11768980579646196,
          0.11770216965473075,
          0.11771453351299954,
          0.11772689737126832,
          0.11773926122953711,
          0.1177516250878059,
          0.11776398894607468,
          0.11777635280434347,
          0.11778871666261226,
          0.11780108052088104,
          0.11781344437914983,
          0.11782580823741862,
          0.1178381720956874,
          0.11785053595395618,
          0.11786289981222497,
          0.11787526367049377,
          0.11788762752876254,
          0.11789999138703133,
          0.11791235524530012,
          0.1179247191035689,
          0.11793708296183769,
          0.11794944682010648,
          0.11796181067837526,
          0.11797417453664405,
          0.11798653839491284,
          0.11799890225318162,
          0.11801126611145041,
          0.1180236299697192,
          0.11803599382798798,
          0.11804835768625677,
          0.11806072154452556,
          0.11807308540279433,
          0.11808544926106312,
          0.11809781311933192,
          0.11811017697760069,
          0.11812254083586948,
          0.11813490469413827,
          0.11814726855240705,
          0.11815963241067584,
          0.11817199626894463,
          0.11818436012721342,
          0.1181967239854822,
          0.11820908784375099,
          0.11822145170201978,
          0.11823381556028856,
          0.11824617941855735,
          0.11825854327682614,
          0.11827090713509492,
          0.1182832709933637,
          0.1182956348516325,
          0.11830799870990127,
          0.11832036256817006,
          0.11833272642643886,
          0.11834509028470763,
          0.11835745414297642,
          0.11836981800124521,
          0.11838218185951399,
          0.11839454571778278,
          0.11840690957605157,
          0.11841927343432035,
          0.11843163729258914,
          0.11844400115085793,
          0.11845636500912671,
          0.1184687288673955,
          0.11848109272566429,
          0.11849345658393307,
          0.11850582044220186,
          0.11851818430047065,
          0.11853054815873942,
          0.11854291201700821,
          0.118555275875277,
          0.1185676397335458,
          0.11858000359181457,
          0.11859236745008336,
          0.11860473130835215,
          0.11861709516662093,
          0.11862945902488972,
          0.11864182288315851,
          0.11865418674142729,
          0.11866655059969608,
          0.11867891445796487,
          0.11869127831623365,
          0.11870364217450244,
          0.11871600603277123,
          0.11872836989104,
          0.1187407337493088,
          0.11875309760757759,
          0.11876546146584636,
          0.11877782532411515,
          0.11879018918238395,
          0.11880255304065272,
          0.11881491689892151,
          0.1188272807571903,
          0.11883964461545908,
          0.11885200847372787,
          0.11886437233199666,
          0.11887673619026544,
          0.11888910004853423,
          0.11890146390680302,
          0.11891382776507181,
          0.11892619162334059,
          0.11893855548160938,
          0.11895091933987817,
          0.11896328319814695,
          0.11897564705641574,
          0.11898801091468453,
          0.1190003747729533,
          0.1190127386312221,
          0.11902510248949089,
          0.11903746634775966,
          0.11904983020602845,
          0.11906219406429724,
          0.11907455792256602,
          0.11908692178083481,
          0.1190992856391036,
          0.11911164949737238,
          0.11912401335564117,
          0.11913637721390996,
          0.11914874107217874,
          0.11916110493044753,
          0.11917346878871632,
          0.1191858326469851,
          0.11919819650525389,
          0.11921056036352268,
          0.11922292422179145,
          0.11923528808006024,
          0.11924765193832904,
          0.11926001579659781,
          0.1192723796548666,
          0.1192847435131354,
          0.11929710737140417,
          0.11930947122967296,
          0.11932183508794175,
          0.11933419894621054,
          0.11934656280447932,
          0.11935892666274811,
          0.1193712905210169,
          0.11938365437928568,
          0.11939601823755447,
          0.11940838209582326,
          0.11942074595409204,
          0.11943310981236083,
          0.11944547367062962,
          0.1194578375288984,
          0.11947020138716719,
          0.11948256524543598,
          0.11949492910370475,
          0.11950729296197354,
          0.11951965682024233,
          0.11953202067851111,
          0.1195443845367799,
          0.11955674839504869,
          0.11956911225331747,
          0.11958147611158626,
          0.11959383996985505,
          0.11960620382812383,
          0.11961856768639262,
          0.11963093154466141,
          0.1196432954029302,
          0.11965565926119898,
          0.11966802311946777,
          0.11968038697773656,
          0.11969275083600533,
          0.11970511469427413,
          0.11971747855254292,
          0.1197298424108117,
          0.11974220626908048,
          0.11975457012734927,
          0.11976693398561805,
          0.11977929784388684,
          0.11979166170215563,
          0.11980402556042441,
          0.1198163894186932,
          0.11982875327696199,
          0.11984111713523077,
          0.11985348099349956,
          0.11986584485176835,
          0.11987820871003713,
          0.11989057256830592,
          0.11990293642657471,
          0.11991530028484348,
          0.11992766414311228,
          0.11994002800138107,
          0.11995239185964984,
          0.11996475571791863,
          0.11997711957618742,
          0.1199894834344562,
          0.12000184729272499,
          0.12001421115099378,
          0.12002657500926256,
          0.12003893886753135,
          0.12005130272580014,
          0.12006366658406892,
          0.12007603044233771,
          0.1200883943006065,
          0.12010075815887529,
          0.12011312201714407,
          0.12012548587541286,
          0.12013784973368165,
          0.12015021359195042,
          0.12016257745021922,
          0.120174941308488,
          0.12018730516675678,
          0.12019966902502557,
          0.12021203288329436,
          0.12022439674156314,
          0.12023676059983193,
          0.12024912445810072,
          0.1202614883163695,
          0.12027385217463829,
          0.12028621603290708,
          0.12029857989117586,
          0.12031094374944465,
          0.12032330760771344,
          0.12033567146598223,
          0.12034803532425101,
          0.1203603991825198,
          0.12037276304078859,
          0.12038512689905737,
          0.12039749075732616,
          0.12040985461559495,
          0.12042221847386372,
          0.12043458233213251,
          0.1204469461904013,
          0.12045931004867008,
          0.12047167390693887,
          0.12048403776520766,
          0.12049640162347644,
          0.12050876548174523,
          0.12052112934001402,
          0.1205334931982828,
          0.12054585705655159,
          0.12055822091482038,
          0.12057058477308916,
          0.12058294863135795,
          0.12059531248962674,
          0.12060767634789551,
          0.1206200402061643,
          0.1206324040644331,
          0.12064476792270187,
          0.12065713178097066,
          0.12066949563923945,
          0.12068185949750823,
          0.12069422335577702,
          0.12070658721404581,
          0.12071895107231459,
          0.12073131493058338,
          0.12074367878885217,
          0.12075604264712096,
          0.12076840650538974,
          0.12078077036365853,
          0.12079313422192732,
          0.1208054980801961,
          0.12081786193846489,
          0.12083022579673368,
          0.12084258965500246,
          0.12085495351327125,
          0.12086731737154004,
          0.12087968122980881,
          0.1208920450880776,
          0.1209044089463464,
          0.12091677280461517,
          0.12092913666288396,
          0.12094150052115275,
          0.12095386437942153,
          0.12096622823769032,
          0.12097859209595911,
          0.12099095595422789,
          0.12100331981249668,
          0.12101568367076547,
          0.12102804752903425,
          0.12104041138730304,
          0.12105277524557183,
          0.12106513910384062,
          0.1210775029621094,
          0.12108986682037819,
          0.12110223067864698,
          0.12111459453691575,
          0.12112695839518454,
          0.12113932225345334,
          0.12115168611172211,
          0.1211640499699909,
          0.1211764138282597,
          0.12118877768652847,
          0.12120114154479726,
          0.12121350540306605,
          0.12122586926133483,
          0.12123823311960362,
          0.12125059697787241,
          0.12126296083614119,
          0.12127532469440998,
          0.12128768855267877,
          0.12130005241094755,
          0.12131241626921634,
          0.12132478012748513,
          0.1213371439857539,
          0.1213495078440227,
          0.12136187170229149,
          0.12137423556056026,
          0.12138659941882905,
          0.12139896327709784,
          0.12141132713536662,
          0.12142369099363541,
          0.1214360548519042,
          0.12144841871017298,
          0.12146078256844177,
          0.12147314642671056,
          0.12148551028497934,
          0.12149787414324813,
          0.12151023800151692,
          0.12152260185978571,
          0.12153496571805449,
          0.12154732957632328,
          0.12155969343459207,
          0.12157205729286084,
          0.12158442115112963,
          0.12159678500939843,
          0.1216091488676672,
          0.12162151272593599,
          0.12163387658420478,
          0.12164624044247356,
          0.12165860430074235,
          0.12167096815901114,
          0.12168333201727992,
          0.12169569587554871,
          0.1217080597338175,
          0.12172042359208628,
          0.12173278745035507,
          0.12174515130862386,
          0.12175751516689264,
          0.12176987902516143,
          0.12178224288343022,
          0.12179460674169901,
          0.12180697059996778,
          0.12181933445823658,
          0.12183169831650537,
          0.12184406217477414,
          0.12185642603304293,
          0.12186878989131172,
          0.1218811537495805,
          0.12189351760784929,
          0.12190588146611808,
          0.12191824532438686,
          0.12193060918265565,
          0.12194297304092444,
          0.12195533689919322,
          0.12196770075746201,
          0.1219800646157308,
          0.12199242847399958
         ],
         "xaxis": "x",
         "y": [
          0.9721400688468377,
          1.073946959139683,
          1.1828490549102022,
          1.2987718263036614,
          1.4215154193878363,
          1.5507441025961748,
          1.6859806771115127,
          1.8266067821409628,
          1.9718697149708069,
          2.120896005346234,
          2.2727115644303337,
          2.4262678062821426,
          2.5804727523428785,
          2.7342258125154006,
          2.886454719453794,
          3.0361529950983095,
          3.1824163572767996,
          3.324476622685558,
          3.4617319108139744,
          3.593772270387103,
          3.7204001970148397,
          3.841645846345475,
          3.9577770316355907,
          4.0693042959049865,
          4.176981445762899,
          4.281801919842425,
          4.38499124830579,
          4.487995664548743,
          4.592466691559973,
          4.700241286864367,
          4.813316937717225,
          4.933820995286007,
          5.063973557601836,
          5.206043377694785,
          5.362296591103924,
          5.534938514088762,
          5.72604933183066,
          5.937515131882272,
          6.170956388884366,
          6.427656613486379,
          6.708494382776562,
          7.013882317940459,
          7.343716723979093,
          7.697341526440192,
          8.073529817928527,
          8.470485766738896,
          8.885868862530277,
          9.316841516800775,
          9.760139949522285,
          10.212167138528672,
          10.669105452202889,
          11.12704549793652,
          11.58212676577524,
          12.030684888803783,
          12.469399828779146,
          12.895439062475955,
          13.30658990913336,
          13.70137550163303,
          14.07914954352662,
          14.440165872655122,
          14.785619916257001,
          15.117660306962993,
          15.439370162418392,
          15.754718741329762,
          16.068485308737703,
          16.386158017102375,
          16.713811396107065,
          17.057966619180597,
          17.425439072838365,
          17.8231779071526,
          18.258102216662017,
          18.736938324603685,
          19.266062357444923,
          19.851351938054282,
          20.498050425789327,
          21.21064671317994,
          21.992773164675636,
          22.847123856677314,
          23.77539484592842,
          24.778247747182938,
          25.855297432450193,
          27.0051241673842,
          28.22530997622774,
          29.51249848298399,
          30.8624769285656,
          32.27027853306406,
          33.730302883443144,
          35.23645160410195,
          36.78227623087633,
          38.36113497112789,
          39.9663548969373,
          41.59139607900824,
          43.23001421054586,
          44.87641837208639,
          46.525420726475964,
          48.1725750864889,
          49.814301450110285,
          51.44799374368908,
          53.07210815534424,
          54.68622959450227,
          56.29111400191604,
          57.88870448611883,
          59.48211960566024,
          61.07561257547567,
          62.67450076491556,
          64.2850655754308,
          65.91442362462342,
          67.5703710916711,
          69.26120405666714,
          70.99551864280086,
          72.78199569169891,
          74.62917551537902,
          76.54522892495405,
          78.53773119820141,
          80.61344588781968,
          82.77812537427829,
          85.03633482773529,
          87.39130576773161,
          89.84482470998265,
          92.39716148394763,
          95.04704071432694,
          97.7916587078386,
          100.62674660067758,
          103.54667913385016,
          106.54462686974752,
          109.61274808900643,
          112.74241506448205,
          115.92446795857317,
          119.14948829772794,
          122.4080829115717,
          125.69116845012002,
          128.990246170814,
          132.29765666484965,
          135.60680460062687,
          138.91234441186486,
          142.21031913770128,
          145.4982462983759,
          148.77514670667534,
          152.0415143983052,
          155.29922832247294,
          158.5514089642271,
          161.80222556164134,
          165.0566619181887,
          168.32025087860927,
          171.59878922421714,
          174.89804594941054,
          178.22347751704038,
          181.57996368835117,
          184.9715768415774,
          188.40139632063705,
          191.8713773187406,
          195.3822811686403,
          198.933670790728,
          202.5239715941437,
          206.15059452013023,
          209.81011437397865,
          213.49849333893619,
          217.21133682589942,
          220.94416679162813,
          224.69269652206785,
          228.4530907401971,
          232.2221958062255,
          235.9977267050718,
          239.77840035825065,
          243.56400837809403,
          247.35542646384053,
          251.15456193804505,
          254.9642451273285,
          258.7880740927692,
          262.6302253195203,
          266.4952451359306,
          270.3878376647017,
          274.3126649078431,
          278.2741731186393,
          282.2764569958464,
          286.3231696192886,
          290.41748168725087,
          294.56208883769074,
          298.75926101221233,
          303.01092335178987,
          307.31875439144414,
          311.6842847091108,
          316.1089779781436,
          320.5942767764541,
          325.1415976029525,
          329.7522632923556,
          334.4273662060383,
          339.16756187142744,
          343.97279968157045,
          348.8420042890669,
          353.7727278185434,
          358.7607983602227,
          363.79999382551864,
          368.8817716892344,
          373.9950841159606,
          379.1263043796998,
          384.25928446814635,
          389.3755556774804,
          394.454674416788,
          399.474705082695,
          404.41282156493116,
          409.2459995579576,
          413.9517641819415,
          418.5089521254312,
          422.8984450821478,
          427.1038318892971,
          431.11196044733714,
          434.9133469135031,
          438.5024182906876,
          441.8775746870676,
          445.0410684054786,
          447.9987078187004,
          450.7594039328471,
          453.3345859905655,
          455.73751893782986,
          457.9825597878317,
          460.0843917741823,
          462.0572747879916,
          463.91434818137407,
          465.6670179408673,
          467.32445488926413,
          468.893224374296,
          470.37706122835283,
          471.77679695918766,
          473.090439413603,
          474.3133987322419,
          475.43884741672895,
          476.4581968579215,
          477.3616678109889,
          478.13892814381563,
          478.77976784746886,
          479.2747789304406,
          479.6160065959746,
          479.7975382091341,
          479.81599816767283,
          479.6709200253303,
          479.3649721269932,
          478.9040195466523,
          478.29701308687174,
          477.55570518069527,
          476.69420227663517,
          475.728373114404,
          474.6751415630319,
          473.5517007142954,
          472.3746910494117,
          471.1593891620688,
          469.91895430930526,
          468.663777755098,
          467.40097448390867,
          466.13404865451014,
          464.8627536394476,
          463.58315536201775,
          462.28789476438124,
          460.9666325659007,
          459.6066479504304,
          458.19355332538015,
          456.712080532753,
          455.14689034933247,
          453.4833570071228,
          451.7082827284955,
          449.8105035590189,
          447.7813565113138,
          445.61498843999533,
          443.3084982792172,
          440.8619153950807,
          438.27802699746303,
          435.56207611294127,
          432.7213580220148,
          429.7647470107466,
          426.70218671113594,
          423.5441763562477,
          420.3012822886624,
          416.9836995007218,
          413.6008823940129,
          410.1612578773852,
          406.67202788928154,
          403.1390628556612,
          399.566882785006,
          395.9587188333476,
          392.316645293683,
          388.6417700184408,
          384.93447013441084,
          381.19465937951577,
          377.42207329702177,
          373.6165587074696,
          369.7783542362518,
          365.90834915967383,
          362.0083084638689,
          358.08105285851434,
          354.13058365338406,
          350.1621439976573,
          346.1822100859168,
          342.1984085909029,
          338.2193597660149,
          334.2544492710628,
          330.3135356395419,
          326.4066041897538,
          322.54338180813824,
          318.7329301100233,
          314.98323673450005,
          311.3008257259641,
          307.69040793687253,
          304.15459108605774,
          300.6936665575227,
          297.3054863591263,
          293.98543910283195,
          290.72652871322407,
          287.5195541611036,
          284.3533832124588,
          281.2153083264704,
          278.09146873481427,
          274.9673196300328,
          271.8281274451004,
          268.659469491836,
          265.4477167271826,
          262.1804800344119,
          258.8470029748128,
          255.43848726751568,
          251.94834104326307,
          248.37234393727115,
          244.70872709110594,
          240.95816990578865,
          237.1237187477231,
          233.21063562182263,
          229.22618700598582,
          225.17938454751865,
          221.08069015746443,
          216.94169823821824,
          212.77480740540037,
          208.59289319850427,
          204.40899200801752,
          200.23600487939188,
          196.08642808774098,
          191.9721155119005,
          187.90407597045905,
          183.89230690809518,
          179.94566422356942,
          176.07176668491127,
          172.27693234348885,
          168.56614367767833,
          164.9430378863012,
          161.409918804208,
          157.96778728928066,
          154.6163875664626,
          151.35426782069973,
          148.17885419770602,
          145.08653818216547,
          142.07277796235613,
          139.13221475655558,
          136.25880509596962,
          133.44596969100363,
          130.68675875619542,
          127.97403258022585,
          125.30065478919215,
          122.65969428629609,
          120.04463040275422,
          117.44955451602328,
          114.86936042755063,
          112.29991526601212,
          109.7382026820101,
          107.18243067087576,
          104.63209749768839,
          102.08801085058589,
          99.55225741937161,
          97.0281224560406,
          94.51996136804267,
          92.03302786073958,
          89.57326542114274,
          87.14707087538343,
          84.76104023697235,
          82.42170800425029,
          80.13529141321614,
          77.90745089397312,
          75.74307714065775,
          73.64611384394648,
          71.61942333711316,
          69.66470027754404,
          67.78243614387948,
          65.97193489874726,
          64.23137777142358,
          62.557932868150885,
          60.947903322993206,
          59.39690604503374,
          57.90007186556814,
          56.45225708911824,
          55.04825613138606,
          53.6830050926007,
          52.35176675355466,
          51.05028856342029,
          49.77492666517535,
          48.522730811711305,
          47.29148708446771,
          46.07971754355415,
          44.886638209528165,
          43.71207898998077,
          42.556371202091874,
          41.42021009092563,
          40.30450109638681,
          39.210199489581,
          38.138153316215885,
          37.088959316084974,
          36.06284063585418,
          35.05955375941316,
          34.07833022746964,
          33.11785652329984,
          32.176293110030095,
          31.251331179101026,
          30.34028337680763,
          29.44020277260869,
          28.548022752512352,
          27.66070946083984,
          26.775417928025437,
          25.889643117036304,
          25.001357756334784,
          24.109129921835088,
          23.21221477204787,
          22.31061649915918,
          21.40511829938264,
          20.497279862690483,
          19.589403429557297,
          18.684470783478925,
          17.786054597668453,
          16.89820831953955,
          16.02533927147783,
          15.172069905632346,
          14.343092219785156,
          13.543020268610427,
          12.77624553159536,
          12.04679965524672,
          11.358228787828631,
          10.71348336973592,
          10.114826819842303,
          9.563766049698366,
          9.061006124861933,
          8.606430664220463,
          8.199108724449154,
          7.837327973911737,
          7.518652951931962,
          7.240006184636907,
          6.9977689484734675,
          6.787897603943652,
          6.606050730661505,
          6.447721837374901,
          6.308372238448116,
          6.183558802092315,
          6.069051682155136,
          5.960937817071461,
          5.855706867152234,
          5.750317297730888,
          5.642241422826648,
          5.529489320586702,
          5.410612540962111,
          5.284689382798761,
          5.1512941743141,
          5.010453421684571,
          4.862591891812666,
          4.708471685381044,
          4.549127171097027,
          4.385798340165141,
          4.219864756076172,
          4.052781872393137,
          3.886021116595234,
          3.721014825056,
          3.559106880921211,
          3.401509754382261,
          3.249268559490658,
          3.103232697008131,
          2.9640356154322616,
          2.8320831574688086,
          2.7075508365575316,
          2.5903901869656263,
          2.4803440442235156,
          2.3769702484034734,
          2.27967284395097,
          2.187739412063906,
          2.1003827589081685,
          2.016784842010048,
          1.9361405916559484,
          1.8576992088615214,
          1.7808006176409998,
          1.7049050213561014,
          1.629613947336295,
          1.5546817302201756,
          1.4800170379620337,
          1.4056747310533644,
          1.331839007166672,
          1.2587993641585247,
          1.186921365951222,
          1.1166144825302329,
          1.0482993772020066,
          0.9823769287378981,
          0.9192010174467444,
          0.8590567018744586,
          0.8021449074718984,
          0.7485741879738973,
          0.6983595542560539,
          0.6514278412771767,
          0.6076286416621268,
          0.5667495046940517,
          0.5285338999797959
         ],
         "yaxis": "y"
        },
        {
         "legendgroup": "Старый лендинг",
         "marker": {
          "color": "#A6ACEC"
         },
         "mode": "lines",
         "name": "Старый лендинг",
         "showlegend": true,
         "type": "scatter",
         "x": [
          0.11737495790117602,
          0.11738902117566974,
          0.11740308445016345,
          0.11741714772465717,
          0.11743121099915088,
          0.1174452742736446,
          0.11745933754813831,
          0.11747340082263201,
          0.11748746409712572,
          0.11750152737161944,
          0.11751559064611315,
          0.11752965392060687,
          0.11754371719510058,
          0.1175577804695943,
          0.11757184374408801,
          0.11758590701858172,
          0.11759997029307544,
          0.11761403356756915,
          0.11762809684206287,
          0.11764216011655658,
          0.11765622339105028,
          0.117670286665544,
          0.11768434994003771,
          0.11769841321453142,
          0.11771247648902514,
          0.11772653976351885,
          0.11774060303801256,
          0.11775466631250628,
          0.11776872958699999,
          0.11778279286149371,
          0.11779685613598742,
          0.11781091941048114,
          0.11782498268497485,
          0.11783904595946855,
          0.11785310923396226,
          0.11786717250845598,
          0.11788123578294969,
          0.1178952990574434,
          0.11790936233193712,
          0.11792342560643083,
          0.11793748888092455,
          0.11795155215541826,
          0.11796561542991198,
          0.11797967870440569,
          0.1179937419788994,
          0.1180078052533931,
          0.11802186852788682,
          0.11803593180238053,
          0.11804999507687425,
          0.11806405835136796,
          0.11807812162586168,
          0.11809218490035539,
          0.1181062481748491,
          0.11812031144934282,
          0.11813437472383653,
          0.11814843799833025,
          0.11816250127282396,
          0.11817656454731768,
          0.11819062782181138,
          0.11820469109630509,
          0.1182187543707988,
          0.11823281764529252,
          0.11824688091978623,
          0.11826094419427995,
          0.11827500746877366,
          0.11828907074326737,
          0.11830313401776109,
          0.1183171972922548,
          0.11833126056674852,
          0.11834532384124223,
          0.11835938711573595,
          0.11837345039022965,
          0.11838751366472336,
          0.11840157693921707,
          0.11841564021371079,
          0.1184297034882045,
          0.11844376676269822,
          0.11845783003719193,
          0.11847189331168564,
          0.11848595658617936,
          0.11850001986067307,
          0.11851408313516679,
          0.1185281464096605,
          0.11854220968415421,
          0.11855627295864792,
          0.11857033623314163,
          0.11858439950763534,
          0.11859846278212906,
          0.11861252605662277,
          0.11862658933111649,
          0.1186406526056102,
          0.11865471588010391,
          0.11866877915459763,
          0.11868284242909134,
          0.11869690570358506,
          0.11871096897807877,
          0.11872503225257248,
          0.11873909552706619,
          0.1187531588015599,
          0.11876722207605361,
          0.11878128535054733,
          0.11879534862504104,
          0.11880941189953476,
          0.11882347517402847,
          0.11883753844852218,
          0.1188516017230159,
          0.11886566499750961,
          0.11887972827200333,
          0.11889379154649704,
          0.11890785482099075,
          0.11892191809548446,
          0.11893598136997817,
          0.11895004464447188,
          0.1189641079189656,
          0.11897817119345931,
          0.11899223446795303,
          0.11900629774244674,
          0.11902036101694045,
          0.11903442429143417,
          0.11904848756592788,
          0.1190625508404216,
          0.11907661411491531,
          0.11909067738940901,
          0.11910474066390273,
          0.11911880393839644,
          0.11913286721289015,
          0.11914693048738387,
          0.11916099376187758,
          0.1191750570363713,
          0.11918912031086501,
          0.11920318358535872,
          0.11921724685985244,
          0.11923131013434615,
          0.11924537340883987,
          0.11925943668333358,
          0.11927349995782728,
          0.119287563232321,
          0.11930162650681471,
          0.11931568978130842,
          0.11932975305580214,
          0.11934381633029585,
          0.11935787960478957,
          0.11937194287928328,
          0.119386006153777,
          0.11940006942827071,
          0.11941413270276442,
          0.11942819597725814,
          0.11944225925175185,
          0.11945632252624555,
          0.11947038580073926,
          0.11948444907523298,
          0.1194985123497267,
          0.11951257562422041,
          0.11952663889871412,
          0.11954070217320784,
          0.11955476544770155,
          0.11956882872219526,
          0.11958289199668898,
          0.11959695527118269,
          0.1196110185456764,
          0.11962508182017012,
          0.11963914509466382,
          0.11965320836915753,
          0.11966727164365125,
          0.11968133491814496,
          0.11969539819263868,
          0.11970946146713239,
          0.1197235247416261,
          0.11973758801611982,
          0.11975165129061353,
          0.11976571456510725,
          0.11977977783960096,
          0.11979384111409468,
          0.11980790438858838,
          0.11982196766308209,
          0.1198360309375758,
          0.11985009421206952,
          0.11986415748656323,
          0.11987822076105695,
          0.11989228403555066,
          0.11990634731004438,
          0.11992041058453809,
          0.1199344738590318,
          0.11994853713352552,
          0.11996260040801923,
          0.11997666368251295,
          0.11999072695700666,
          0.12000479023150036,
          0.12001885350599407,
          0.12003291678048779,
          0.1200469800549815,
          0.12006104332947522,
          0.12007510660396893,
          0.12008916987846265,
          0.12010323315295636,
          0.12011729642745007,
          0.12013135970194379,
          0.1201454229764375,
          0.12015948625093122,
          0.12017354952542492,
          0.12018761279991863,
          0.12020167607441234,
          0.12021573934890606,
          0.12022980262339977,
          0.12024386589789349,
          0.1202579291723872,
          0.12027199244688092,
          0.12028605572137463,
          0.12030011899586834,
          0.12031418227036206,
          0.12032824554485577,
          0.12034230881934949,
          0.12035637209384319,
          0.1203704353683369,
          0.12038449864283061,
          0.12039856191732433,
          0.12041262519181804,
          0.12042668846631176,
          0.12044075174080547,
          0.12045481501529919,
          0.1204688782897929,
          0.12048294156428661,
          0.12049700483878033,
          0.12051106811327404,
          0.12052513138776776,
          0.12053919466226146,
          0.12055325793675517,
          0.12056732121124888,
          0.1205813844857426,
          0.12059544776023631,
          0.12060951103473003,
          0.12062357430922374,
          0.12063763758371746,
          0.12065170085821117,
          0.12066576413270488,
          0.1206798274071986,
          0.12069389068169231,
          0.12070795395618603,
          0.12072201723067973,
          0.12073608050517344,
          0.12075014377966715,
          0.12076420705416087,
          0.12077827032865458,
          0.1207923336031483,
          0.12080639687764201,
          0.12082046015213573,
          0.12083452342662944,
          0.12084858670112315,
          0.12086264997561687,
          0.12087671325011058,
          0.12089077652460428,
          0.120904839799098,
          0.12091890307359171,
          0.12093296634808542,
          0.12094702962257914,
          0.12096109289707285,
          0.12097515617156657,
          0.12098921944606028,
          0.121003282720554,
          0.12101734599504771,
          0.12103140926954142,
          0.12104547254403514,
          0.12105953581852885,
          0.12107359909302257,
          0.12108766236751627,
          0.12110172564200998,
          0.1211157889165037,
          0.12112985219099741,
          0.12114391546549112,
          0.12115797873998484,
          0.12117204201447855,
          0.12118610528897227,
          0.12120016856346598,
          0.1212142318379597,
          0.12122829511245341,
          0.12124235838694712,
          0.12125642166144082,
          0.12127048493593454,
          0.12128454821042825,
          0.12129861148492196,
          0.12131267475941568,
          0.12132673803390939,
          0.1213408013084031,
          0.12135486458289682,
          0.12136892785739054,
          0.12138299113188425,
          0.12139705440637796,
          0.12141111768087168,
          0.12142518095536539,
          0.1214392442298591,
          0.1214533075043528,
          0.12146737077884652,
          0.12148143405334023,
          0.12149549732783395,
          0.12150956060232766,
          0.12152362387682138,
          0.12153768715131509,
          0.1215517504258088,
          0.12156581370030252,
          0.12157987697479623,
          0.12159394024928995,
          0.12160800352378365,
          0.12162206679827736,
          0.12163613007277108,
          0.12165019334726479,
          0.1216642566217585,
          0.12167831989625222,
          0.12169238317074593,
          0.12170644644523965,
          0.12172050971973336,
          0.12173457299422707,
          0.12174863626872079,
          0.1217626995432145,
          0.12177676281770822,
          0.12179082609220193,
          0.12180488936669563,
          0.12181895264118935,
          0.12183301591568306,
          0.12184707919017677,
          0.12186114246467049,
          0.1218752057391642,
          0.12188926901365792,
          0.12190333228815163,
          0.12191739556264534,
          0.12193145883713906,
          0.12194552211163277,
          0.12195958538612649,
          0.12197364866062019,
          0.1219877119351139,
          0.12200177520960762,
          0.12201583848410133,
          0.12202990175859504,
          0.12204396503308876,
          0.12205802830758247,
          0.12207209158207619,
          0.1220861548565699,
          0.12210021813106361,
          0.12211428140555733,
          0.12212834468005104,
          0.12214240795454476,
          0.12215647122903847,
          0.12217053450353217,
          0.12218459777802589,
          0.1221986610525196,
          0.12221272432701331,
          0.12222678760150703,
          0.12224085087600074,
          0.12225491415049446,
          0.12226897742498817,
          0.12228304069948188,
          0.1222971039739756,
          0.12231116724846931,
          0.12232523052296303,
          0.12233929379745673,
          0.12235335707195044,
          0.12236742034644416,
          0.12238148362093787,
          0.12239554689543158,
          0.1224096101699253,
          0.12242367344441901,
          0.12243773671891273,
          0.12245179999340644,
          0.12246586326790015,
          0.12247992654239387,
          0.12249398981688758,
          0.1225080530913813,
          0.122522116365875,
          0.12253617964036871,
          0.12255024291486243,
          0.12256430618935614,
          0.12257836946384985,
          0.12259243273834357,
          0.12260649601283728,
          0.122620559287331,
          0.12263462256182471,
          0.12264868583631842,
          0.12266274911081214,
          0.12267681238530585,
          0.12269087565979955,
          0.12270493893429327,
          0.12271900220878698,
          0.1227330654832807,
          0.12274712875777441,
          0.12276119203226812,
          0.12277525530676184,
          0.12278931858125555,
          0.12280338185574927,
          0.12281744513024298,
          0.1228315084047367,
          0.12284557167923041,
          0.12285963495372412,
          0.12287369822821784,
          0.12288776150271154,
          0.12290182477720525,
          0.12291588805169897,
          0.12292995132619268,
          0.1229440146006864,
          0.12295807787518011,
          0.12297214114967382,
          0.12298620442416754,
          0.12300026769866125,
          0.12301433097315496,
          0.12302839424764868,
          0.12304245752214239,
          0.12305652079663609,
          0.12307058407112981,
          0.12308464734562352,
          0.12309871062011724,
          0.12311277389461095,
          0.12312683716910466,
          0.12314090044359838,
          0.12315496371809209,
          0.1231690269925858,
          0.12318309026707952,
          0.12319715354157323,
          0.12321121681606695,
          0.12322528009056066,
          0.12323934336505438,
          0.12325340663954808,
          0.12326746991404179,
          0.1232815331885355,
          0.12329559646302922,
          0.12330965973752293,
          0.12332372301201665,
          0.12333778628651036,
          0.12335184956100408,
          0.12336591283549779,
          0.1233799761099915,
          0.12339403938448522,
          0.12340810265897892,
          0.12342216593347263,
          0.12343622920796635,
          0.12345029248246006,
          0.12346435575695378,
          0.12347841903144749,
          0.1234924823059412,
          0.12350654558043492,
          0.12352060885492863,
          0.12353467212942235,
          0.12354873540391606,
          0.12356279867840977,
          0.12357686195290349,
          0.1235909252273972,
          0.1236049885018909,
          0.12361905177638462,
          0.12363311505087833,
          0.12364717832537205,
          0.12366124159986576,
          0.12367530487435947,
          0.12368936814885319,
          0.1237034314233469,
          0.12371749469784062,
          0.12373155797233433,
          0.12374562124682804,
          0.12375968452132176,
          0.12377374779581546,
          0.12378781107030917,
          0.12380187434480289,
          0.1238159376192966,
          0.12383000089379032,
          0.12384406416828403,
          0.12385812744277774,
          0.12387219071727146,
          0.12388625399176517,
          0.12390031726625889,
          0.1239143805407526,
          0.12392844381524631,
          0.12394250708974003,
          0.12395657036423374,
          0.12397063363872744,
          0.12398469691322116,
          0.12399876018771487,
          0.12401282346220859,
          0.1240268867367023,
          0.12404095001119601,
          0.12405501328568973,
          0.12406907656018344,
          0.12408313983467716,
          0.12409720310917087,
          0.12411126638366458,
          0.1241253296581583,
          0.124139392932652,
          0.12415345620714571,
          0.12416751948163943,
          0.12418158275613314,
          0.12419564603062686,
          0.12420970930512057,
          0.12422377257961428,
          0.124237835854108,
          0.12425189912860171,
          0.12426596240309543,
          0.12428002567758914,
          0.12429408895208285,
          0.12430815222657657,
          0.12432221550107028,
          0.12433627877556398,
          0.1243503420500577,
          0.12436440532455141,
          0.12437846859904512,
          0.12439253187353884
         ],
         "xaxis": "x",
         "y": [
          0.858604422232811,
          0.9010285351575225,
          0.942021506044302,
          0.9820275774274989,
          1.0216689813119781,
          1.0617321436734903,
          1.1031471588355475,
          1.1469616294590081,
          1.1943101205437578,
          1.2463805343185486,
          1.3043787033945458,
          1.3694924538620818,
          1.4428563380380186,
          1.5255181995329608,
          1.6184087188361962,
          1.7223150878744038,
          1.8378599551587758,
          1.9654867380742544,
          2.1054522820932102,
          2.257827630274667,
          2.422507335262895,
          2.599227303121997,
          2.787590626979916,
          2.9871002905888577,
          3.1971970533736123,
          3.417300331647145,
          3.646849525491965,
          3.88534305670516,
          4.1323724121148695,
          4.387648738743508,
          4.651020000322736,
          4.9224773455405435,
          5.202150107817389,
          5.490289694740047,
          5.7872434686656264,
          6.09342050607179,
          6.409251795566922,
          6.7351479457328445,
          7.0714577877968905,
          7.418431350264635,
          7.7761905416141985,
          8.144710504955224,
          8.52381402133159,
          8.913180566645222,
          9.312370715782198,
          9.720865593686858,
          10.138120063449113,
          10.563627386951095,
          10.996992263331235,
          11.438008504805387,
          11.886737193416723,
          12.343581001202947,
          12.809350452831985,
          13.285318245005808,
          13.773258273611548,
          14.275466708247095,
          14.79476323965807,
          15.33447145611459,
          15.898378135152276,
          16.49067203437938,
          17.115863509302876,
          17.77868696913029,
          18.483988803496743,
          19.23660397851967,
          20.041225013473078,
          20.90226750910856,
          21.823736797358645,
          22.809100602793208,
          23.86117282256182,
          24.982013609063397,
          26.172850837629053,
          27.434027716187952,
          28.764980702848213,
          30.16425100473176,
          31.62953171526984,
          33.15775110688457,
          34.745190760726466,
          36.387635151441586,
          38.08054712149648,
          39.81926152840328,
          41.599187419219454,
          43.416007595815934,
          45.26586360294662,
          47.14551420012963,
          49.05245641699399,
          50.985000406596626,
          52.94229245916607,
          54.92428454904162,
          56.9316533589739,
          58.96567644081677,
          61.02807752951562,
          63.12085649626403,
          65.24612150818568,
          67.40594126062739,
          69.60223344019056,
          71.83670186168017,
          74.11082925332252,
          76.42592594652233,
          78.78322747687254,
          81.18402718233854,
          83.62982419451895,
          86.12246358702583,
          88.66424450671856,
          91.25797420895117,
          93.90695102124559,
          96.61486695340668,
          99.3856301718588,
          102.22311779008027,
          105.13087915919914,
          108.11181782539138,
          111.16788545984303,
          114.29982257332978,
          117.50697833433138,
          120.78723543830803,
          124.13705633677239,
          127.55165526322983,
          131.02528772543474,
          134.55163693957238,
          138.12426647765193,
          141.7371013626551,
          145.3848967636506,
          149.06365461135061,
          152.7709536437518,
          156.50616688410068,
          160.27055124833947,
          164.06720554590896,
          167.90090420148724,
          171.77782335289777,
          175.70518264319605,
          179.69082951278548,
          183.7427930718418,
          187.8688321073704,
          192.07599723601865,
          196.37022166850153,
          200.75594958595158,
          205.2358067182725,
          209.81031507788074,
          214.47765329038924,
          219.23346551340745,
          224.07072507964557,
          228.9796629527224,
          233.94777485713809,
          238.95992351005526,
          243.9985528363083,
          249.04402874899938,
          254.07511575874702,
          259.0695904937961,
          264.00498275061034,
          268.85942288765466,
          273.6125624113939,
          278.246523777933,
          282.7468269981438,
          287.10323565157887,
          291.31046414036604,
          295.36869181420604,
          299.2838379105352,
          303.06756360049127,
          306.7369829650652,
          310.31408231615904,
          313.8248656158468,
          317.29826146515387,
          320.76484291777376,
          324.2554240720408,
          327.79960610339754,
          331.42434952803427,
          335.15264879266283,
          339.00237987602446,
          342.98538190684485,
          347.1068205773324,
          351.3648653043896,
          355.7506947388083,
          360.24882746752183,
          364.837757675253,
          369.4908600913199,
          374.1775155317795,
          378.8643983316564,
          383.51686030146374,
          388.1003426789885,
          392.5817478443015,
          396.9307061397487,
          401.1206797008926,
          405.12985439627226,
          408.94178237732893,
          412.54575088395234,
          415.936867303487,
          419.11586543041403,
          422.08865271605373,
          424.8656322378601,
          427.4608452918062,
          429.89099003802136,
          432.1743776899825,
          434.32988967340924,
          436.37599660456044,
          438.3298928263738,
          440.20678900424264,
          442.01939078030375,
          443.77757498190937,
          445.48825794225183,
          447.1554348224338,
          448.78035606493444,
          450.3617986239808,
          451.8963863082764,
          453.3789157300001,
          454.80265160589244,
          456.1595664853648,
          457.4405138496133,
          458.63533807012794,
          459.73293799399596,
          460.72131117665606,
          461.5876116713869,
          462.3182550658303,
          462.8991000754085,
          463.31572708916264,
          463.5538218230325,
          463.59965827680696,
          463.44066129484713,
          463.0660169106562,
          462.467289739254,
          461.6390019466677,
          460.57912820697425,
          459.2894654316885,
          457.77584430614957,
          456.04816079701135,
          454.12021858454324,
          452.0093865402155,
          449.73608771712634,
          447.3231468519602,
          444.79503137130854,
          442.1770259376981,
          439.49438254569264,
          436.77148723266794,
          434.0310809607986,
          431.29356666404345,
          428.5764274396011,
          425.8937730390585,
          423.25602381796585,
          420.6697337242551,
          418.1375472536217,
          415.65827996528213,
          413.2271083814091,
          410.83585297105896,
          408.4733373567727,
          406.12580763086993,
          403.77739734980116,
          401.4106259276155,
          399.00692029245835,
          396.5471513683355,
          394.0121778749278,
          391.3833899334042,
          388.64324404117235,
          385.7757793243124,
          382.7671029287958,
          379.6058303978405,
          376.283465352506,
          372.79470215281907,
          369.1376357707986,
          365.31386501663815,
          361.32847852790076,
          357.189917411207,
          352.9097138411122,
          348.50211091116637,
          343.9835751904159,
          339.3722193526388,
          334.6871575305271,
          329.9478203638127,
          325.1732597808129,
          320.38147516318,
          315.5887925477901,
          310.80932684245704,
          306.0545536759262,
          301.3330125543013,
          296.65015663811164,
          292.00835696940334,
          287.4070607482515,
          282.8430947546179,
          278.3110967689731,
          273.80405042823736,
          269.313892908909,
          264.8321606355303,
          260.3506362284168,
          255.86196032684097,
          251.36017475364633,
          246.84116852188504,
          242.3030050229521,
          237.7461168145551,
          233.17336307012104,
          228.58995323876778,
          224.0032481107711,
          219.42245570902668,
          214.8582438280484,
          210.32229343069056,
          205.82681753757836,
          201.38406897254023,
          197.00585780283652,
          192.703096084294,
          188.48538415518973,
          184.36064971516504,
          180.33484862435648,
          176.41173490692714,
          172.592706762485,
          168.8767351915445,
          165.2603816856528,
          161.73791080628547,
          158.301501890157,
          154.9415612059913,
          151.6471314873991,
          148.40638997254916,
          145.20721925941956,
          142.0378280453078,
          138.8873919483791,
          135.7466789786152,
          132.60862067863061,
          129.4687891926337,
          126.32574300549972,
          123.18120996967124,
          120.0400853008242,
          116.91023392039234,
          113.80209999455268,
          110.72814067750309,
          107.70211469996279,
          104.73826833416224,
          101.85047031273933,
          99.05135260524511,
          96.35151500141066,
          93.75884802681402,
          91.27802102851588,
          88.91017089632071,
          86.65281273174712,
          84.49997798054208,
          82.44256937692576,
          80.46890679412994,
          78.56542494421787,
          76.71747380807462,
          74.91016641414124,
          73.12921650495072,
          71.361710773066,
          69.5967664213902,
          67.82603422675365,
          66.04401925233118,
          64.24820490272711,
          62.438980111942385,
          60.61938307027043,
          58.79468708039574,
          56.971864072336004,
          55.158968374474966,
          53.364487127815046,
          51.59670407789636,
          49.863120465585915,
          48.169970684419035,
          46.52186181276932,
          44.921555773562176,
          43.36990155588906,
          41.86591354406567,
          40.406981421926226,
          38.98918815105665,
          37.60770580812677,
          36.25723504910224,
          34.932452845724775,
          33.62843485455623,
          32.34102303020653,
          31.067115373062574,
          29.804862347629708,
          28.55376277851452,
          27.3146601794837,
          26.089647815324167,
          24.881896782805285,
          23.695425644023942,
          22.534832465617882,
          21.405010519843778,
          20.310867573394578,
          19.25706595337837,
          18.247796856532094,
          17.286598118990565,
          16.3762203417113,
          15.518542269434441,
          14.714532959192402,
          13.964255749610432,
          13.266907440168238,
          12.62088538580166,
          12.023875289720673,
          11.47295315164474,
          10.964695878281992,
          10.495296260154106,
          10.060679158246257,
          9.656616665027576,
          9.278840606971183,
          8.923151006124096,
          8.585519047126395,
          8.262182787696245,
          7.949733426632765,
          7.645189542629127,
          7.346056474024164,
          7.050368034430396,
          6.7567081223668035,
          6.464210504994482,
          6.172536104006679,
          5.881828403493383,
          5.592649013911638,
          5.305896818089747,
          5.022715343827552,
          4.744393915715923,
          4.472268629254324,
          4.207629199517566,
          3.951637251959343,
          3.705260684198717,
          3.4692274218347476,
          3.244000342265564,
          3.0297734939678365,
          2.8264881461513007,
          2.633865805431556,
          2.4514542470598357,
          2.2786819069695183,
          2.11491570404656,
          1.9595175032358338,
          1.8118949441518784,
          1.6715431706362096,
          1.5380750077570098,
          1.4112382391443503,
          1.2909197372018486,
          1.1771372022446296,
          1.0700201044592192,
          0.9697820492293225,
          0.8766871812287251,
          0.7910134081585023,
          0.713015182371746,
          0.6428883624950777,
          0.5807393294144075,
          0.5265600951474426,
          0.48021065961896786,
          0.4414093734157409,
          0.40973158068786364,
          0.38461636426061635,
          0.3653808070708666,
          0.3512408282096702,
          0.34133735392258974,
          0.33476634936793304,
          0.33061107202987317,
          0.32797481959205016,
          0.32601244096395365,
          0.32395896450052397,
          0.32115387398167905,
          0.3170598265706227,
          0.31127494650072507,
          0.3035382247512199,
          0.29372798265049027,
          0.28185378541604317,
          0.26804258729204433,
          0.25252022185732026,
          0.23558959299230212,
          0.21760705582231182,
          0.1989584949040966,
          0.18003651235797935,
          0.16121994553655852,
          0.14285666488917526,
          0.12525028655372863,
          0.10865110197172437,
          0.09325120851850269,
          0.07918354662136007,
          0.06652432941087102,
          0.05529820200933536,
          0.04548539228558451,
          0.037030108955833786,
          0.029849495877891846,
          0.02384254873247781,
          0.01889852545783285,
          0.014904518228422082,
          0.011751987516989105,
          0.00934217576943739,
          0.007590410904743355,
          0.006429373427524795,
          0.005811434183197334,
          0.005710174601444877,
          0.006121182108779601,
          0.00706217658405249,
          0.008572476879993437,
          0.010711767800930635,
          0.013558085873698689,
          0.017204914681268096,
          0.0217572743165187,
          0.02732670987361879,
          0.03402513374755064,
          0.04195755586666129,
          0.051213841430415186,
          0.06185976015851275,
          0.07392772374663586,
          0.08740773532523341,
          0.10223918031136901,
          0.11830415565256533,
          0.1354230489760188,
          0.1533530289491338,
          0.17178998714411275,
          0.1903742810044963,
          0.20870037644820216,
          0.2263301947317452,
          0.24280965610258481,
          0.25768761209841323,
          0.270536100610958,
          0.2809706727200151,
          0.28866945196471117,
          0.29338961038080846
         ],
         "yaxis": "y"
        }
       ],
       "layout": {
        "barmode": "overlay",
        "height": 650,
        "hovermode": "closest",
        "legend": {
         "traceorder": "reversed"
        },
        "template": {
         "data": {
          "bar": [
           {
            "error_x": {
             "color": "#2a3f5f"
            },
            "error_y": {
             "color": "#2a3f5f"
            },
            "marker": {
             "line": {
              "color": "#E5ECF6",
              "width": 0.5
             },
             "pattern": {
              "fillmode": "overlay",
              "size": 10,
              "solidity": 0.2
             }
            },
            "type": "bar"
           }
          ],
          "barpolar": [
           {
            "marker": {
             "line": {
              "color": "#E5ECF6",
              "width": 0.5
             },
             "pattern": {
              "fillmode": "overlay",
              "size": 10,
              "solidity": 0.2
             }
            },
            "type": "barpolar"
           }
          ],
          "carpet": [
           {
            "aaxis": {
             "endlinecolor": "#2a3f5f",
             "gridcolor": "white",
             "linecolor": "white",
             "minorgridcolor": "white",
             "startlinecolor": "#2a3f5f"
            },
            "baxis": {
             "endlinecolor": "#2a3f5f",
             "gridcolor": "white",
             "linecolor": "white",
             "minorgridcolor": "white",
             "startlinecolor": "#2a3f5f"
            },
            "type": "carpet"
           }
          ],
          "choropleth": [
           {
            "colorbar": {
             "outlinewidth": 0,
             "ticks": ""
            },
            "type": "choropleth"
           }
          ],
          "contour": [
           {
            "colorbar": {
             "outlinewidth": 0,
             "ticks": ""
            },
            "colorscale": [
             [
              0,
              "#0d0887"
             ],
             [
              0.1111111111111111,
              "#46039f"
             ],
             [
              0.2222222222222222,
              "#7201a8"
             ],
             [
              0.3333333333333333,
              "#9c179e"
             ],
             [
              0.4444444444444444,
              "#bd3786"
             ],
             [
              0.5555555555555556,
              "#d8576b"
             ],
             [
              0.6666666666666666,
              "#ed7953"
             ],
             [
              0.7777777777777778,
              "#fb9f3a"
             ],
             [
              0.8888888888888888,
              "#fdca26"
             ],
             [
              1,
              "#f0f921"
             ]
            ],
            "type": "contour"
           }
          ],
          "contourcarpet": [
           {
            "colorbar": {
             "outlinewidth": 0,
             "ticks": ""
            },
            "type": "contourcarpet"
           }
          ],
          "heatmap": [
           {
            "colorbar": {
             "outlinewidth": 0,
             "ticks": ""
            },
            "colorscale": [
             [
              0,
              "#0d0887"
             ],
             [
              0.1111111111111111,
              "#46039f"
             ],
             [
              0.2222222222222222,
              "#7201a8"
             ],
             [
              0.3333333333333333,
              "#9c179e"
             ],
             [
              0.4444444444444444,
              "#bd3786"
             ],
             [
              0.5555555555555556,
              "#d8576b"
             ],
             [
              0.6666666666666666,
              "#ed7953"
             ],
             [
              0.7777777777777778,
              "#fb9f3a"
             ],
             [
              0.8888888888888888,
              "#fdca26"
             ],
             [
              1,
              "#f0f921"
             ]
            ],
            "type": "heatmap"
           }
          ],
          "heatmapgl": [
           {
            "colorbar": {
             "outlinewidth": 0,
             "ticks": ""
            },
            "colorscale": [
             [
              0,
              "#0d0887"
             ],
             [
              0.1111111111111111,
              "#46039f"
             ],
             [
              0.2222222222222222,
              "#7201a8"
             ],
             [
              0.3333333333333333,
              "#9c179e"
             ],
             [
              0.4444444444444444,
              "#bd3786"
             ],
             [
              0.5555555555555556,
              "#d8576b"
             ],
             [
              0.6666666666666666,
              "#ed7953"
             ],
             [
              0.7777777777777778,
              "#fb9f3a"
             ],
             [
              0.8888888888888888,
              "#fdca26"
             ],
             [
              1,
              "#f0f921"
             ]
            ],
            "type": "heatmapgl"
           }
          ],
          "histogram": [
           {
            "marker": {
             "pattern": {
              "fillmode": "overlay",
              "size": 10,
              "solidity": 0.2
             }
            },
            "type": "histogram"
           }
          ],
          "histogram2d": [
           {
            "colorbar": {
             "outlinewidth": 0,
             "ticks": ""
            },
            "colorscale": [
             [
              0,
              "#0d0887"
             ],
             [
              0.1111111111111111,
              "#46039f"
             ],
             [
              0.2222222222222222,
              "#7201a8"
             ],
             [
              0.3333333333333333,
              "#9c179e"
             ],
             [
              0.4444444444444444,
              "#bd3786"
             ],
             [
              0.5555555555555556,
              "#d8576b"
             ],
             [
              0.6666666666666666,
              "#ed7953"
             ],
             [
              0.7777777777777778,
              "#fb9f3a"
             ],
             [
              0.8888888888888888,
              "#fdca26"
             ],
             [
              1,
              "#f0f921"
             ]
            ],
            "type": "histogram2d"
           }
          ],
          "histogram2dcontour": [
           {
            "colorbar": {
             "outlinewidth": 0,
             "ticks": ""
            },
            "colorscale": [
             [
              0,
              "#0d0887"
             ],
             [
              0.1111111111111111,
              "#46039f"
             ],
             [
              0.2222222222222222,
              "#7201a8"
             ],
             [
              0.3333333333333333,
              "#9c179e"
             ],
             [
              0.4444444444444444,
              "#bd3786"
             ],
             [
              0.5555555555555556,
              "#d8576b"
             ],
             [
              0.6666666666666666,
              "#ed7953"
             ],
             [
              0.7777777777777778,
              "#fb9f3a"
             ],
             [
              0.8888888888888888,
              "#fdca26"
             ],
             [
              1,
              "#f0f921"
             ]
            ],
            "type": "histogram2dcontour"
           }
          ],
          "mesh3d": [
           {
            "colorbar": {
             "outlinewidth": 0,
             "ticks": ""
            },
            "type": "mesh3d"
           }
          ],
          "parcoords": [
           {
            "line": {
             "colorbar": {
              "outlinewidth": 0,
              "ticks": ""
             }
            },
            "type": "parcoords"
           }
          ],
          "pie": [
           {
            "automargin": true,
            "type": "pie"
           }
          ],
          "scatter": [
           {
            "fillpattern": {
             "fillmode": "overlay",
             "size": 10,
             "solidity": 0.2
            },
            "type": "scatter"
           }
          ],
          "scatter3d": [
           {
            "line": {
             "colorbar": {
              "outlinewidth": 0,
              "ticks": ""
             }
            },
            "marker": {
             "colorbar": {
              "outlinewidth": 0,
              "ticks": ""
             }
            },
            "type": "scatter3d"
           }
          ],
          "scattercarpet": [
           {
            "marker": {
             "colorbar": {
              "outlinewidth": 0,
              "ticks": ""
             }
            },
            "type": "scattercarpet"
           }
          ],
          "scattergeo": [
           {
            "marker": {
             "colorbar": {
              "outlinewidth": 0,
              "ticks": ""
             }
            },
            "type": "scattergeo"
           }
          ],
          "scattergl": [
           {
            "marker": {
             "colorbar": {
              "outlinewidth": 0,
              "ticks": ""
             }
            },
            "type": "scattergl"
           }
          ],
          "scattermapbox": [
           {
            "marker": {
             "colorbar": {
              "outlinewidth": 0,
              "ticks": ""
             }
            },
            "type": "scattermapbox"
           }
          ],
          "scatterpolar": [
           {
            "marker": {
             "colorbar": {
              "outlinewidth": 0,
              "ticks": ""
             }
            },
            "type": "scatterpolar"
           }
          ],
          "scatterpolargl": [
           {
            "marker": {
             "colorbar": {
              "outlinewidth": 0,
              "ticks": ""
             }
            },
            "type": "scatterpolargl"
           }
          ],
          "scatterternary": [
           {
            "marker": {
             "colorbar": {
              "outlinewidth": 0,
              "ticks": ""
             }
            },
            "type": "scatterternary"
           }
          ],
          "surface": [
           {
            "colorbar": {
             "outlinewidth": 0,
             "ticks": ""
            },
            "colorscale": [
             [
              0,
              "#0d0887"
             ],
             [
              0.1111111111111111,
              "#46039f"
             ],
             [
              0.2222222222222222,
              "#7201a8"
             ],
             [
              0.3333333333333333,
              "#9c179e"
             ],
             [
              0.4444444444444444,
              "#bd3786"
             ],
             [
              0.5555555555555556,
              "#d8576b"
             ],
             [
              0.6666666666666666,
              "#ed7953"
             ],
             [
              0.7777777777777778,
              "#fb9f3a"
             ],
             [
              0.8888888888888888,
              "#fdca26"
             ],
             [
              1,
              "#f0f921"
             ]
            ],
            "type": "surface"
           }
          ],
          "table": [
           {
            "cells": {
             "fill": {
              "color": "#EBF0F8"
             },
             "line": {
              "color": "white"
             }
            },
            "header": {
             "fill": {
              "color": "#C8D4E3"
             },
             "line": {
              "color": "white"
             }
            },
            "type": "table"
           }
          ]
         },
         "layout": {
          "annotationdefaults": {
           "arrowcolor": "#2a3f5f",
           "arrowhead": 0,
           "arrowwidth": 1
          },
          "autotypenumbers": "strict",
          "coloraxis": {
           "colorbar": {
            "outlinewidth": 0,
            "ticks": ""
           }
          },
          "colorscale": {
           "diverging": [
            [
             0,
             "#8e0152"
            ],
            [
             0.1,
             "#c51b7d"
            ],
            [
             0.2,
             "#de77ae"
            ],
            [
             0.3,
             "#f1b6da"
            ],
            [
             0.4,
             "#fde0ef"
            ],
            [
             0.5,
             "#f7f7f7"
            ],
            [
             0.6,
             "#e6f5d0"
            ],
            [
             0.7,
             "#b8e186"
            ],
            [
             0.8,
             "#7fbc41"
            ],
            [
             0.9,
             "#4d9221"
            ],
            [
             1,
             "#276419"
            ]
           ],
           "sequential": [
            [
             0,
             "#0d0887"
            ],
            [
             0.1111111111111111,
             "#46039f"
            ],
            [
             0.2222222222222222,
             "#7201a8"
            ],
            [
             0.3333333333333333,
             "#9c179e"
            ],
            [
             0.4444444444444444,
             "#bd3786"
            ],
            [
             0.5555555555555556,
             "#d8576b"
            ],
            [
             0.6666666666666666,
             "#ed7953"
            ],
            [
             0.7777777777777778,
             "#fb9f3a"
            ],
            [
             0.8888888888888888,
             "#fdca26"
            ],
            [
             1,
             "#f0f921"
            ]
           ],
           "sequentialminus": [
            [
             0,
             "#0d0887"
            ],
            [
             0.1111111111111111,
             "#46039f"
            ],
            [
             0.2222222222222222,
             "#7201a8"
            ],
            [
             0.3333333333333333,
             "#9c179e"
            ],
            [
             0.4444444444444444,
             "#bd3786"
            ],
            [
             0.5555555555555556,
             "#d8576b"
            ],
            [
             0.6666666666666666,
             "#ed7953"
            ],
            [
             0.7777777777777778,
             "#fb9f3a"
            ],
            [
             0.8888888888888888,
             "#fdca26"
            ],
            [
             1,
             "#f0f921"
            ]
           ]
          },
          "colorway": [
           "#636efa",
           "#EF553B",
           "#00cc96",
           "#ab63fa",
           "#FFA15A",
           "#19d3f3",
           "#FF6692",
           "#B6E880",
           "#FF97FF",
           "#FECB52"
          ],
          "font": {
           "color": "#2a3f5f"
          },
          "geo": {
           "bgcolor": "white",
           "lakecolor": "white",
           "landcolor": "#E5ECF6",
           "showlakes": true,
           "showland": true,
           "subunitcolor": "white"
          },
          "hoverlabel": {
           "align": "left"
          },
          "hovermode": "closest",
          "mapbox": {
           "style": "light"
          },
          "paper_bgcolor": "white",
          "plot_bgcolor": "#E5ECF6",
          "polar": {
           "angularaxis": {
            "gridcolor": "white",
            "linecolor": "white",
            "ticks": ""
           },
           "bgcolor": "#E5ECF6",
           "radialaxis": {
            "gridcolor": "white",
            "linecolor": "white",
            "ticks": ""
           }
          },
          "scene": {
           "xaxis": {
            "backgroundcolor": "#E5ECF6",
            "gridcolor": "white",
            "gridwidth": 2,
            "linecolor": "white",
            "showbackground": true,
            "ticks": "",
            "zerolinecolor": "white"
           },
           "yaxis": {
            "backgroundcolor": "#E5ECF6",
            "gridcolor": "white",
            "gridwidth": 2,
            "linecolor": "white",
            "showbackground": true,
            "ticks": "",
            "zerolinecolor": "white"
           },
           "zaxis": {
            "backgroundcolor": "#E5ECF6",
            "gridcolor": "white",
            "gridwidth": 2,
            "linecolor": "white",
            "showbackground": true,
            "ticks": "",
            "zerolinecolor": "white"
           }
          },
          "shapedefaults": {
           "line": {
            "color": "#2a3f5f"
           }
          },
          "ternary": {
           "aaxis": {
            "gridcolor": "white",
            "linecolor": "white",
            "ticks": ""
           },
           "baxis": {
            "gridcolor": "white",
            "linecolor": "white",
            "ticks": ""
           },
           "bgcolor": "#E5ECF6",
           "caxis": {
            "gridcolor": "white",
            "linecolor": "white",
            "ticks": ""
           }
          },
          "title": {
           "x": 0.05
          },
          "xaxis": {
           "automargin": true,
           "gridcolor": "white",
           "linecolor": "white",
           "ticks": "",
           "title": {
            "standoff": 15
           },
           "zerolinecolor": "white",
           "zerolinewidth": 2
          },
          "yaxis": {
           "automargin": true,
           "gridcolor": "white",
           "linecolor": "white",
           "ticks": "",
           "title": {
            "standoff": 15
           },
           "zerolinecolor": "white",
           "zerolinewidth": 2
          }
         }
        },
        "title": {
         "text": "Распределние средних"
        },
        "width": 1000,
        "xaxis": {
         "anchor": "y2",
         "autorange": true,
         "domain": [
          0,
          1
         ],
         "range": [
          0.11582286319787524,
          0.12439253187353884
         ],
         "type": "linear",
         "zeroline": false
        },
        "yaxis": {
         "anchor": "free",
         "autorange": true,
         "domain": [
          0,
          1
         ],
         "position": 0,
         "range": [
          -26.650416936124746,
          506.472125278399
         ],
         "type": "linear"
        }
       }
      },
      "image/png": "[encoded data removed]",
      "text/html": [
       "<div>                            <div id=\"d5bf34ea-fceb-49ba-83b4-50b4508a5adb\" class=\"plotly-graph-div\" style=\"height:650px; width:1000px;\"></div>            <script type=\"text/javascript\">                require([\"plotly\"], function(Plotly) {                    window.PLOTLYENV=window.PLOTLYENV || {};                                    if (document.getElementById(\"d5bf34ea-fceb-49ba-83b4-50b4508a5adb\")) {                    Plotly.newPlot(                        \"d5bf34ea-fceb-49ba-83b4-50b4508a5adb\",                        [{\"legendgroup\":\"\\u041d\\u043e\\u0432\\u044b\\u0439 \\u043b\\u0435\\u043d\\u0434\\u0438\\u043d\\u0433\",\"marker\":{\"color\":\"#A56CC1\"},\"mode\":\"lines\",\"name\":\"\\u041d\\u043e\\u0432\\u044b\\u0439 \\u043b\\u0435\\u043d\\u0434\\u0438\\u043d\\u0433\",\"showlegend\":true,\"x\":[0.11582286319787524,0.11583522705614403,0.11584759091441281,0.1158599547726816,0.11587231863095039,0.11588468248921917,0.11589704634748796,0.11590941020575675,0.11592177406402553,0.11593413792229432,0.11594650178056311,0.11595886563883188,0.11597122949710068,0.11598359335536947,0.11599595721363824,0.11600832107190703,0.11602068493017582,0.11603304878844461,0.11604541264671339,0.11605777650498218,0.11607014036325097,0.11608250422151975,0.11609486807978854,0.11610723193805733,0.11611959579632611,0.1161319596545949,0.11614432351286369,0.11615668737113247,0.11616905122940126,0.11618141508767005,0.11619377894593882,0.11620614280420762,0.1162185066624764,0.11623087052074518,0.11624323437901397,0.11625559823728276,0.11626796209555154,0.11628032595382033,0.11629268981208912,0.1163050536703579,0.11631741752862669,0.11632978138689548,0.11634214524516426,0.11635450910343305,0.11636687296170184,0.11637923681997063,0.1163916006782394,0.1164039645365082,0.11641632839477699,0.11642869225304577,0.11644105611131456,0.11645341996958335,0.11646578382785212,0.11647814768612091,0.1164905115443897,0.11650287540265848,0.11651523926092727,0.11652760311919606,0.11653996697746484,0.11655233083573363,0.11656469469400242,0.1165770585522712,0.11658942241053999,0.11660178626880878,0.11661415012707756,0.11662651398534635,0.11663887784361514,0.11665124170188391,0.1166636055601527,0.1166759694184215,0.11668833327669027,0.11670069713495906,0.11671306099322785,0.11672542485149663,0.11673778870976542,0.11675015256803421,0.116762516426303,0.11677488028457178,0.11678724414284057,0.11679960800110936,0.11681197185937814,0.11682433571764693,0.11683669957591572,0.1168490634341845,0.11686142729245329,0.11687379115072208,0.11688615500899086,0.11689851886725965,0.11691088272552844,0.11692324658379721,0.116935610442066,0.1169479743003348,0.11696033815860357,0.11697270201687236,0.11698506587514115,0.11699742973340993,0.11700979359167872,0.11702215744994751,0.11703452130821629,0.11704688516648508,0.11705924902475387,0.11707161288302265,0.11708397674129144,0.11709634059956023,0.11710870445782902,0.1171210683160978,0.11713343217436659,0.11714579603263538,0.11715815989090415,0.11717052374917294,0.11718288760744174,0.11719525146571051,0.1172076153239793,0.1172199791822481,0.11723234304051687,0.11724470689878566,0.11725707075705445,0.11726943461532323,0.11728179847359202,0.11729416233186081,0.11730652619012959,0.11731889004839838,0.11733125390666717,0.11734361776493595,0.11735598162320474,0.11736834548147353,0.1173807093397423,0.1173930731980111,0.11740543705627988,0.11741780091454866,0.11743016477281745,0.11744252863108624,0.11745489248935503,0.11746725634762381,0.1174796202058926,0.11749198406416139,0.11750434792243017,0.11751671178069896,0.11752907563896775,0.11754143949723653,0.11755380335550532,0.11756616721377411,0.11757853107204289,0.11759089493031168,0.11760325878858047,0.11761562264684924,0.11762798650511803,0.11764035036338683,0.1176527142216556,0.11766507807992439,0.11767744193819318,0.11768980579646196,0.11770216965473075,0.11771453351299954,0.11772689737126832,0.11773926122953711,0.1177516250878059,0.11776398894607468,0.11777635280434347,0.11778871666261226,0.11780108052088104,0.11781344437914983,0.11782580823741862,0.1178381720956874,0.11785053595395618,0.11786289981222497,0.11787526367049377,0.11788762752876254,0.11789999138703133,0.11791235524530012,0.1179247191035689,0.11793708296183769,0.11794944682010648,0.11796181067837526,0.11797417453664405,0.11798653839491284,0.11799890225318162,0.11801126611145041,0.1180236299697192,0.11803599382798798,0.11804835768625677,0.11806072154452556,0.11807308540279433,0.11808544926106312,0.11809781311933192,0.11811017697760069,0.11812254083586948,0.11813490469413827,0.11814726855240705,0.11815963241067584,0.11817199626894463,0.11818436012721342,0.1181967239854822,0.11820908784375099,0.11822145170201978,0.11823381556028856,0.11824617941855735,0.11825854327682614,0.11827090713509492,0.1182832709933637,0.1182956348516325,0.11830799870990127,0.11832036256817006,0.11833272642643886,0.11834509028470763,0.11835745414297642,0.11836981800124521,0.11838218185951399,0.11839454571778278,0.11840690957605157,0.11841927343432035,0.11843163729258914,0.11844400115085793,0.11845636500912671,0.1184687288673955,0.11848109272566429,0.11849345658393307,0.11850582044220186,0.11851818430047065,0.11853054815873942,0.11854291201700821,0.118555275875277,0.1185676397335458,0.11858000359181457,0.11859236745008336,0.11860473130835215,0.11861709516662093,0.11862945902488972,0.11864182288315851,0.11865418674142729,0.11866655059969608,0.11867891445796487,0.11869127831623365,0.11870364217450244,0.11871600603277123,0.11872836989104,0.1187407337493088,0.11875309760757759,0.11876546146584636,0.11877782532411515,0.11879018918238395,0.11880255304065272,0.11881491689892151,0.1188272807571903,0.11883964461545908,0.11885200847372787,0.11886437233199666,0.11887673619026544,0.11888910004853423,0.11890146390680302,0.11891382776507181,0.11892619162334059,0.11893855548160938,0.11895091933987817,0.11896328319814695,0.11897564705641574,0.11898801091468453,0.1190003747729533,0.1190127386312221,0.11902510248949089,0.11903746634775966,0.11904983020602845,0.11906219406429724,0.11907455792256602,0.11908692178083481,0.1190992856391036,0.11911164949737238,0.11912401335564117,0.11913637721390996,0.11914874107217874,0.11916110493044753,0.11917346878871632,0.1191858326469851,0.11919819650525389,0.11921056036352268,0.11922292422179145,0.11923528808006024,0.11924765193832904,0.11926001579659781,0.1192723796548666,0.1192847435131354,0.11929710737140417,0.11930947122967296,0.11932183508794175,0.11933419894621054,0.11934656280447932,0.11935892666274811,0.1193712905210169,0.11938365437928568,0.11939601823755447,0.11940838209582326,0.11942074595409204,0.11943310981236083,0.11944547367062962,0.1194578375288984,0.11947020138716719,0.11948256524543598,0.11949492910370475,0.11950729296197354,0.11951965682024233,0.11953202067851111,0.1195443845367799,0.11955674839504869,0.11956911225331747,0.11958147611158626,0.11959383996985505,0.11960620382812383,0.11961856768639262,0.11963093154466141,0.1196432954029302,0.11965565926119898,0.11966802311946777,0.11968038697773656,0.11969275083600533,0.11970511469427413,0.11971747855254292,0.1197298424108117,0.11974220626908048,0.11975457012734927,0.11976693398561805,0.11977929784388684,0.11979166170215563,0.11980402556042441,0.1198163894186932,0.11982875327696199,0.11984111713523077,0.11985348099349956,0.11986584485176835,0.11987820871003713,0.11989057256830592,0.11990293642657471,0.11991530028484348,0.11992766414311228,0.11994002800138107,0.11995239185964984,0.11996475571791863,0.11997711957618742,0.1199894834344562,0.12000184729272499,0.12001421115099378,0.12002657500926256,0.12003893886753135,0.12005130272580014,0.12006366658406892,0.12007603044233771,0.1200883943006065,0.12010075815887529,0.12011312201714407,0.12012548587541286,0.12013784973368165,0.12015021359195042,0.12016257745021922,0.120174941308488,0.12018730516675678,0.12019966902502557,0.12021203288329436,0.12022439674156314,0.12023676059983193,0.12024912445810072,0.1202614883163695,0.12027385217463829,0.12028621603290708,0.12029857989117586,0.12031094374944465,0.12032330760771344,0.12033567146598223,0.12034803532425101,0.1203603991825198,0.12037276304078859,0.12038512689905737,0.12039749075732616,0.12040985461559495,0.12042221847386372,0.12043458233213251,0.1204469461904013,0.12045931004867008,0.12047167390693887,0.12048403776520766,0.12049640162347644,0.12050876548174523,0.12052112934001402,0.1205334931982828,0.12054585705655159,0.12055822091482038,0.12057058477308916,0.12058294863135795,0.12059531248962674,0.12060767634789551,0.1206200402061643,0.1206324040644331,0.12064476792270187,0.12065713178097066,0.12066949563923945,0.12068185949750823,0.12069422335577702,0.12070658721404581,0.12071895107231459,0.12073131493058338,0.12074367878885217,0.12075604264712096,0.12076840650538974,0.12078077036365853,0.12079313422192732,0.1208054980801961,0.12081786193846489,0.12083022579673368,0.12084258965500246,0.12085495351327125,0.12086731737154004,0.12087968122980881,0.1208920450880776,0.1209044089463464,0.12091677280461517,0.12092913666288396,0.12094150052115275,0.12095386437942153,0.12096622823769032,0.12097859209595911,0.12099095595422789,0.12100331981249668,0.12101568367076547,0.12102804752903425,0.12104041138730304,0.12105277524557183,0.12106513910384062,0.1210775029621094,0.12108986682037819,0.12110223067864698,0.12111459453691575,0.12112695839518454,0.12113932225345334,0.12115168611172211,0.1211640499699909,0.1211764138282597,0.12118877768652847,0.12120114154479726,0.12121350540306605,0.12122586926133483,0.12123823311960362,0.12125059697787241,0.12126296083614119,0.12127532469440998,0.12128768855267877,0.12130005241094755,0.12131241626921634,0.12132478012748513,0.1213371439857539,0.1213495078440227,0.12136187170229149,0.12137423556056026,0.12138659941882905,0.12139896327709784,0.12141132713536662,0.12142369099363541,0.1214360548519042,0.12144841871017298,0.12146078256844177,0.12147314642671056,0.12148551028497934,0.12149787414324813,0.12151023800151692,0.12152260185978571,0.12153496571805449,0.12154732957632328,0.12155969343459207,0.12157205729286084,0.12158442115112963,0.12159678500939843,0.1216091488676672,0.12162151272593599,0.12163387658420478,0.12164624044247356,0.12165860430074235,0.12167096815901114,0.12168333201727992,0.12169569587554871,0.1217080597338175,0.12172042359208628,0.12173278745035507,0.12174515130862386,0.12175751516689264,0.12176987902516143,0.12178224288343022,0.12179460674169901,0.12180697059996778,0.12181933445823658,0.12183169831650537,0.12184406217477414,0.12185642603304293,0.12186878989131172,0.1218811537495805,0.12189351760784929,0.12190588146611808,0.12191824532438686,0.12193060918265565,0.12194297304092444,0.12195533689919322,0.12196770075746201,0.1219800646157308,0.12199242847399958],\"xaxis\":\"x\",\"y\":[0.9721400688468377,1.073946959139683,1.1828490549102022,1.2987718263036614,1.4215154193878363,1.5507441025961748,1.6859806771115127,1.8266067821409628,1.9718697149708069,2.120896005346234,2.2727115644303337,2.4262678062821426,2.5804727523428785,2.7342258125154006,2.886454719453794,3.0361529950983095,3.1824163572767996,3.324476622685558,3.4617319108139744,3.593772270387103,3.7204001970148397,3.841645846345475,3.9577770316355907,4.0693042959049865,4.176981445762899,4.281801919842425,4.38499124830579,4.487995664548743,4.592466691559973,4.700241286864367,4.813316937717225,4.933820995286007,5.063973557601836,5.206043377694785,5.362296591103924,5.534938514088762,5.72604933183066,5.937515131882272,6.170956388884366,6.427656613486379,6.708494382776562,7.013882317940459,7.343716723979093,7.697341526440192,8.073529817928527,8.470485766738896,8.885868862530277,9.316841516800775,9.760139949522285,10.212167138528672,10.669105452202889,11.12704549793652,11.58212676577524,12.030684888803783,12.469399828779146,12.895439062475955,13.30658990913336,13.70137550163303,14.07914954352662,14.440165872655122,14.785619916257001,15.117660306962993,15.439370162418392,15.754718741329762,16.068485308737703,16.386158017102375,16.713811396107065,17.057966619180597,17.425439072838365,17.8231779071526,18.258102216662017,18.736938324603685,19.266062357444923,19.851351938054282,20.498050425789327,21.21064671317994,21.992773164675636,22.847123856677314,23.77539484592842,24.778247747182938,25.855297432450193,27.0051241673842,28.22530997622774,29.51249848298399,30.8624769285656,32.27027853306406,33.730302883443144,35.23645160410195,36.78227623087633,38.36113497112789,39.9663548969373,41.59139607900824,43.23001421054586,44.87641837208639,46.525420726475964,48.1725750864889,49.814301450110285,51.44799374368908,53.07210815534424,54.68622959450227,56.29111400191604,57.88870448611883,59.48211960566024,61.07561257547567,62.67450076491556,64.2850655754308,65.91442362462342,67.5703710916711,69.26120405666714,70.99551864280086,72.78199569169891,74.62917551537902,76.54522892495405,78.53773119820141,80.61344588781968,82.77812537427829,85.03633482773529,87.39130576773161,89.84482470998265,92.39716148394763,95.04704071432694,97.7916587078386,100.62674660067758,103.54667913385016,106.54462686974752,109.61274808900643,112.74241506448205,115.92446795857317,119.14948829772794,122.4080829115717,125.69116845012002,128.990246170814,132.29765666484965,135.60680460062687,138.91234441186486,142.21031913770128,145.4982462983759,148.77514670667534,152.0415143983052,155.29922832247294,158.5514089642271,161.80222556164134,165.0566619181887,168.32025087860927,171.59878922421714,174.89804594941054,178.22347751704038,181.57996368835117,184.9715768415774,188.40139632063705,191.8713773187406,195.3822811686403,198.933670790728,202.5239715941437,206.15059452013023,209.81011437397865,213.49849333893619,217.21133682589942,220.94416679162813,224.69269652206785,228.4530907401971,232.2221958062255,235.9977267050718,239.77840035825065,243.56400837809403,247.35542646384053,251.15456193804505,254.9642451273285,258.7880740927692,262.6302253195203,266.4952451359306,270.3878376647017,274.3126649078431,278.2741731186393,282.2764569958464,286.3231696192886,290.41748168725087,294.56208883769074,298.75926101221233,303.01092335178987,307.31875439144414,311.6842847091108,316.1089779781436,320.5942767764541,325.1415976029525,329.7522632923556,334.4273662060383,339.16756187142744,343.97279968157045,348.8420042890669,353.7727278185434,358.7607983602227,363.79999382551864,368.8817716892344,373.9950841159606,379.1263043796998,384.25928446814635,389.3755556774804,394.454674416788,399.474705082695,404.41282156493116,409.2459995579576,413.9517641819415,418.5089521254312,422.8984450821478,427.1038318892971,431.11196044733714,434.9133469135031,438.5024182906876,441.8775746870676,445.0410684054786,447.9987078187004,450.7594039328471,453.3345859905655,455.73751893782986,457.9825597878317,460.0843917741823,462.0572747879916,463.91434818137407,465.6670179408673,467.32445488926413,468.893224374296,470.37706122835283,471.77679695918766,473.090439413603,474.3133987322419,475.43884741672895,476.4581968579215,477.3616678109889,478.13892814381563,478.77976784746886,479.2747789304406,479.6160065959746,479.7975382091341,479.81599816767283,479.6709200253303,479.3649721269932,478.9040195466523,478.29701308687174,477.55570518069527,476.69420227663517,475.728373114404,474.6751415630319,473.5517007142954,472.3746910494117,471.1593891620688,469.91895430930526,468.663777755098,467.40097448390867,466.13404865451014,464.8627536394476,463.58315536201775,462.28789476438124,460.9666325659007,459.6066479504304,458.19355332538015,456.712080532753,455.14689034933247,453.4833570071228,451.7082827284955,449.8105035590189,447.7813565113138,445.61498843999533,443.3084982792172,440.8619153950807,438.27802699746303,435.56207611294127,432.7213580220148,429.7647470107466,426.70218671113594,423.5441763562477,420.3012822886624,416.9836995007218,413.6008823940129,410.1612578773852,406.67202788928154,403.1390628556612,399.566882785006,395.9587188333476,392.316645293683,388.6417700184408,384.93447013441084,381.19465937951577,377.42207329702177,373.6165587074696,369.7783542362518,365.90834915967383,362.0083084638689,358.08105285851434,354.13058365338406,350.1621439976573,346.1822100859168,342.1984085909029,338.2193597660149,334.2544492710628,330.3135356395419,326.4066041897538,322.54338180813824,318.7329301100233,314.98323673450005,311.3008257259641,307.69040793687253,304.15459108605774,300.6936665575227,297.3054863591263,293.98543910283195,290.72652871322407,287.5195541611036,284.3533832124588,281.2153083264704,278.09146873481427,274.9673196300328,271.8281274451004,268.659469491836,265.4477167271826,262.1804800344119,258.8470029748128,255.43848726751568,251.94834104326307,248.37234393727115,244.70872709110594,240.95816990578865,237.1237187477231,233.21063562182263,229.22618700598582,225.17938454751865,221.08069015746443,216.94169823821824,212.77480740540037,208.59289319850427,204.40899200801752,200.23600487939188,196.08642808774098,191.9721155119005,187.90407597045905,183.89230690809518,179.94566422356942,176.07176668491127,172.27693234348885,168.56614367767833,164.9430378863012,161.409918804208,157.96778728928066,154.6163875664626,151.35426782069973,148.17885419770602,145.08653818216547,142.07277796235613,139.13221475655558,136.25880509596962,133.44596969100363,130.68675875619542,127.97403258022585,125.30065478919215,122.65969428629609,120.04463040275422,117.44955451602328,114.86936042755063,112.29991526601212,109.7382026820101,107.18243067087576,104.63209749768839,102.08801085058589,99.55225741937161,97.0281224560406,94.51996136804267,92.03302786073958,89.57326542114274,87.14707087538343,84.76104023697235,82.42170800425029,80.13529141321614,77.90745089397312,75.74307714065775,73.64611384394648,71.61942333711316,69.66470027754404,67.78243614387948,65.97193489874726,64.23137777142358,62.557932868150885,60.947903322993206,59.39690604503374,57.90007186556814,56.45225708911824,55.04825613138606,53.6830050926007,52.35176675355466,51.05028856342029,49.77492666517535,48.522730811711305,47.29148708446771,46.07971754355415,44.886638209528165,43.71207898998077,42.556371202091874,41.42021009092563,40.30450109638681,39.210199489581,38.138153316215885,37.088959316084974,36.06284063585418,35.05955375941316,34.07833022746964,33.11785652329984,32.176293110030095,31.251331179101026,30.34028337680763,29.44020277260869,28.548022752512352,27.66070946083984,26.775417928025437,25.889643117036304,25.001357756334784,24.109129921835088,23.21221477204787,22.31061649915918,21.40511829938264,20.497279862690483,19.589403429557297,18.684470783478925,17.786054597668453,16.89820831953955,16.02533927147783,15.172069905632346,14.343092219785156,13.543020268610427,12.77624553159536,12.04679965524672,11.358228787828631,10.71348336973592,10.114826819842303,9.563766049698366,9.061006124861933,8.606430664220463,8.199108724449154,7.837327973911737,7.518652951931962,7.240006184636907,6.9977689484734675,6.787897603943652,6.606050730661505,6.447721837374901,6.308372238448116,6.183558802092315,6.069051682155136,5.960937817071461,5.855706867152234,5.750317297730888,5.642241422826648,5.529489320586702,5.410612540962111,5.284689382798761,5.1512941743141,5.010453421684571,4.862591891812666,4.708471685381044,4.549127171097027,4.385798340165141,4.219864756076172,4.052781872393137,3.886021116595234,3.721014825056,3.559106880921211,3.401509754382261,3.249268559490658,3.103232697008131,2.9640356154322616,2.8320831574688086,2.7075508365575316,2.5903901869656263,2.4803440442235156,2.3769702484034734,2.27967284395097,2.187739412063906,2.1003827589081685,2.016784842010048,1.9361405916559484,1.8576992088615214,1.7808006176409998,1.7049050213561014,1.629613947336295,1.5546817302201756,1.4800170379620337,1.4056747310533644,1.331839007166672,1.2587993641585247,1.186921365951222,1.1166144825302329,1.0482993772020066,0.9823769287378981,0.9192010174467444,0.8590567018744586,0.8021449074718984,0.7485741879738973,0.6983595542560539,0.6514278412771767,0.6076286416621268,0.5667495046940517,0.5285338999797959],\"yaxis\":\"y\",\"type\":\"scatter\"},{\"legendgroup\":\"\\u0421\\u0442\\u0430\\u0440\\u044b\\u0439 \\u043b\\u0435\\u043d\\u0434\\u0438\\u043d\\u0433\",\"marker\":{\"color\":\"#A6ACEC\"},\"mode\":\"lines\",\"name\":\"\\u0421\\u0442\\u0430\\u0440\\u044b\\u0439 \\u043b\\u0435\\u043d\\u0434\\u0438\\u043d\\u0433\",\"showlegend\":true,\"x\":[0.11737495790117602,0.11738902117566974,0.11740308445016345,0.11741714772465717,0.11743121099915088,0.1174452742736446,0.11745933754813831,0.11747340082263201,0.11748746409712572,0.11750152737161944,0.11751559064611315,0.11752965392060687,0.11754371719510058,0.1175577804695943,0.11757184374408801,0.11758590701858172,0.11759997029307544,0.11761403356756915,0.11762809684206287,0.11764216011655658,0.11765622339105028,0.117670286665544,0.11768434994003771,0.11769841321453142,0.11771247648902514,0.11772653976351885,0.11774060303801256,0.11775466631250628,0.11776872958699999,0.11778279286149371,0.11779685613598742,0.11781091941048114,0.11782498268497485,0.11783904595946855,0.11785310923396226,0.11786717250845598,0.11788123578294969,0.1178952990574434,0.11790936233193712,0.11792342560643083,0.11793748888092455,0.11795155215541826,0.11796561542991198,0.11797967870440569,0.1179937419788994,0.1180078052533931,0.11802186852788682,0.11803593180238053,0.11804999507687425,0.11806405835136796,0.11807812162586168,0.11809218490035539,0.1181062481748491,0.11812031144934282,0.11813437472383653,0.11814843799833025,0.11816250127282396,0.11817656454731768,0.11819062782181138,0.11820469109630509,0.1182187543707988,0.11823281764529252,0.11824688091978623,0.11826094419427995,0.11827500746877366,0.11828907074326737,0.11830313401776109,0.1183171972922548,0.11833126056674852,0.11834532384124223,0.11835938711573595,0.11837345039022965,0.11838751366472336,0.11840157693921707,0.11841564021371079,0.1184297034882045,0.11844376676269822,0.11845783003719193,0.11847189331168564,0.11848595658617936,0.11850001986067307,0.11851408313516679,0.1185281464096605,0.11854220968415421,0.11855627295864792,0.11857033623314163,0.11858439950763534,0.11859846278212906,0.11861252605662277,0.11862658933111649,0.1186406526056102,0.11865471588010391,0.11866877915459763,0.11868284242909134,0.11869690570358506,0.11871096897807877,0.11872503225257248,0.11873909552706619,0.1187531588015599,0.11876722207605361,0.11878128535054733,0.11879534862504104,0.11880941189953476,0.11882347517402847,0.11883753844852218,0.1188516017230159,0.11886566499750961,0.11887972827200333,0.11889379154649704,0.11890785482099075,0.11892191809548446,0.11893598136997817,0.11895004464447188,0.1189641079189656,0.11897817119345931,0.11899223446795303,0.11900629774244674,0.11902036101694045,0.11903442429143417,0.11904848756592788,0.1190625508404216,0.11907661411491531,0.11909067738940901,0.11910474066390273,0.11911880393839644,0.11913286721289015,0.11914693048738387,0.11916099376187758,0.1191750570363713,0.11918912031086501,0.11920318358535872,0.11921724685985244,0.11923131013434615,0.11924537340883987,0.11925943668333358,0.11927349995782728,0.119287563232321,0.11930162650681471,0.11931568978130842,0.11932975305580214,0.11934381633029585,0.11935787960478957,0.11937194287928328,0.119386006153777,0.11940006942827071,0.11941413270276442,0.11942819597725814,0.11944225925175185,0.11945632252624555,0.11947038580073926,0.11948444907523298,0.1194985123497267,0.11951257562422041,0.11952663889871412,0.11954070217320784,0.11955476544770155,0.11956882872219526,0.11958289199668898,0.11959695527118269,0.1196110185456764,0.11962508182017012,0.11963914509466382,0.11965320836915753,0.11966727164365125,0.11968133491814496,0.11969539819263868,0.11970946146713239,0.1197235247416261,0.11973758801611982,0.11975165129061353,0.11976571456510725,0.11977977783960096,0.11979384111409468,0.11980790438858838,0.11982196766308209,0.1198360309375758,0.11985009421206952,0.11986415748656323,0.11987822076105695,0.11989228403555066,0.11990634731004438,0.11992041058453809,0.1199344738590318,0.11994853713352552,0.11996260040801923,0.11997666368251295,0.11999072695700666,0.12000479023150036,0.12001885350599407,0.12003291678048779,0.1200469800549815,0.12006104332947522,0.12007510660396893,0.12008916987846265,0.12010323315295636,0.12011729642745007,0.12013135970194379,0.1201454229764375,0.12015948625093122,0.12017354952542492,0.12018761279991863,0.12020167607441234,0.12021573934890606,0.12022980262339977,0.12024386589789349,0.1202579291723872,0.12027199244688092,0.12028605572137463,0.12030011899586834,0.12031418227036206,0.12032824554485577,0.12034230881934949,0.12035637209384319,0.1203704353683369,0.12038449864283061,0.12039856191732433,0.12041262519181804,0.12042668846631176,0.12044075174080547,0.12045481501529919,0.1204688782897929,0.12048294156428661,0.12049700483878033,0.12051106811327404,0.12052513138776776,0.12053919466226146,0.12055325793675517,0.12056732121124888,0.1205813844857426,0.12059544776023631,0.12060951103473003,0.12062357430922374,0.12063763758371746,0.12065170085821117,0.12066576413270488,0.1206798274071986,0.12069389068169231,0.12070795395618603,0.12072201723067973,0.12073608050517344,0.12075014377966715,0.12076420705416087,0.12077827032865458,0.1207923336031483,0.12080639687764201,0.12082046015213573,0.12083452342662944,0.12084858670112315,0.12086264997561687,0.12087671325011058,0.12089077652460428,0.120904839799098,0.12091890307359171,0.12093296634808542,0.12094702962257914,0.12096109289707285,0.12097515617156657,0.12098921944606028,0.121003282720554,0.12101734599504771,0.12103140926954142,0.12104547254403514,0.12105953581852885,0.12107359909302257,0.12108766236751627,0.12110172564200998,0.1211157889165037,0.12112985219099741,0.12114391546549112,0.12115797873998484,0.12117204201447855,0.12118610528897227,0.12120016856346598,0.1212142318379597,0.12122829511245341,0.12124235838694712,0.12125642166144082,0.12127048493593454,0.12128454821042825,0.12129861148492196,0.12131267475941568,0.12132673803390939,0.1213408013084031,0.12135486458289682,0.12136892785739054,0.12138299113188425,0.12139705440637796,0.12141111768087168,0.12142518095536539,0.1214392442298591,0.1214533075043528,0.12146737077884652,0.12148143405334023,0.12149549732783395,0.12150956060232766,0.12152362387682138,0.12153768715131509,0.1215517504258088,0.12156581370030252,0.12157987697479623,0.12159394024928995,0.12160800352378365,0.12162206679827736,0.12163613007277108,0.12165019334726479,0.1216642566217585,0.12167831989625222,0.12169238317074593,0.12170644644523965,0.12172050971973336,0.12173457299422707,0.12174863626872079,0.1217626995432145,0.12177676281770822,0.12179082609220193,0.12180488936669563,0.12181895264118935,0.12183301591568306,0.12184707919017677,0.12186114246467049,0.1218752057391642,0.12188926901365792,0.12190333228815163,0.12191739556264534,0.12193145883713906,0.12194552211163277,0.12195958538612649,0.12197364866062019,0.1219877119351139,0.12200177520960762,0.12201583848410133,0.12202990175859504,0.12204396503308876,0.12205802830758247,0.12207209158207619,0.1220861548565699,0.12210021813106361,0.12211428140555733,0.12212834468005104,0.12214240795454476,0.12215647122903847,0.12217053450353217,0.12218459777802589,0.1221986610525196,0.12221272432701331,0.12222678760150703,0.12224085087600074,0.12225491415049446,0.12226897742498817,0.12228304069948188,0.1222971039739756,0.12231116724846931,0.12232523052296303,0.12233929379745673,0.12235335707195044,0.12236742034644416,0.12238148362093787,0.12239554689543158,0.1224096101699253,0.12242367344441901,0.12243773671891273,0.12245179999340644,0.12246586326790015,0.12247992654239387,0.12249398981688758,0.1225080530913813,0.122522116365875,0.12253617964036871,0.12255024291486243,0.12256430618935614,0.12257836946384985,0.12259243273834357,0.12260649601283728,0.122620559287331,0.12263462256182471,0.12264868583631842,0.12266274911081214,0.12267681238530585,0.12269087565979955,0.12270493893429327,0.12271900220878698,0.1227330654832807,0.12274712875777441,0.12276119203226812,0.12277525530676184,0.12278931858125555,0.12280338185574927,0.12281744513024298,0.1228315084047367,0.12284557167923041,0.12285963495372412,0.12287369822821784,0.12288776150271154,0.12290182477720525,0.12291588805169897,0.12292995132619268,0.1229440146006864,0.12295807787518011,0.12297214114967382,0.12298620442416754,0.12300026769866125,0.12301433097315496,0.12302839424764868,0.12304245752214239,0.12305652079663609,0.12307058407112981,0.12308464734562352,0.12309871062011724,0.12311277389461095,0.12312683716910466,0.12314090044359838,0.12315496371809209,0.1231690269925858,0.12318309026707952,0.12319715354157323,0.12321121681606695,0.12322528009056066,0.12323934336505438,0.12325340663954808,0.12326746991404179,0.1232815331885355,0.12329559646302922,0.12330965973752293,0.12332372301201665,0.12333778628651036,0.12335184956100408,0.12336591283549779,0.1233799761099915,0.12339403938448522,0.12340810265897892,0.12342216593347263,0.12343622920796635,0.12345029248246006,0.12346435575695378,0.12347841903144749,0.1234924823059412,0.12350654558043492,0.12352060885492863,0.12353467212942235,0.12354873540391606,0.12356279867840977,0.12357686195290349,0.1235909252273972,0.1236049885018909,0.12361905177638462,0.12363311505087833,0.12364717832537205,0.12366124159986576,0.12367530487435947,0.12368936814885319,0.1237034314233469,0.12371749469784062,0.12373155797233433,0.12374562124682804,0.12375968452132176,0.12377374779581546,0.12378781107030917,0.12380187434480289,0.1238159376192966,0.12383000089379032,0.12384406416828403,0.12385812744277774,0.12387219071727146,0.12388625399176517,0.12390031726625889,0.1239143805407526,0.12392844381524631,0.12394250708974003,0.12395657036423374,0.12397063363872744,0.12398469691322116,0.12399876018771487,0.12401282346220859,0.1240268867367023,0.12404095001119601,0.12405501328568973,0.12406907656018344,0.12408313983467716,0.12409720310917087,0.12411126638366458,0.1241253296581583,0.124139392932652,0.12415345620714571,0.12416751948163943,0.12418158275613314,0.12419564603062686,0.12420970930512057,0.12422377257961428,0.124237835854108,0.12425189912860171,0.12426596240309543,0.12428002567758914,0.12429408895208285,0.12430815222657657,0.12432221550107028,0.12433627877556398,0.1243503420500577,0.12436440532455141,0.12437846859904512,0.12439253187353884],\"xaxis\":\"x\",\"y\":[0.858604422232811,0.9010285351575225,0.942021506044302,0.9820275774274989,1.0216689813119781,1.0617321436734903,1.1031471588355475,1.1469616294590081,1.1943101205437578,1.2463805343185486,1.3043787033945458,1.3694924538620818,1.4428563380380186,1.5255181995329608,1.6184087188361962,1.7223150878744038,1.8378599551587758,1.9654867380742544,2.1054522820932102,2.257827630274667,2.422507335262895,2.599227303121997,2.787590626979916,2.9871002905888577,3.1971970533736123,3.417300331647145,3.646849525491965,3.88534305670516,4.1323724121148695,4.387648738743508,4.651020000322736,4.9224773455405435,5.202150107817389,5.490289694740047,5.7872434686656264,6.09342050607179,6.409251795566922,6.7351479457328445,7.0714577877968905,7.418431350264635,7.7761905416141985,8.144710504955224,8.52381402133159,8.913180566645222,9.312370715782198,9.720865593686858,10.138120063449113,10.563627386951095,10.996992263331235,11.438008504805387,11.886737193416723,12.343581001202947,12.809350452831985,13.285318245005808,13.773258273611548,14.275466708247095,14.79476323965807,15.33447145611459,15.898378135152276,16.49067203437938,17.115863509302876,17.77868696913029,18.483988803496743,19.23660397851967,20.041225013473078,20.90226750910856,21.823736797358645,22.809100602793208,23.86117282256182,24.982013609063397,26.172850837629053,27.434027716187952,28.764980702848213,30.16425100473176,31.62953171526984,33.15775110688457,34.745190760726466,36.387635151441586,38.08054712149648,39.81926152840328,41.599187419219454,43.416007595815934,45.26586360294662,47.14551420012963,49.05245641699399,50.985000406596626,52.94229245916607,54.92428454904162,56.9316533589739,58.96567644081677,61.02807752951562,63.12085649626403,65.24612150818568,67.40594126062739,69.60223344019056,71.83670186168017,74.11082925332252,76.42592594652233,78.78322747687254,81.18402718233854,83.62982419451895,86.12246358702583,88.66424450671856,91.25797420895117,93.90695102124559,96.61486695340668,99.3856301718588,102.22311779008027,105.13087915919914,108.11181782539138,111.16788545984303,114.29982257332978,117.50697833433138,120.78723543830803,124.13705633677239,127.55165526322983,131.02528772543474,134.55163693957238,138.12426647765193,141.7371013626551,145.3848967636506,149.06365461135061,152.7709536437518,156.50616688410068,160.27055124833947,164.06720554590896,167.90090420148724,171.77782335289777,175.70518264319605,179.69082951278548,183.7427930718418,187.8688321073704,192.07599723601865,196.37022166850153,200.75594958595158,205.2358067182725,209.81031507788074,214.47765329038924,219.23346551340745,224.07072507964557,228.9796629527224,233.94777485713809,238.95992351005526,243.9985528363083,249.04402874899938,254.07511575874702,259.0695904937961,264.00498275061034,268.85942288765466,273.6125624113939,278.246523777933,282.7468269981438,287.10323565157887,291.31046414036604,295.36869181420604,299.2838379105352,303.06756360049127,306.7369829650652,310.31408231615904,313.8248656158468,317.29826146515387,320.76484291777376,324.2554240720408,327.79960610339754,331.42434952803427,335.15264879266283,339.00237987602446,342.98538190684485,347.1068205773324,351.3648653043896,355.7506947388083,360.24882746752183,364.837757675253,369.4908600913199,374.1775155317795,378.8643983316564,383.51686030146374,388.1003426789885,392.5817478443015,396.9307061397487,401.1206797008926,405.12985439627226,408.94178237732893,412.54575088395234,415.936867303487,419.11586543041403,422.08865271605373,424.8656322378601,427.4608452918062,429.89099003802136,432.1743776899825,434.32988967340924,436.37599660456044,438.3298928263738,440.20678900424264,442.01939078030375,443.77757498190937,445.48825794225183,447.1554348224338,448.78035606493444,450.3617986239808,451.8963863082764,453.3789157300001,454.80265160589244,456.1595664853648,457.4405138496133,458.63533807012794,459.73293799399596,460.72131117665606,461.5876116713869,462.3182550658303,462.8991000754085,463.31572708916264,463.5538218230325,463.59965827680696,463.44066129484713,463.0660169106562,462.467289739254,461.6390019466677,460.57912820697425,459.2894654316885,457.77584430614957,456.04816079701135,454.12021858454324,452.0093865402155,449.73608771712634,447.3231468519602,444.79503137130854,442.1770259376981,439.49438254569264,436.77148723266794,434.0310809607986,431.29356666404345,428.5764274396011,425.8937730390585,423.25602381796585,420.6697337242551,418.1375472536217,415.65827996528213,413.2271083814091,410.83585297105896,408.4733373567727,406.12580763086993,403.77739734980116,401.4106259276155,399.00692029245835,396.5471513683355,394.0121778749278,391.3833899334042,388.64324404117235,385.7757793243124,382.7671029287958,379.6058303978405,376.283465352506,372.79470215281907,369.1376357707986,365.31386501663815,361.32847852790076,357.189917411207,352.9097138411122,348.50211091116637,343.9835751904159,339.3722193526388,334.6871575305271,329.9478203638127,325.1732597808129,320.38147516318,315.5887925477901,310.80932684245704,306.0545536759262,301.3330125543013,296.65015663811164,292.00835696940334,287.4070607482515,282.8430947546179,278.3110967689731,273.80405042823736,269.313892908909,264.8321606355303,260.3506362284168,255.86196032684097,251.36017475364633,246.84116852188504,242.3030050229521,237.7461168145551,233.17336307012104,228.58995323876778,224.0032481107711,219.42245570902668,214.8582438280484,210.32229343069056,205.82681753757836,201.38406897254023,197.00585780283652,192.703096084294,188.48538415518973,184.36064971516504,180.33484862435648,176.41173490692714,172.592706762485,168.8767351915445,165.2603816856528,161.73791080628547,158.301501890157,154.9415612059913,151.6471314873991,148.40638997254916,145.20721925941956,142.0378280453078,138.8873919483791,135.7466789786152,132.60862067863061,129.4687891926337,126.32574300549972,123.18120996967124,120.0400853008242,116.91023392039234,113.80209999455268,110.72814067750309,107.70211469996279,104.73826833416224,101.85047031273933,99.05135260524511,96.35151500141066,93.75884802681402,91.27802102851588,88.91017089632071,86.65281273174712,84.49997798054208,82.44256937692576,80.46890679412994,78.56542494421787,76.71747380807462,74.91016641414124,73.12921650495072,71.361710773066,69.5967664213902,67.82603422675365,66.04401925233118,64.24820490272711,62.438980111942385,60.61938307027043,58.79468708039574,56.971864072336004,55.158968374474966,53.364487127815046,51.59670407789636,49.863120465585915,48.169970684419035,46.52186181276932,44.921555773562176,43.36990155588906,41.86591354406567,40.406981421926226,38.98918815105665,37.60770580812677,36.25723504910224,34.932452845724775,33.62843485455623,32.34102303020653,31.067115373062574,29.804862347629708,28.55376277851452,27.3146601794837,26.089647815324167,24.881896782805285,23.695425644023942,22.534832465617882,21.405010519843778,20.310867573394578,19.25706595337837,18.247796856532094,17.286598118990565,16.3762203417113,15.518542269434441,14.714532959192402,13.964255749610432,13.266907440168238,12.62088538580166,12.023875289720673,11.47295315164474,10.964695878281992,10.495296260154106,10.060679158246257,9.656616665027576,9.278840606971183,8.923151006124096,8.585519047126395,8.262182787696245,7.949733426632765,7.645189542629127,7.346056474024164,7.050368034430396,6.7567081223668035,6.464210504994482,6.172536104006679,5.881828403493383,5.592649013911638,5.305896818089747,5.022715343827552,4.744393915715923,4.472268629254324,4.207629199517566,3.951637251959343,3.705260684198717,3.4692274218347476,3.244000342265564,3.0297734939678365,2.8264881461513007,2.633865805431556,2.4514542470598357,2.2786819069695183,2.11491570404656,1.9595175032358338,1.8118949441518784,1.6715431706362096,1.5380750077570098,1.4112382391443503,1.2909197372018486,1.1771372022446296,1.0700201044592192,0.9697820492293225,0.8766871812287251,0.7910134081585023,0.713015182371746,0.6428883624950777,0.5807393294144075,0.5265600951474426,0.48021065961896786,0.4414093734157409,0.40973158068786364,0.38461636426061635,0.3653808070708666,0.3512408282096702,0.34133735392258974,0.33476634936793304,0.33061107202987317,0.32797481959205016,0.32601244096395365,0.32395896450052397,0.32115387398167905,0.3170598265706227,0.31127494650072507,0.3035382247512199,0.29372798265049027,0.28185378541604317,0.26804258729204433,0.25252022185732026,0.23558959299230212,0.21760705582231182,0.1989584949040966,0.18003651235797935,0.16121994553655852,0.14285666488917526,0.12525028655372863,0.10865110197172437,0.09325120851850269,0.07918354662136007,0.06652432941087102,0.05529820200933536,0.04548539228558451,0.037030108955833786,0.029849495877891846,0.02384254873247781,0.01889852545783285,0.014904518228422082,0.011751987516989105,0.00934217576943739,0.007590410904743355,0.006429373427524795,0.005811434183197334,0.005710174601444877,0.006121182108779601,0.00706217658405249,0.008572476879993437,0.010711767800930635,0.013558085873698689,0.017204914681268096,0.0217572743165187,0.02732670987361879,0.03402513374755064,0.04195755586666129,0.051213841430415186,0.06185976015851275,0.07392772374663586,0.08740773532523341,0.10223918031136901,0.11830415565256533,0.1354230489760188,0.1533530289491338,0.17178998714411275,0.1903742810044963,0.20870037644820216,0.2263301947317452,0.24280965610258481,0.25768761209841323,0.270536100610958,0.2809706727200151,0.28866945196471117,0.29338961038080846],\"yaxis\":\"y\",\"type\":\"scatter\"}],                        {\"barmode\":\"overlay\",\"hovermode\":\"closest\",\"legend\":{\"traceorder\":\"reversed\"},\"xaxis\":{\"anchor\":\"y2\",\"domain\":[0.0,1.0],\"zeroline\":false},\"yaxis\":{\"anchor\":\"free\",\"domain\":[0.0,1],\"position\":0.0},\"template\":{\"data\":{\"histogram2dcontour\":[{\"type\":\"histogram2dcontour\",\"colorbar\":{\"outlinewidth\":0,\"ticks\":\"\"},\"colorscale\":[[0.0,\"#0d0887\"],[0.1111111111111111,\"#46039f\"],[0.2222222222222222,\"#7201a8\"],[0.3333333333333333,\"#9c179e\"],[0.4444444444444444,\"#bd3786\"],[0.5555555555555556,\"#d8576b\"],[0.6666666666666666,\"#ed7953\"],[0.7777777777777778,\"#fb9f3a\"],[0.8888888888888888,\"#fdca26\"],[1.0,\"#f0f921\"]]}],\"choropleth\":[{\"type\":\"choropleth\",\"colorbar\":{\"outlinewidth\":0,\"ticks\":\"\"}}],\"histogram2d\":[{\"type\":\"histogram2d\",\"colorbar\":{\"outlinewidth\":0,\"ticks\":\"\"},\"colorscale\":[[0.0,\"#0d0887\"],[0.1111111111111111,\"#46039f\"],[0.2222222222222222,\"#7201a8\"],[0.3333333333333333,\"#9c179e\"],[0.4444444444444444,\"#bd3786\"],[0.5555555555555556,\"#d8576b\"],[0.6666666666666666,\"#ed7953\"],[0.7777777777777778,\"#fb9f3a\"],[0.8888888888888888,\"#fdca26\"],[1.0,\"#f0f921\"]]}],\"heatmap\":[{\"type\":\"heatmap\",\"colorbar\":{\"outlinewidth\":0,\"ticks\":\"\"},\"colorscale\":[[0.0,\"#0d0887\"],[0.1111111111111111,\"#46039f\"],[0.2222222222222222,\"#7201a8\"],[0.3333333333333333,\"#9c179e\"],[0.4444444444444444,\"#bd3786\"],[0.5555555555555556,\"#d8576b\"],[0.6666666666666666,\"#ed7953\"],[0.7777777777777778,\"#fb9f3a\"],[0.8888888888888888,\"#fdca26\"],[1.0,\"#f0f921\"]]}],\"heatmapgl\":[{\"type\":\"heatmapgl\",\"colorbar\":{\"outlinewidth\":0,\"ticks\":\"\"},\"colorscale\":[[0.0,\"#0d0887\"],[0.1111111111111111,\"#46039f\"],[0.2222222222222222,\"#7201a8\"],[0.3333333333333333,\"#9c179e\"],[0.4444444444444444,\"#bd3786\"],[0.5555555555555556,\"#d8576b\"],[0.6666666666666666,\"#ed7953\"],[0.7777777777777778,\"#fb9f3a\"],[0.8888888888888888,\"#fdca26\"],[1.0,\"#f0f921\"]]}],\"contourcarpet\":[{\"type\":\"contourcarpet\",\"colorbar\":{\"outlinewidth\":0,\"ticks\":\"\"}}],\"contour\":[{\"type\":\"contour\",\"colorbar\":{\"outlinewidth\":0,\"ticks\":\"\"},\"colorscale\":[[0.0,\"#0d0887\"],[0.1111111111111111,\"#46039f\"],[0.2222222222222222,\"#7201a8\"],[0.3333333333333333,\"#9c179e\"],[0.4444444444444444,\"#bd3786\"],[0.5555555555555556,\"#d8576b\"],[0.6666666666666666,\"#ed7953\"],[0.7777777777777778,\"#fb9f3a\"],[0.8888888888888888,\"#fdca26\"],[1.0,\"#f0f921\"]]}],\"surface\":[{\"type\":\"surface\",\"colorbar\":{\"outlinewidth\":0,\"ticks\":\"\"},\"colorscale\":[[0.0,\"#0d0887\"],[0.1111111111111111,\"#46039f\"],[0.2222222222222222,\"#7201a8\"],[0.3333333333333333,\"#9c179e\"],[0.4444444444444444,\"#bd3786\"],[0.5555555555555556,\"#d8576b\"],[0.6666666666666666,\"#ed7953\"],[0.7777777777777778,\"#fb9f3a\"],[0.8888888888888888,\"#fdca26\"],[1.0,\"#f0f921\"]]}],\"mesh3d\":[{\"type\":\"mesh3d\",\"colorbar\":{\"outlinewidth\":0,\"ticks\":\"\"}}],\"scatter\":[{\"fillpattern\":{\"fillmode\":\"overlay\",\"size\":10,\"solidity\":0.2},\"type\":\"scatter\"}],\"parcoords\":[{\"type\":\"parcoords\",\"line\":{\"colorbar\":{\"outlinewidth\":0,\"ticks\":\"\"}}}],\"scatterpolargl\":[{\"type\":\"scatterpolargl\",\"marker\":{\"colorbar\":{\"outlinewidth\":0,\"ticks\":\"\"}}}],\"bar\":[{\"error_x\":{\"color\":\"#2a3f5f\"},\"error_y\":{\"color\":\"#2a3f5f\"},\"marker\":{\"line\":{\"color\":\"#E5ECF6\",\"width\":0.5},\"pattern\":{\"fillmode\":\"overlay\",\"size\":10,\"solidity\":0.2}},\"type\":\"bar\"}],\"scattergeo\":[{\"type\":\"scattergeo\",\"marker\":{\"colorbar\":{\"outlinewidth\":0,\"ticks\":\"\"}}}],\"scatterpolar\":[{\"type\":\"scatterpolar\",\"marker\":{\"colorbar\":{\"outlinewidth\":0,\"ticks\":\"\"}}}],\"histogram\":[{\"marker\":{\"pattern\":{\"fillmode\":\"overlay\",\"size\":10,\"solidity\":0.2}},\"type\":\"histogram\"}],\"scattergl\":[{\"type\":\"scattergl\",\"marker\":{\"colorbar\":{\"outlinewidth\":0,\"ticks\":\"\"}}}],\"scatter3d\":[{\"type\":\"scatter3d\",\"line\":{\"colorbar\":{\"outlinewidth\":0,\"ticks\":\"\"}},\"marker\":{\"colorbar\":{\"outlinewidth\":0,\"ticks\":\"\"}}}],\"scattermapbox\":[{\"type\":\"scattermapbox\",\"marker\":{\"colorbar\":{\"outlinewidth\":0,\"ticks\":\"\"}}}],\"scatterternary\":[{\"type\":\"scatterternary\",\"marker\":{\"colorbar\":{\"outlinewidth\":0,\"ticks\":\"\"}}}],\"scattercarpet\":[{\"type\":\"scattercarpet\",\"marker\":{\"colorbar\":{\"outlinewidth\":0,\"ticks\":\"\"}}}],\"carpet\":[{\"aaxis\":{\"endlinecolor\":\"#2a3f5f\",\"gridcolor\":\"white\",\"linecolor\":\"white\",\"minorgridcolor\":\"white\",\"startlinecolor\":\"#2a3f5f\"},\"baxis\":{\"endlinecolor\":\"#2a3f5f\",\"gridcolor\":\"white\",\"linecolor\":\"white\",\"minorgridcolor\":\"white\",\"startlinecolor\":\"#2a3f5f\"},\"type\":\"carpet\"}],\"table\":[{\"cells\":{\"fill\":{\"color\":\"#EBF0F8\"},\"line\":{\"color\":\"white\"}},\"header\":{\"fill\":{\"color\":\"#C8D4E3\"},\"line\":{\"color\":\"white\"}},\"type\":\"table\"}],\"barpolar\":[{\"marker\":{\"line\":{\"color\":\"#E5ECF6\",\"width\":0.5},\"pattern\":{\"fillmode\":\"overlay\",\"size\":10,\"solidity\":0.2}},\"type\":\"barpolar\"}],\"pie\":[{\"automargin\":true,\"type\":\"pie\"}]},\"layout\":{\"autotypenumbers\":\"strict\",\"colorway\":[\"#636efa\",\"#EF553B\",\"#00cc96\",\"#ab63fa\",\"#FFA15A\",\"#19d3f3\",\"#FF6692\",\"#B6E880\",\"#FF97FF\",\"#FECB52\"],\"font\":{\"color\":\"#2a3f5f\"},\"hovermode\":\"closest\",\"hoverlabel\":{\"align\":\"left\"},\"paper_bgcolor\":\"white\",\"plot_bgcolor\":\"#E5ECF6\",\"polar\":{\"bgcolor\":\"#E5ECF6\",\"angularaxis\":{\"gridcolor\":\"white\",\"linecolor\":\"white\",\"ticks\":\"\"},\"radialaxis\":{\"gridcolor\":\"white\",\"linecolor\":\"white\",\"ticks\":\"\"}},\"ternary\":{\"bgcolor\":\"#E5ECF6\",\"aaxis\":{\"gridcolor\":\"white\",\"linecolor\":\"white\",\"ticks\":\"\"},\"baxis\":{\"gridcolor\":\"white\",\"linecolor\":\"white\",\"ticks\":\"\"},\"caxis\":{\"gridcolor\":\"white\",\"linecolor\":\"white\",\"ticks\":\"\"}},\"coloraxis\":{\"colorbar\":{\"outlinewidth\":0,\"ticks\":\"\"}},\"colorscale\":{\"sequential\":[[0.0,\"#0d0887\"],[0.1111111111111111,\"#46039f\"],[0.2222222222222222,\"#7201a8\"],[0.3333333333333333,\"#9c179e\"],[0.4444444444444444,\"#bd3786\"],[0.5555555555555556,\"#d8576b\"],[0.6666666666666666,\"#ed7953\"],[0.7777777777777778,\"#fb9f3a\"],[0.8888888888888888,\"#fdca26\"],[1.0,\"#f0f921\"]],\"sequentialminus\":[[0.0,\"#0d0887\"],[0.1111111111111111,\"#46039f\"],[0.2222222222222222,\"#7201a8\"],[0.3333333333333333,\"#9c179e\"],[0.4444444444444444,\"#bd3786\"],[0.5555555555555556,\"#d8576b\"],[0.6666666666666666,\"#ed7953\"],[0.7777777777777778,\"#fb9f3a\"],[0.8888888888888888,\"#fdca26\"],[1.0,\"#f0f921\"]],\"diverging\":[[0,\"#8e0152\"],[0.1,\"#c51b7d\"],[0.2,\"#de77ae\"],[0.3,\"#f1b6da\"],[0.4,\"#fde0ef\"],[0.5,\"#f7f7f7\"],[0.6,\"#e6f5d0\"],[0.7,\"#b8e186\"],[0.8,\"#7fbc41\"],[0.9,\"#4d9221\"],[1,\"#276419\"]]},\"xaxis\":{\"gridcolor\":\"white\",\"linecolor\":\"white\",\"ticks\":\"\",\"title\":{\"standoff\":15},\"zerolinecolor\":\"white\",\"automargin\":true,\"zerolinewidth\":2},\"yaxis\":{\"gridcolor\":\"white\",\"linecolor\":\"white\",\"ticks\":\"\",\"title\":{\"standoff\":15},\"zerolinecolor\":\"white\",\"automargin\":true,\"zerolinewidth\":2},\"scene\":{\"xaxis\":{\"backgroundcolor\":\"#E5ECF6\",\"gridcolor\":\"white\",\"linecolor\":\"white\",\"showbackground\":true,\"ticks\":\"\",\"zerolinecolor\":\"white\",\"gridwidth\":2},\"yaxis\":{\"backgroundcolor\":\"#E5ECF6\",\"gridcolor\":\"white\",\"linecolor\":\"white\",\"showbackground\":true,\"ticks\":\"\",\"zerolinecolor\":\"white\",\"gridwidth\":2},\"zaxis\":{\"backgroundcolor\":\"#E5ECF6\",\"gridcolor\":\"white\",\"linecolor\":\"white\",\"showbackground\":true,\"ticks\":\"\",\"zerolinecolor\":\"white\",\"gridwidth\":2}},\"shapedefaults\":{\"line\":{\"color\":\"#2a3f5f\"}},\"annotationdefaults\":{\"arrowcolor\":\"#2a3f5f\",\"arrowhead\":0,\"arrowwidth\":1},\"geo\":{\"bgcolor\":\"white\",\"landcolor\":\"#E5ECF6\",\"subunitcolor\":\"white\",\"showland\":true,\"showlakes\":true,\"lakecolor\":\"white\"},\"title\":{\"x\":0.05},\"mapbox\":{\"style\":\"light\"}}},\"title\":{\"text\":\"\\u0420\\u0430\\u0441\\u043f\\u0440\\u0435\\u0434\\u0435\\u043b\\u043d\\u0438\\u0435 \\u0441\\u0440\\u0435\\u0434\\u043d\\u0438\\u0445\"},\"height\":650,\"width\":1000},                        {\"responsive\": true}                    ).then(function(){\n",
       "                            \n",
       "var gd = document.getElementById('d5bf34ea-fceb-49ba-83b4-50b4508a5adb');\n",
       "var x = new MutationObserver(function (mutations, observer) {{\n",
       "        var display = window.getComputedStyle(gd).display;\n",
       "        if (!display || display === 'none') {{\n",
       "            console.log([gd, 'removed!']);\n",
       "            Plotly.purge(gd);\n",
       "            observer.disconnect();\n",
       "        }}\n",
       "}});\n",
       "\n",
       "// Listen for the removal of the full notebook cells\n",
       "var notebookContainer = gd.closest('#notebook-container');\n",
       "if (notebookContainer) {{\n",
       "    x.observe(notebookContainer, {childList: true});\n",
       "}}\n",
       "\n",
       "// Listen for the clearing of the current output cell\n",
       "var outputEl = gd.closest('.output');\n",
       "if (outputEl) {{\n",
       "    x.observe(outputEl, {childList: true});\n",
       "}}\n",
       "\n",
       "                        })                };                });            </script>        </div>"
      ]
     },
     "metadata": {},
     "output_type": "display_data"
    }
   ],
   "source": [
    "hist_data = [boot_1d.new_page, boot_1d.old_page]\n",
    "\n",
    "group_labels = ['Новый лендинг', 'Старый лендинг']\n",
    "colors = ['#A56CC1', '#A6ACEC']\n",
    "\n",
    "fig = ff.create_distplot(hist_data, group_labels, colors=colors, show_hist=False, bin_size=.01, show_rug=False)\n",
    "\n",
    "fig.update_layout(height=650, width=1000, title_text='Распределние средних')\n",
    "fig.show()"
   ]
  },
  {
   "cell_type": "markdown",
   "id": "0136e5e2-db4a-4736-8e9c-76118f179136",
   "metadata": {},
   "source": [
    "Для обеих версий посадочной страницы мы получили распределение, похожее на нормальное.\n",
    "\n",
    "В колонке diff посчитаем разницу между средними и посмотрим на распределение."
   ]
  },
  {
   "cell_type": "code",
   "execution_count": 42,
   "id": "9f6a0600-c191-46b1-a9f0-cac34895811e",
   "metadata": {},
   "outputs": [
    {
     "data": {
      "application/vnd.plotly.v1+json": {
       "config": {
        "plotlyServerURL": "https://plot.ly"
       },
       "data": [
        {
         "legendgroup": "Разница средних",
         "marker": {
          "color": "rgb(31, 119, 180)"
         },
         "mode": "lines",
         "name": "Разница средних",
         "showlegend": true,
         "type": "scatter",
         "x": [
          -0.006682291263536158,
          -0.006662550922281267,
          -0.006642810581026376,
          -0.006623070239771485,
          -0.006603329898516593,
          -0.006583589557261703,
          -0.0065638492160068115,
          -0.006544108874751921,
          -0.0065243685334970295,
          -0.006504628192242138,
          -0.006484887850987248,
          -0.006465147509732356,
          -0.006445407168477465,
          -0.006425666827222574,
          -0.006405926485967683,
          -0.006386186144712792,
          -0.006366445803457901,
          -0.00634670546220301,
          -0.006326965120948119,
          -0.006307224779693228,
          -0.006287484438438336,
          -0.006267744097183446,
          -0.006248003755928554,
          -0.006228263414673663,
          -0.0062085230734187724,
          -0.006188782732163881,
          -0.0061690423909089905,
          -0.006149302049654099,
          -0.006129561708399208,
          -0.006109821367144317,
          -0.006090081025889426,
          -0.006070340684634535,
          -0.006050600343379644,
          -0.0060308600021247525,
          -0.006011119660869861,
          -0.005991379319614971,
          -0.005971638978360079,
          -0.005951898637105189,
          -0.005932158295850297,
          -0.005912417954595406,
          -0.005892677613340515,
          -0.005872937272085624,
          -0.0058531969308307326,
          -0.005833456589575842,
          -0.005813716248320951,
          -0.005793975907066059,
          -0.005774235565811169,
          -0.005754495224556277,
          -0.005734754883301387,
          -0.005715014542046495,
          -0.005695274200791604,
          -0.0056755338595367135,
          -0.005655793518281822,
          -0.0056360531770269316,
          -0.00561631283577204,
          -0.005596572494517149,
          -0.005576832153262257,
          -0.005557091812007367,
          -0.0055373514707524754,
          -0.005517611129497585,
          -0.0054978707882426935,
          -0.005478130446987802,
          -0.005458390105732912,
          -0.00543864976447802,
          -0.00541890942322313,
          -0.005399169081968238,
          -0.005379428740713347,
          -0.0053596883994584555,
          -0.005339948058203565,
          -0.0053202077169486744,
          -0.005300467375693783,
          -0.005280727034438892,
          -0.005260986693184,
          -0.00524124635192911,
          -0.005221506010674218,
          -0.005201765669419328,
          -0.005182025328164436,
          -0.005162284986909545,
          -0.0051425446456546545,
          -0.005122804304399763,
          -0.005103063963144873,
          -0.005083323621889981,
          -0.00506358328063509,
          -0.005043842939380198,
          -0.005024102598125308,
          -0.005004362256870417,
          -0.004984621915615526,
          -0.0049648815743606346,
          -0.004945141233105743,
          -0.004925400891850853,
          -0.004905660550595961,
          -0.004885920209341071,
          -0.004866179868086179,
          -0.004846439526831288,
          -0.004826699185576397,
          -0.004806958844321506,
          -0.004787218503066615,
          -0.004767478161811724,
          -0.004747737820556833,
          -0.004727997479301941,
          -0.00470825713804705,
          -0.00468851679679216,
          -0.004668776455537269,
          -0.0046490361142823775,
          -0.004629295773027486,
          -0.0046095554317725955,
          -0.004589815090517704,
          -0.004570074749262814,
          -0.004550334408007922,
          -0.004530594066753031,
          -0.004510853725498139,
          -0.004491113384243249,
          -0.0044713730429883575,
          -0.004451632701733467,
          -0.004431892360478576,
          -0.004412152019223684,
          -0.004392411677968793,
          -0.004372671336713902,
          -0.004352930995459011,
          -0.00433319065420412,
          -0.004313450312949229,
          -0.004293709971694338,
          -0.004273969630439447,
          -0.0042542292891845565,
          -0.004234488947929665,
          -0.004214748606674774,
          -0.004195008265419882,
          -0.004175267924164992,
          -0.0041555275829101,
          -0.00413578724165521,
          -0.0041160469004003185,
          -0.004096306559145427,
          -0.004076566217890536,
          -0.004056825876635645,
          -0.004037085535380754,
          -0.004017345194125863,
          -0.003997604852870972,
          -0.0039778645116160805,
          -0.00395812417036119,
          -0.003938383829106299,
          -0.003918643487851408,
          -0.0038989031465965166,
          -0.0038791628053416257,
          -0.0038594224640867343,
          -0.0038396821228318433,
          -0.0038199417815769523,
          -0.003800201440322061,
          -0.00378046109906717,
          -0.003760720757812279,
          -0.0037409804165573876,
          -0.0037212400753024967,
          -0.0037014997340476057,
          -0.0036817593927927147,
          -0.003662019051537824,
          -0.003642278710282933,
          -0.0036225383690280414,
          -0.0036027980277731505,
          -0.0035830576865182595,
          -0.003563317345263368,
          -0.003543577004008477,
          -0.003523836662753586,
          -0.003504096321498695,
          -0.003484355980243804,
          -0.003464615638988913,
          -0.0034448752977340215,
          -0.0034251349564791305,
          -0.0034053946152242396,
          -0.003385654273969348,
          -0.003365913932714457,
          -0.0033461735914595667,
          -0.0033264332502046757,
          -0.0033066929089497843,
          -0.0032869525676948934,
          -0.0032672122264400024,
          -0.003247471885185111,
          -0.00322773154393022,
          -0.003207991202675329,
          -0.0031882508614204377,
          -0.0031685105201655467,
          -0.0031487701789106558,
          -0.0031290298376557644,
          -0.0031092894964008734,
          -0.0030895491551459825,
          -0.003069808813891091,
          -0.0030500684726362005,
          -0.0030303281313813096,
          -0.003010587790126418,
          -0.0029908474488715272,
          -0.0029711071076166363,
          -0.002951366766361745,
          -0.002931626425106854,
          -0.002911886083851963,
          -0.0028921457425970716,
          -0.0028724054013421806,
          -0.0028526650600872896,
          -0.0028329247188323982,
          -0.0028131843775775073,
          -0.0027934440363226163,
          -0.0027737036950677254,
          -0.002753963353812834,
          -0.0027342230125579426,
          -0.002714482671303052,
          -0.0026947423300481615,
          -0.00267500198879327,
          -0.0026552616475383787,
          -0.002635521306283488,
          -0.002615780965028596,
          -0.0025960406237737054,
          -0.002576300282518814,
          -0.0025565599412639235,
          -0.002536819600009033,
          -0.0025170792587541416,
          -0.00249733891749925,
          -0.0024775985762443588,
          -0.0024578582349894683,
          -0.002438117893734577,
          -0.0024183775524796863,
          -0.002398637211224795,
          -0.0023788968699699035,
          -0.002359156528715012,
          -0.0023394161874601216,
          -0.0023196758462052302,
          -0.0022999355049503397,
          -0.0022801951636954483,
          -0.002260454822440557,
          -0.0022407144811856664,
          -0.002220974139930775,
          -0.0022012337986758845,
          -0.002181493457420993,
          -0.0021617531161661025,
          -0.0021420127749112103,
          -0.0021222724336563198,
          -0.0021025320924014284,
          -0.002082791751146538,
          -0.0020630514098916464,
          -0.002043311068636756,
          -0.0020235707273818637,
          -0.002003830386126973,
          -0.0019840900448720817,
          -0.001964349703617191,
          -0.0019446093623623007,
          -0.0019248690211074093,
          -0.0019051286798525188,
          -0.0018853883385976265,
          -0.001865647997342736,
          -0.0018459076560878446,
          -0.001826167314832954,
          -0.0018064269735780627,
          -0.0017866866323231721,
          -0.0017669462910682799,
          -0.0017472059498133893,
          -0.001727465608558498,
          -0.0017077252673036074,
          -0.001687984926048716,
          -0.0016682445847938255,
          -0.0016485042435389332,
          -0.0016287639022840427,
          -0.0016090235610291522,
          -0.0015892832197742608,
          -0.0015695428785193703,
          -0.0015498025372644789,
          -0.0015300621960095875,
          -0.001510321854754696,
          -0.0014905815134998055,
          -0.0014708411722449142,
          -0.0014511008309900236,
          -0.0014313604897351322,
          -0.0014116201484802408,
          -0.0013918798072253494,
          -0.001372139465970459,
          -0.0013523991247155675,
          -0.001332658783460677,
          -0.0013129184422057856,
          -0.0012931781009508942,
          -0.0012734377596960037,
          -0.0012536974184411123,
          -0.0012339570771862218,
          -0.0012142167359313304,
          -0.0011944763946764398,
          -0.0011747360534215476,
          -0.001154995712166657,
          -0.0011352553709117657,
          -0.0011155150296568751,
          -0.0010957746884019837,
          -0.0010760343471470932,
          -0.001056294005892201,
          -0.0010365536646373104,
          -0.001016813323382419,
          -0.0009970729821275285,
          -0.000977332640872638,
          -0.0009575922996177466,
          -0.000937851958362856,
          -0.0009181116171079638,
          -0.0008983712758530733,
          -0.0008786309345981819,
          -0.0008588905933432913,
          -0.0008391502520884,
          -0.0008194099108335094,
          -0.0007996695695786172,
          -0.0007799292283237266,
          -0.0007601888870688352,
          -0.0007404485458139447,
          -0.0007207082045590533,
          -0.0007009678633041628,
          -0.0006812275220492714,
          -0.00066148718079438,
          -0.0006417468395394895,
          -0.0006220064982845981,
          -0.0006022661570297076,
          -0.0005825258157748162,
          -0.0005627854745199248,
          -0.0005430451332650334,
          -0.0005233047920101428,
          -0.0005035644507552514,
          -0.0004838241095003609,
          -0.00046408376824546953,
          -0.00044434342699057813,
          -0.00042460308573568674,
          -0.0004048627444807962,
          -0.0003851224032259048,
          -0.0003653820619710143,
          -0.00034564172071612376,
          -0.0003259013794612315,
          -0.000306161038206341,
          -0.0002864206969514496,
          -0.00026668035569655905,
          -0.00024694001444166766,
          -0.00022719967318677713,
          -0.00020745933193188487,
          -0.00018771899067699434,
          -0.00016797864942210295,
          -0.00014823830816721242,
          -0.00012849796691232103,
          -0.0001087576256574305,
          -8.901728440253824e-05,
          -6.927694314764771e-05,
          -4.953660189275632e-05,
          -2.9796260637865793e-05,
          -1.0055919382975266e-05,
          9.684421871916128e-06,
          2.9424763126806655e-05,
          4.916510438169892e-05,
          6.890544563658944e-05,
          8.864578689148084e-05,
          0.00010838612814637136,
          0.00012812646940126276,
          0.00014786681065615329,
          0.00016760715191104555,
          0.00018734749316593607,
          0.00020708783442082747,
          0.000226828175675718,
          0.0002465685169306094,
          0.0002663088581854999,
          0.0002860491994403913,
          0.0003057895406952827,
          0.00032552988195017323,
          0.0003452702232050646,
          0.00036501056445995515,
          0.00038475090571484655,
          0.00040449124696973794,
          0.00042423158822462934,
          0.00044397192947951986,
          0.00046371227073441126,
          0.0004834526119893018,
          0.0005031929532441932,
          0.0005229332944990846,
          0.000542673635753976,
          0.0005624139770088665,
          0.000582154318263757,
          0.0006018946595186484,
          0.0006216350007735389,
          0.0006413753420284312,
          0.0006611156832833217,
          0.0006808560245382131,
          0.0007005963657931037,
          0.000720336707047995,
          0.0007400770483028856,
          0.0007598173895577778,
          0.0007795577308126684,
          0.0007992980720675598,
          0.0008190384133224503,
          0.0008387787545773417,
          0.0008585190958322322,
          0.0008782594370871245,
          0.000897999778342015,
          0.0009177401195969055,
          0.0009374804608517969,
          0.0009572208021066874,
          0.0009769611433615788,
          0.0009967014846164694,
          0.0010164418258713616,
          0.0010361821671262521,
          0.0010559225083811435,
          0.001075662849636034,
          0.0010954031908909255,
          0.001115143532145816,
          0.0011348838734007074,
          0.0011546242146555988,
          0.0011743645559104902,
          0.0011941048971653816,
          0.001213845238420273,
          0.0012335855796751626,
          0.001253325920930054,
          0.0012730662621849454,
          0.001292806603439835,
          0.0013125469446947282,
          0.0013322872859496179,
          0.0013520276272045093,
          0.0013717679684594006,
          0.0013915083097142903,
          0.0014112486509691817,
          0.0014309889922240748,
          0.0014507293334789662,
          0.0014704696747338559,
          0.0014902100159887473,
          0.0015099503572436387,
          0.00152969069849853,
          0.0015494310397534197,
          0.0015691713810083111,
          0.0015889117222632025,
          0.0016086520635180922,
          0.0016283924047729836,
          0.001648132746027875,
          0.001667873087282768,
          0.0016876134285376578,
          0.0017073537697925491,
          0.0017270941110474405,
          0.001746834452302332,
          0.0017665747935572216,
          0.001786315134812113,
          0.0018060554760670044,
          0.0018257958173218958,
          0.0018455361585767854,
          0.0018652764998316768,
          0.0018850168410865682,
          0.0019047571823414579,
          0.001924497523596351,
          0.0019442378648512424,
          0.001963978206106134,
          0.0019837185473610235,
          0.002003458888615915,
          0.0020231992298708062,
          0.0020429395711256976,
          0.0020626799123805873,
          0.0020824202536354787,
          0.00210216059489037,
          0.0021219009361452615,
          0.002141641277400151,
          0.0021613816186550443,
          0.0021811219599099357,
          0.0022008623011648253,
          0.0022206026424197167,
          0.002240342983674608,
          0.0022600833249294995,
          0.002279823666184389,
          0.0022995640074392806,
          0.002319304348694172,
          0.0023390446899490634,
          0.002358785031203953,
          0.0023785253724588444,
          0.0023982657137137375,
          0.002418006054968629,
          0.0024377463962235186,
          0.00245748673747841,
          0.0024772270787333014,
          0.002496967419988191,
          0.0025167077612430824,
          0.002536448102497974,
          0.0025561884437528652,
          0.002575928785007755,
          0.0025956691262626463,
          0.0026154094675175377,
          0.002635149808772431,
          0.0026548901500273205,
          0.002674630491282212,
          0.0026943708325371032,
          0.0027141111737919946,
          0.0027338515150468843,
          0.0027535918563017757,
          0.002773332197556667,
          0.0027930725388115567,
          0.002812812880066448,
          0.0028325532213213395,
          0.002852293562576231,
          0.0028720339038311206,
          0.0028917742450860137,
          0.002911514586340905,
          0.0029312549275957965,
          0.002950995268850686,
          0.0029707356101055776,
          0.002990475951360469,
          0.0030102162926153603,
          0.00302995663387025,
          0.0030496969751251414,
          0.003069437316380033,
          0.003089177657634924,
          0.003108917998889814,
          0.003128658340144707,
          0.0031483986813995984,
          0.003168139022654488
         ],
         "xaxis": "x",
         "y": [
          0.21107691500405093,
          0.21006485556478724,
          0.2068561170002625,
          0.20157845864818716,
          0.19443118995453787,
          0.18567693806178268,
          0.1756307289617588,
          0.16464718834585582,
          0.15310675299378904,
          0.1414017848720739,
          0.1299234035023712,
          0.11904971171687562,
          0.10913590631088543,
          0.10050656264510884,
          0.09345018559258972,
          0.0882159501035375,
          0.08501242913354594,
          0.08400803320524114,
          0.08533286447051952,
          0.08908171073520155,
          0.09531795680510019,
          0.1040782528186884,
          0.11537783191640864,
          0.12921639480428646,
          0.1455844639410473,
          0.16447005044608895,
          0.18586537689114496,
          0.20977327283539904,
          0.2362127293705886,
          0.2652229915768774,
          0.2968655127308513,
          0.33122311738840693,
          0.3683958403500922,
          0.40849313135303716,
          0.4516224327095264,
          0.4978745249047699,
          0.5473064548782623,
          0.5999232641667167,
          0.6556600651912692,
          0.7143662219103086,
          0.7757934339467191,
          0.8395893761756346,
          0.9052982057890667,
          0.9723687377480449,
          1.0401704525981148,
          1.1080168023118186,
          1.1751945962025472,
          1.240997658068635,
          1.304762517167557,
          1.365903680893767,
          1.4239460622071403,
          1.4785523966947536,
          1.529543950401045,
          1.5769134334590111,
          1.6208297228058566,
          1.6616346803395805,
          1.6998329559319543,
          1.7360761274725243,
          1.771142814104351,
          1.8059164909736882,
          1.8413626460933241,
          1.878506685089223,
          1.9184136543474273,
          1.9621704696914553,
          2.0108709559485813,
          2.065603663235102,
          2.1274421559725596,
          2.1974372837420897,
          2.276610839634572,
          2.365949983193304,
          2.4664018381013455,
          2.578867755567349,
          2.7041968513073154,
          2.8431785688466324,
          2.9965341889517894,
          3.1649073892939,
          3.3488541529034426,
          3.548832517389212,
          3.7651928329561097,
          3.9981693353072445,
          4.247873917030555,
          4.514292977413875,
          4.7972881312996085,
          5.09660135798158,
          5.411864878967475,
          5.7426156891504885,
          6.088314261110179,
          6.4483665360235065,
          6.82214794904703,
          7.20902795202546,
          7.608393325620518,
          8.019668540628418,
          8.442331547631673,
          8.875923647431367,
          9.320052513980873,
          9.774387989719541,
          10.23865092481381,
          10.712596052881882,
          11.195990643040561,
          11.68859138800139,
          12.190122616290651,
          12.700259380209674,
          13.218619191757012,
          13.744766080893932,
          14.278230171864681,
          14.818545076988572,
          15.365304094820472,
          15.918234520749092,
          16.477287436939154,
          17.042738301713594,
          17.61529170581584,
          18.19618202965274,
          18.78726064751759,
          19.391059980002996,
          20.010825235700718,
          20.650506167663924,
          21.3147035604608,
          22.00856831751021,
          22.737654696594962,
          23.507733128073003,
          24.324571783318365,
          25.193699269998177,
          26.120163177636222,
          27.108300413090213,
          28.161535183232758,
          29.28221905395151,
          30.471524820805563,
          31.729402168639748,
          33.05459857897332,
          34.44474404269223,
          35.89649326800464,
          37.40571465728689,
          38.96771174302584,
          40.577460335402975,
          42.22984355999532,
          43.91986735815043,
          45.64284086748807,
          47.39450925699772,
          49.17113081063118,
          50.96949499312058,
          52.78688348417865,
          54.62098129101968,
          56.46974960566733,
          58.33127566407278,
          60.203617164970495,
          62.084659598819314,
          63.97200402874632,
          65.8629005005231,
          67.75423851670298,
          69.64260119077164,
          71.52438419421962,
          73.39597487573519,
          75.25398143888911,
          77.09549726248017,
          78.91838172598125,
          80.72153656107612,
          82.50515597749131,
          84.27092967432128,
          86.02218029231287,
          87.76392072146449,
          89.50282168853273,
          91.24708587116201,
          93.00623102629696,
          94.79079085720127,
          96.61194814651216,
          98.48111964091389,
          100.40951591703472,
          102.40770168568807,
          104.48518249154498,
          106.6500424399373,
          108.90865446540204,
          111.26547992276656,
          113.72296824668409,
          116.28156053160494,
          118.93979367038662,
          121.69449474941594,
          124.54104932450917,
          127.47372252827044,
          130.48600910110838,
          133.57098764164368,
          136.72165568343144,
          139.93122545654265,
          143.19336501750783,
          146.50237530047724,
          149.85329992285838,
          153.24197060504224,
          156.66499621482342,
          160.1197072176191,
          163.60406937166536,
          167.11658073064038,
          170.6561645027876,
          174.22206736825805,
          177.81376894276573,
          181.43090377003492,
          185.07319313846136,
          188.7403807231181,
          192.43216402176867,
          196.14811309190597,
          199.8875693158658,
          203.64951972071788,
          207.43244645210504,
          211.23415586628408,
          215.05159676012218,
          218.88068184694944,
          222.71613006835543,
          226.55134916397452,
          230.37837772062184,
          234.1879035196139,
          237.9693704700677,
          241.7111800740269,
          245.40098575313536,
          249.02607017942185,
          252.5737877924738,
          256.0320477593934,
          259.38980747290105,
          262.63754386092694,
          265.76766965355745,
          268.774864419738,
          271.6562954782868,
          274.4117112877012,
          277.0433990004072,
          279.55600775646576,
          281.9562491423468,
          284.25249520994936,
          286.45430177715076,
          288.5718897979002,
          290.615619980441,
          292.59549536445155,
          294.5207233093435,
          296.3993626086914,
          298.2380737598689,
          300.0419814851539,
          301.81464923255476,
          303.558156426889,
          305.2732614950349,
          306.95962782949266,
          308.6160863649261,
          310.24090756373556,
          311.8320573114562,
          313.3874152184292,
          314.9049395883678,
          316.3827701528478,
          317.81926680063185,
          319.2129891695347,
          320.56262742726443,
          321.86689832912987,
          323.1244224165271,
          324.3335979814081,
          325.4924853919238,
          326.59871199369195,
          327.6494036623558,
          328.64114484741685,
          329.5699652520575,
          330.4313486631187,
          331.22025821826026,
          331.9311726783603,
          332.5581299188357,
          333.09477649213426,
          333.53442520073116,
          333.87012551831833,
          334.0947537764674,
          334.20113077024814,
          334.18217349970683,
          334.0310850819764,
          333.74158265123333,
          333.3081577861305,
          332.7263583513331,
          331.9930754100393,
          331.1068148585984,
          330.06793133463003,
          328.8788022134445,
          327.5439222907409,
          326.069904872864,
          324.46538196004457,
          322.7408042531177,
          320.9081499235015,
          318.9805585072221,
          316.9719120610944,
          314.8963892088714,
          312.76801856097705,
          310.6002562071581,
          308.4056078849744,
          306.1953106285835,
          303.97908200446085,
          301.7649383248505,
          299.5590773359515,
          297.36581649453916,
          295.1875755248006,
          293.02489165004675,
          290.8764575873778,
          288.7391756745345,
          286.6082257590028,
          284.47714899318345,
          282.33795369880414,
          280.1812523177164,
          277.9964396443545,
          275.77192174826905,
          273.4954022098483,
          271.15422773206956,
          268.7357893100272,
          266.2279685702796,
          263.61961237274454,
          260.9010130636696,
          258.0643675861528,
          255.104186567292,
          252.0176248841813,
          248.80470820027736,
          245.4684354364686,
          242.01474472175948,
          238.45233946030976,
          234.79238099030047,
          231.04806403481683,
          227.2340998807473,
          223.36613916438517,
          219.46017063996237,
          215.53193392526242,
          211.5963827870016,
          207.66723116067536,
          203.75660718168098,
          199.8748316577141,
          196.03032742928326,
          192.2296558288427,
          188.47766684479578,
          184.77774142521025,
          181.13209825974891,
          177.54213378725785,
          174.0087632802709,
          170.53273260405868,
          167.11487436591662,
          163.7562882122363,
          160.45843242673055,
          157.22312209897407,
          154.05243732549502,
          150.94855257184412,
          147.91350493355262,
          144.9489241553573,
          142.0557505834746,
          139.23396853666367,
          136.48238181258534,
          133.79845524368918,
          131.178241550494,
          128.6164064978352,
          126.10635794203239,
          123.64047626392694,
          121.21043549188481,
          118.8075967524389,
          116.42344916889697,
          114.05006853533907,
          111.68056149679074,
          109.30946288064082,
          106.93305636396838,
          104.54959371186578,
          102.15939503391527,
          99.76482131388099,
          97.37012013330138,
          94.9811551887157,
          92.60503902687942,
          90.24969559090033,
          87.9233840337432,
          85.6342173900148,
          83.38970895198771,
          81.19637571260334,
          79.05942243361514,
          76.98252241501248,
          74.96770267764768,
          73.01533287765001,
          71.12420965996492,
          69.29172200631406,
          67.51407890930835,
          65.78657862585591,
          64.10389878224437,
          62.46038843314313,
          60.85034634479839,
          59.26827369747019,
          57.709093481149566,
          56.16833255306589,
          54.64226523180141,
          53.12801919920477,
          51.62364534461552,
          50.12815317736129,
          48.64151285615638,
          47.16462412051052,
          45.69925184968451,
          44.24792794659509,
          42.8138199552384,
          41.400568323274406,
          40.01209640455253,
          38.652399901155555,
          37.32532510723169,
          36.03434762589319,
          34.78236479072072,
          33.57151551761807,
          32.40304055014758,
          31.27719400745552,
          30.19321392675817,
          29.149355387103373,
          28.142985193632455,
          27.170732439315966,
          26.228684997717743,
          25.312618541996418,
          24.418242346173738,
          23.54144509594391,
          22.678524272301747,
          21.826384292434632,
          20.98269130286309,
          20.145976036738368,
          19.315680135599948,
          18.49214544582805,
          17.676549700642973,
          16.870795405881577,
          16.07736144481985,
          15.299128764433693,
          14.53919244298657,
          13.800672481720708,
          13.086534890735955,
          12.39943317945572,
          11.741578377306988,
          11.114643379210031,
          10.519704913775755,
          9.957223939267433,
          9.427062931951287,
          8.928536464469957,
          8.460489768574085,
          8.021398696152735,
          7.609483665321703,
          7.222829809463927,
          6.859505620905343,
          6.5176728651664675,
          6.195681391275709,
          5.892143622630828,
          5.605984916224257,
          5.336467551907073,
          5.083187775978763,
          4.84604698636671,
          4.625199717808971,
          4.420982473227488,
          4.2338285670462925,
          4.064174926507933,
          3.912367187870368,
          3.7785694023307004,
          3.6626842386534166,
          3.564288773721809,
          3.482589864347153,
          3.4164017808971296,
          3.364147355500851,
          3.3238824572167798,
          3.2933422489432727,
          3.2700064861791285,
          3.2511801457171776,
          3.234084960186873,
          3.215956997814689,
          3.19414526362098,
          3.1662063930932773,
          3.1299908384086597,
          3.0837164823240677,
          3.0260263254948447,
          2.9560277469613787,
          2.8733117996624307,
          2.777952033155088,
          2.670483388068947,
          2.551862728516567,
          2.4234135121711584,
          2.286757884283174,
          2.143740067083957,
          1.9963452559724069,
          1.8466183015063693,
          1.6965862459158063,
          1.5481883128226888,
          1.4032162604247327,
          1.2632671622649971,
          1.1297097495215378,
          1.003664513066081,
          0.885996897259759,
          0.7773221840591175,
          0.6780201116341805,
          0.5882569218023135,
          0.5080123893887557,
          0.43710943924914697,
          0.37524417321756537,
          0.322014470014521,
          0.27694574227372104,
          0.2395128931728075,
          0.20915797207771147,
          0.18530345245410929,
          0.1673614222608998,
          0.15473927098883714,
          0.14684266903856188,
          0.14307676034141956,
          0.14284652849574533,
          0.14555725434153738,
          0.1506158662805937,
          0.1574338045843034,
          0.16543179174648912,
          0.1740466404533327,
          0.18273995981491603,
          0.19100836198311877,
          0.1983945483404939,
          0.2044984884222033,
          0.20898781276147171,
          0.21160653363935314
         ],
         "yaxis": "y"
        }
       ],
       "layout": {
        "barmode": "overlay",
        "height": 650,
        "hovermode": "closest",
        "legend": {
         "traceorder": "reversed"
        },
        "template": {
         "data": {
          "bar": [
           {
            "error_x": {
             "color": "#2a3f5f"
            },
            "error_y": {
             "color": "#2a3f5f"
            },
            "marker": {
             "line": {
              "color": "#E5ECF6",
              "width": 0.5
             },
             "pattern": {
              "fillmode": "overlay",
              "size": 10,
              "solidity": 0.2
             }
            },
            "type": "bar"
           }
          ],
          "barpolar": [
           {
            "marker": {
             "line": {
              "color": "#E5ECF6",
              "width": 0.5
             },
             "pattern": {
              "fillmode": "overlay",
              "size": 10,
              "solidity": 0.2
             }
            },
            "type": "barpolar"
           }
          ],
          "carpet": [
           {
            "aaxis": {
             "endlinecolor": "#2a3f5f",
             "gridcolor": "white",
             "linecolor": "white",
             "minorgridcolor": "white",
             "startlinecolor": "#2a3f5f"
            },
            "baxis": {
             "endlinecolor": "#2a3f5f",
             "gridcolor": "white",
             "linecolor": "white",
             "minorgridcolor": "white",
             "startlinecolor": "#2a3f5f"
            },
            "type": "carpet"
           }
          ],
          "choropleth": [
           {
            "colorbar": {
             "outlinewidth": 0,
             "ticks": ""
            },
            "type": "choropleth"
           }
          ],
          "contour": [
           {
            "colorbar": {
             "outlinewidth": 0,
             "ticks": ""
            },
            "colorscale": [
             [
              0,
              "#0d0887"
             ],
             [
              0.1111111111111111,
              "#46039f"
             ],
             [
              0.2222222222222222,
              "#7201a8"
             ],
             [
              0.3333333333333333,
              "#9c179e"
             ],
             [
              0.4444444444444444,
              "#bd3786"
             ],
             [
              0.5555555555555556,
              "#d8576b"
             ],
             [
              0.6666666666666666,
              "#ed7953"
             ],
             [
              0.7777777777777778,
              "#fb9f3a"
             ],
             [
              0.8888888888888888,
              "#fdca26"
             ],
             [
              1,
              "#f0f921"
             ]
            ],
            "type": "contour"
           }
          ],
          "contourcarpet": [
           {
            "colorbar": {
             "outlinewidth": 0,
             "ticks": ""
            },
            "type": "contourcarpet"
           }
          ],
          "heatmap": [
           {
            "colorbar": {
             "outlinewidth": 0,
             "ticks": ""
            },
            "colorscale": [
             [
              0,
              "#0d0887"
             ],
             [
              0.1111111111111111,
              "#46039f"
             ],
             [
              0.2222222222222222,
              "#7201a8"
             ],
             [
              0.3333333333333333,
              "#9c179e"
             ],
             [
              0.4444444444444444,
              "#bd3786"
             ],
             [
              0.5555555555555556,
              "#d8576b"
             ],
             [
              0.6666666666666666,
              "#ed7953"
             ],
             [
              0.7777777777777778,
              "#fb9f3a"
             ],
             [
              0.8888888888888888,
              "#fdca26"
             ],
             [
              1,
              "#f0f921"
             ]
            ],
            "type": "heatmap"
           }
          ],
          "heatmapgl": [
           {
            "colorbar": {
             "outlinewidth": 0,
             "ticks": ""
            },
            "colorscale": [
             [
              0,
              "#0d0887"
             ],
             [
              0.1111111111111111,
              "#46039f"
             ],
             [
              0.2222222222222222,
              "#7201a8"
             ],
             [
              0.3333333333333333,
              "#9c179e"
             ],
             [
              0.4444444444444444,
              "#bd3786"
             ],
             [
              0.5555555555555556,
              "#d8576b"
             ],
             [
              0.6666666666666666,
              "#ed7953"
             ],
             [
              0.7777777777777778,
              "#fb9f3a"
             ],
             [
              0.8888888888888888,
              "#fdca26"
             ],
             [
              1,
              "#f0f921"
             ]
            ],
            "type": "heatmapgl"
           }
          ],
          "histogram": [
           {
            "marker": {
             "pattern": {
              "fillmode": "overlay",
              "size": 10,
              "solidity": 0.2
             }
            },
            "type": "histogram"
           }
          ],
          "histogram2d": [
           {
            "colorbar": {
             "outlinewidth": 0,
             "ticks": ""
            },
            "colorscale": [
             [
              0,
              "#0d0887"
             ],
             [
              0.1111111111111111,
              "#46039f"
             ],
             [
              0.2222222222222222,
              "#7201a8"
             ],
             [
              0.3333333333333333,
              "#9c179e"
             ],
             [
              0.4444444444444444,
              "#bd3786"
             ],
             [
              0.5555555555555556,
              "#d8576b"
             ],
             [
              0.6666666666666666,
              "#ed7953"
             ],
             [
              0.7777777777777778,
              "#fb9f3a"
             ],
             [
              0.8888888888888888,
              "#fdca26"
             ],
             [
              1,
              "#f0f921"
             ]
            ],
            "type": "histogram2d"
           }
          ],
          "histogram2dcontour": [
           {
            "colorbar": {
             "outlinewidth": 0,
             "ticks": ""
            },
            "colorscale": [
             [
              0,
              "#0d0887"
             ],
             [
              0.1111111111111111,
              "#46039f"
             ],
             [
              0.2222222222222222,
              "#7201a8"
             ],
             [
              0.3333333333333333,
              "#9c179e"
             ],
             [
              0.4444444444444444,
              "#bd3786"
             ],
             [
              0.5555555555555556,
              "#d8576b"
             ],
             [
              0.6666666666666666,
              "#ed7953"
             ],
             [
              0.7777777777777778,
              "#fb9f3a"
             ],
             [
              0.8888888888888888,
              "#fdca26"
             ],
             [
              1,
              "#f0f921"
             ]
            ],
            "type": "histogram2dcontour"
           }
          ],
          "mesh3d": [
           {
            "colorbar": {
             "outlinewidth": 0,
             "ticks": ""
            },
            "type": "mesh3d"
           }
          ],
          "parcoords": [
           {
            "line": {
             "colorbar": {
              "outlinewidth": 0,
              "ticks": ""
             }
            },
            "type": "parcoords"
           }
          ],
          "pie": [
           {
            "automargin": true,
            "type": "pie"
           }
          ],
          "scatter": [
           {
            "fillpattern": {
             "fillmode": "overlay",
             "size": 10,
             "solidity": 0.2
            },
            "type": "scatter"
           }
          ],
          "scatter3d": [
           {
            "line": {
             "colorbar": {
              "outlinewidth": 0,
              "ticks": ""
             }
            },
            "marker": {
             "colorbar": {
              "outlinewidth": 0,
              "ticks": ""
             }
            },
            "type": "scatter3d"
           }
          ],
          "scattercarpet": [
           {
            "marker": {
             "colorbar": {
              "outlinewidth": 0,
              "ticks": ""
             }
            },
            "type": "scattercarpet"
           }
          ],
          "scattergeo": [
           {
            "marker": {
             "colorbar": {
              "outlinewidth": 0,
              "ticks": ""
             }
            },
            "type": "scattergeo"
           }
          ],
          "scattergl": [
           {
            "marker": {
             "colorbar": {
              "outlinewidth": 0,
              "ticks": ""
             }
            },
            "type": "scattergl"
           }
          ],
          "scattermapbox": [
           {
            "marker": {
             "colorbar": {
              "outlinewidth": 0,
              "ticks": ""
             }
            },
            "type": "scattermapbox"
           }
          ],
          "scatterpolar": [
           {
            "marker": {
             "colorbar": {
              "outlinewidth": 0,
              "ticks": ""
             }
            },
            "type": "scatterpolar"
           }
          ],
          "scatterpolargl": [
           {
            "marker": {
             "colorbar": {
              "outlinewidth": 0,
              "ticks": ""
             }
            },
            "type": "scatterpolargl"
           }
          ],
          "scatterternary": [
           {
            "marker": {
             "colorbar": {
              "outlinewidth": 0,
              "ticks": ""
             }
            },
            "type": "scatterternary"
           }
          ],
          "surface": [
           {
            "colorbar": {
             "outlinewidth": 0,
             "ticks": ""
            },
            "colorscale": [
             [
              0,
              "#0d0887"
             ],
             [
              0.1111111111111111,
              "#46039f"
             ],
             [
              0.2222222222222222,
              "#7201a8"
             ],
             [
              0.3333333333333333,
              "#9c179e"
             ],
             [
              0.4444444444444444,
              "#bd3786"
             ],
             [
              0.5555555555555556,
              "#d8576b"
             ],
             [
              0.6666666666666666,
              "#ed7953"
             ],
             [
              0.7777777777777778,
              "#fb9f3a"
             ],
             [
              0.8888888888888888,
              "#fdca26"
             ],
             [
              1,
              "#f0f921"
             ]
            ],
            "type": "surface"
           }
          ],
          "table": [
           {
            "cells": {
             "fill": {
              "color": "#EBF0F8"
             },
             "line": {
              "color": "white"
             }
            },
            "header": {
             "fill": {
              "color": "#C8D4E3"
             },
             "line": {
              "color": "white"
             }
            },
            "type": "table"
           }
          ]
         },
         "layout": {
          "annotationdefaults": {
           "arrowcolor": "#2a3f5f",
           "arrowhead": 0,
           "arrowwidth": 1
          },
          "autotypenumbers": "strict",
          "coloraxis": {
           "colorbar": {
            "outlinewidth": 0,
            "ticks": ""
           }
          },
          "colorscale": {
           "diverging": [
            [
             0,
             "#8e0152"
            ],
            [
             0.1,
             "#c51b7d"
            ],
            [
             0.2,
             "#de77ae"
            ],
            [
             0.3,
             "#f1b6da"
            ],
            [
             0.4,
             "#fde0ef"
            ],
            [
             0.5,
             "#f7f7f7"
            ],
            [
             0.6,
             "#e6f5d0"
            ],
            [
             0.7,
             "#b8e186"
            ],
            [
             0.8,
             "#7fbc41"
            ],
            [
             0.9,
             "#4d9221"
            ],
            [
             1,
             "#276419"
            ]
           ],
           "sequential": [
            [
             0,
             "#0d0887"
            ],
            [
             0.1111111111111111,
             "#46039f"
            ],
            [
             0.2222222222222222,
             "#7201a8"
            ],
            [
             0.3333333333333333,
             "#9c179e"
            ],
            [
             0.4444444444444444,
             "#bd3786"
            ],
            [
             0.5555555555555556,
             "#d8576b"
            ],
            [
             0.6666666666666666,
             "#ed7953"
            ],
            [
             0.7777777777777778,
             "#fb9f3a"
            ],
            [
             0.8888888888888888,
             "#fdca26"
            ],
            [
             1,
             "#f0f921"
            ]
           ],
           "sequentialminus": [
            [
             0,
             "#0d0887"
            ],
            [
             0.1111111111111111,
             "#46039f"
            ],
            [
             0.2222222222222222,
             "#7201a8"
            ],
            [
             0.3333333333333333,
             "#9c179e"
            ],
            [
             0.4444444444444444,
             "#bd3786"
            ],
            [
             0.5555555555555556,
             "#d8576b"
            ],
            [
             0.6666666666666666,
             "#ed7953"
            ],
            [
             0.7777777777777778,
             "#fb9f3a"
            ],
            [
             0.8888888888888888,
             "#fdca26"
            ],
            [
             1,
             "#f0f921"
            ]
           ]
          },
          "colorway": [
           "#636efa",
           "#EF553B",
           "#00cc96",
           "#ab63fa",
           "#FFA15A",
           "#19d3f3",
           "#FF6692",
           "#B6E880",
           "#FF97FF",
           "#FECB52"
          ],
          "font": {
           "color": "#2a3f5f"
          },
          "geo": {
           "bgcolor": "white",
           "lakecolor": "white",
           "landcolor": "#E5ECF6",
           "showlakes": true,
           "showland": true,
           "subunitcolor": "white"
          },
          "hoverlabel": {
           "align": "left"
          },
          "hovermode": "closest",
          "mapbox": {
           "style": "light"
          },
          "paper_bgcolor": "white",
          "plot_bgcolor": "#E5ECF6",
          "polar": {
           "angularaxis": {
            "gridcolor": "white",
            "linecolor": "white",
            "ticks": ""
           },
           "bgcolor": "#E5ECF6",
           "radialaxis": {
            "gridcolor": "white",
            "linecolor": "white",
            "ticks": ""
           }
          },
          "scene": {
           "xaxis": {
            "backgroundcolor": "#E5ECF6",
            "gridcolor": "white",
            "gridwidth": 2,
            "linecolor": "white",
            "showbackground": true,
            "ticks": "",
            "zerolinecolor": "white"
           },
           "yaxis": {
            "backgroundcolor": "#E5ECF6",
            "gridcolor": "white",
            "gridwidth": 2,
            "linecolor": "white",
            "showbackground": true,
            "ticks": "",
            "zerolinecolor": "white"
           },
           "zaxis": {
            "backgroundcolor": "#E5ECF6",
            "gridcolor": "white",
            "gridwidth": 2,
            "linecolor": "white",
            "showbackground": true,
            "ticks": "",
            "zerolinecolor": "white"
           }
          },
          "shapedefaults": {
           "line": {
            "color": "#2a3f5f"
           }
          },
          "ternary": {
           "aaxis": {
            "gridcolor": "white",
            "linecolor": "white",
            "ticks": ""
           },
           "baxis": {
            "gridcolor": "white",
            "linecolor": "white",
            "ticks": ""
           },
           "bgcolor": "#E5ECF6",
           "caxis": {
            "gridcolor": "white",
            "linecolor": "white",
            "ticks": ""
           }
          },
          "title": {
           "x": 0.05
          },
          "xaxis": {
           "automargin": true,
           "gridcolor": "white",
           "linecolor": "white",
           "ticks": "",
           "title": {
            "standoff": 15
           },
           "zerolinecolor": "white",
           "zerolinewidth": 2
          },
          "yaxis": {
           "automargin": true,
           "gridcolor": "white",
           "linecolor": "white",
           "ticks": "",
           "title": {
            "standoff": 15
           },
           "zerolinecolor": "white",
           "zerolinewidth": 2
          }
         }
        },
        "title": {
         "text": "Распределние разницы средних"
        },
        "width": 1000,
        "xaxis": {
         "anchor": "y2",
         "autorange": true,
         "domain": [
          0,
          1
         ],
         "range": [
          -0.006682291263536158,
          0.003168139022654488
         ],
         "type": "linear",
         "zeroline": false
        },
        "yaxis": {
         "anchor": "free",
         "autorange": true,
         "domain": [
          0,
          1
         ],
         "position": 0,
         "range": [
          -18.47805434107492,
          352.7631931445283
         ],
         "type": "linear"
        }
       }
      },
      "image/png": "[encoded data removed]",
      "text/html": [
       "<div>                            <div id=\"db2900a6-acc5-499d-9fb1-a10f05629ffd\" class=\"plotly-graph-div\" style=\"height:650px; width:1000px;\"></div>            <script type=\"text/javascript\">                require([\"plotly\"], function(Plotly) {                    window.PLOTLYENV=window.PLOTLYENV || {};                                    if (document.getElementById(\"db2900a6-acc5-499d-9fb1-a10f05629ffd\")) {                    Plotly.newPlot(                        \"db2900a6-acc5-499d-9fb1-a10f05629ffd\",                        [{\"legendgroup\":\"\\u0420\\u0430\\u0437\\u043d\\u0438\\u0446\\u0430 \\u0441\\u0440\\u0435\\u0434\\u043d\\u0438\\u0445\",\"marker\":{\"color\":\"rgb(31, 119, 180)\"},\"mode\":\"lines\",\"name\":\"\\u0420\\u0430\\u0437\\u043d\\u0438\\u0446\\u0430 \\u0441\\u0440\\u0435\\u0434\\u043d\\u0438\\u0445\",\"showlegend\":true,\"x\":[-0.006682291263536158,-0.006662550922281267,-0.006642810581026376,-0.006623070239771485,-0.006603329898516593,-0.006583589557261703,-0.0065638492160068115,-0.006544108874751921,-0.0065243685334970295,-0.006504628192242138,-0.006484887850987248,-0.006465147509732356,-0.006445407168477465,-0.006425666827222574,-0.006405926485967683,-0.006386186144712792,-0.006366445803457901,-0.00634670546220301,-0.006326965120948119,-0.006307224779693228,-0.006287484438438336,-0.006267744097183446,-0.006248003755928554,-0.006228263414673663,-0.0062085230734187724,-0.006188782732163881,-0.0061690423909089905,-0.006149302049654099,-0.006129561708399208,-0.006109821367144317,-0.006090081025889426,-0.006070340684634535,-0.006050600343379644,-0.0060308600021247525,-0.006011119660869861,-0.005991379319614971,-0.005971638978360079,-0.005951898637105189,-0.005932158295850297,-0.005912417954595406,-0.005892677613340515,-0.005872937272085624,-0.0058531969308307326,-0.005833456589575842,-0.005813716248320951,-0.005793975907066059,-0.005774235565811169,-0.005754495224556277,-0.005734754883301387,-0.005715014542046495,-0.005695274200791604,-0.0056755338595367135,-0.005655793518281822,-0.0056360531770269316,-0.00561631283577204,-0.005596572494517149,-0.005576832153262257,-0.005557091812007367,-0.0055373514707524754,-0.005517611129497585,-0.0054978707882426935,-0.005478130446987802,-0.005458390105732912,-0.00543864976447802,-0.00541890942322313,-0.005399169081968238,-0.005379428740713347,-0.0053596883994584555,-0.005339948058203565,-0.0053202077169486744,-0.005300467375693783,-0.005280727034438892,-0.005260986693184,-0.00524124635192911,-0.005221506010674218,-0.005201765669419328,-0.005182025328164436,-0.005162284986909545,-0.0051425446456546545,-0.005122804304399763,-0.005103063963144873,-0.005083323621889981,-0.00506358328063509,-0.005043842939380198,-0.005024102598125308,-0.005004362256870417,-0.004984621915615526,-0.0049648815743606346,-0.004945141233105743,-0.004925400891850853,-0.004905660550595961,-0.004885920209341071,-0.004866179868086179,-0.004846439526831288,-0.004826699185576397,-0.004806958844321506,-0.004787218503066615,-0.004767478161811724,-0.004747737820556833,-0.004727997479301941,-0.00470825713804705,-0.00468851679679216,-0.004668776455537269,-0.0046490361142823775,-0.004629295773027486,-0.0046095554317725955,-0.004589815090517704,-0.004570074749262814,-0.004550334408007922,-0.004530594066753031,-0.004510853725498139,-0.004491113384243249,-0.0044713730429883575,-0.004451632701733467,-0.004431892360478576,-0.004412152019223684,-0.004392411677968793,-0.004372671336713902,-0.004352930995459011,-0.00433319065420412,-0.004313450312949229,-0.004293709971694338,-0.004273969630439447,-0.0042542292891845565,-0.004234488947929665,-0.004214748606674774,-0.004195008265419882,-0.004175267924164992,-0.0041555275829101,-0.00413578724165521,-0.0041160469004003185,-0.004096306559145427,-0.004076566217890536,-0.004056825876635645,-0.004037085535380754,-0.004017345194125863,-0.003997604852870972,-0.0039778645116160805,-0.00395812417036119,-0.003938383829106299,-0.003918643487851408,-0.0038989031465965166,-0.0038791628053416257,-0.0038594224640867343,-0.0038396821228318433,-0.0038199417815769523,-0.003800201440322061,-0.00378046109906717,-0.003760720757812279,-0.0037409804165573876,-0.0037212400753024967,-0.0037014997340476057,-0.0036817593927927147,-0.003662019051537824,-0.003642278710282933,-0.0036225383690280414,-0.0036027980277731505,-0.0035830576865182595,-0.003563317345263368,-0.003543577004008477,-0.003523836662753586,-0.003504096321498695,-0.003484355980243804,-0.003464615638988913,-0.0034448752977340215,-0.0034251349564791305,-0.0034053946152242396,-0.003385654273969348,-0.003365913932714457,-0.0033461735914595667,-0.0033264332502046757,-0.0033066929089497843,-0.0032869525676948934,-0.0032672122264400024,-0.003247471885185111,-0.00322773154393022,-0.003207991202675329,-0.0031882508614204377,-0.0031685105201655467,-0.0031487701789106558,-0.0031290298376557644,-0.0031092894964008734,-0.0030895491551459825,-0.003069808813891091,-0.0030500684726362005,-0.0030303281313813096,-0.003010587790126418,-0.0029908474488715272,-0.0029711071076166363,-0.002951366766361745,-0.002931626425106854,-0.002911886083851963,-0.0028921457425970716,-0.0028724054013421806,-0.0028526650600872896,-0.0028329247188323982,-0.0028131843775775073,-0.0027934440363226163,-0.0027737036950677254,-0.002753963353812834,-0.0027342230125579426,-0.002714482671303052,-0.0026947423300481615,-0.00267500198879327,-0.0026552616475383787,-0.002635521306283488,-0.002615780965028596,-0.0025960406237737054,-0.002576300282518814,-0.0025565599412639235,-0.002536819600009033,-0.0025170792587541416,-0.00249733891749925,-0.0024775985762443588,-0.0024578582349894683,-0.002438117893734577,-0.0024183775524796863,-0.002398637211224795,-0.0023788968699699035,-0.002359156528715012,-0.0023394161874601216,-0.0023196758462052302,-0.0022999355049503397,-0.0022801951636954483,-0.002260454822440557,-0.0022407144811856664,-0.002220974139930775,-0.0022012337986758845,-0.002181493457420993,-0.0021617531161661025,-0.0021420127749112103,-0.0021222724336563198,-0.0021025320924014284,-0.002082791751146538,-0.0020630514098916464,-0.002043311068636756,-0.0020235707273818637,-0.002003830386126973,-0.0019840900448720817,-0.001964349703617191,-0.0019446093623623007,-0.0019248690211074093,-0.0019051286798525188,-0.0018853883385976265,-0.001865647997342736,-0.0018459076560878446,-0.001826167314832954,-0.0018064269735780627,-0.0017866866323231721,-0.0017669462910682799,-0.0017472059498133893,-0.001727465608558498,-0.0017077252673036074,-0.001687984926048716,-0.0016682445847938255,-0.0016485042435389332,-0.0016287639022840427,-0.0016090235610291522,-0.0015892832197742608,-0.0015695428785193703,-0.0015498025372644789,-0.0015300621960095875,-0.001510321854754696,-0.0014905815134998055,-0.0014708411722449142,-0.0014511008309900236,-0.0014313604897351322,-0.0014116201484802408,-0.0013918798072253494,-0.001372139465970459,-0.0013523991247155675,-0.001332658783460677,-0.0013129184422057856,-0.0012931781009508942,-0.0012734377596960037,-0.0012536974184411123,-0.0012339570771862218,-0.0012142167359313304,-0.0011944763946764398,-0.0011747360534215476,-0.001154995712166657,-0.0011352553709117657,-0.0011155150296568751,-0.0010957746884019837,-0.0010760343471470932,-0.001056294005892201,-0.0010365536646373104,-0.001016813323382419,-0.0009970729821275285,-0.000977332640872638,-0.0009575922996177466,-0.000937851958362856,-0.0009181116171079638,-0.0008983712758530733,-0.0008786309345981819,-0.0008588905933432913,-0.0008391502520884,-0.0008194099108335094,-0.0007996695695786172,-0.0007799292283237266,-0.0007601888870688352,-0.0007404485458139447,-0.0007207082045590533,-0.0007009678633041628,-0.0006812275220492714,-0.00066148718079438,-0.0006417468395394895,-0.0006220064982845981,-0.0006022661570297076,-0.0005825258157748162,-0.0005627854745199248,-0.0005430451332650334,-0.0005233047920101428,-0.0005035644507552514,-0.0004838241095003609,-0.00046408376824546953,-0.00044434342699057813,-0.00042460308573568674,-0.0004048627444807962,-0.0003851224032259048,-0.0003653820619710143,-0.00034564172071612376,-0.0003259013794612315,-0.000306161038206341,-0.0002864206969514496,-0.00026668035569655905,-0.00024694001444166766,-0.00022719967318677713,-0.00020745933193188487,-0.00018771899067699434,-0.00016797864942210295,-0.00014823830816721242,-0.00012849796691232103,-0.0001087576256574305,-8.901728440253824e-05,-6.927694314764771e-05,-4.953660189275632e-05,-2.9796260637865793e-05,-1.0055919382975266e-05,9.684421871916128e-06,2.9424763126806655e-05,4.916510438169892e-05,6.890544563658944e-05,8.864578689148084e-05,0.00010838612814637136,0.00012812646940126276,0.00014786681065615329,0.00016760715191104555,0.00018734749316593607,0.00020708783442082747,0.000226828175675718,0.0002465685169306094,0.0002663088581854999,0.0002860491994403913,0.0003057895406952827,0.00032552988195017323,0.0003452702232050646,0.00036501056445995515,0.00038475090571484655,0.00040449124696973794,0.00042423158822462934,0.00044397192947951986,0.00046371227073441126,0.0004834526119893018,0.0005031929532441932,0.0005229332944990846,0.000542673635753976,0.0005624139770088665,0.000582154318263757,0.0006018946595186484,0.0006216350007735389,0.0006413753420284312,0.0006611156832833217,0.0006808560245382131,0.0007005963657931037,0.000720336707047995,0.0007400770483028856,0.0007598173895577778,0.0007795577308126684,0.0007992980720675598,0.0008190384133224503,0.0008387787545773417,0.0008585190958322322,0.0008782594370871245,0.000897999778342015,0.0009177401195969055,0.0009374804608517969,0.0009572208021066874,0.0009769611433615788,0.0009967014846164694,0.0010164418258713616,0.0010361821671262521,0.0010559225083811435,0.001075662849636034,0.0010954031908909255,0.001115143532145816,0.0011348838734007074,0.0011546242146555988,0.0011743645559104902,0.0011941048971653816,0.001213845238420273,0.0012335855796751626,0.001253325920930054,0.0012730662621849454,0.001292806603439835,0.0013125469446947282,0.0013322872859496179,0.0013520276272045093,0.0013717679684594006,0.0013915083097142903,0.0014112486509691817,0.0014309889922240748,0.0014507293334789662,0.0014704696747338559,0.0014902100159887473,0.0015099503572436387,0.00152969069849853,0.0015494310397534197,0.0015691713810083111,0.0015889117222632025,0.0016086520635180922,0.0016283924047729836,0.001648132746027875,0.001667873087282768,0.0016876134285376578,0.0017073537697925491,0.0017270941110474405,0.001746834452302332,0.0017665747935572216,0.001786315134812113,0.0018060554760670044,0.0018257958173218958,0.0018455361585767854,0.0018652764998316768,0.0018850168410865682,0.0019047571823414579,0.001924497523596351,0.0019442378648512424,0.001963978206106134,0.0019837185473610235,0.002003458888615915,0.0020231992298708062,0.0020429395711256976,0.0020626799123805873,0.0020824202536354787,0.00210216059489037,0.0021219009361452615,0.002141641277400151,0.0021613816186550443,0.0021811219599099357,0.0022008623011648253,0.0022206026424197167,0.002240342983674608,0.0022600833249294995,0.002279823666184389,0.0022995640074392806,0.002319304348694172,0.0023390446899490634,0.002358785031203953,0.0023785253724588444,0.0023982657137137375,0.002418006054968629,0.0024377463962235186,0.00245748673747841,0.0024772270787333014,0.002496967419988191,0.0025167077612430824,0.002536448102497974,0.0025561884437528652,0.002575928785007755,0.0025956691262626463,0.0026154094675175377,0.002635149808772431,0.0026548901500273205,0.002674630491282212,0.0026943708325371032,0.0027141111737919946,0.0027338515150468843,0.0027535918563017757,0.002773332197556667,0.0027930725388115567,0.002812812880066448,0.0028325532213213395,0.002852293562576231,0.0028720339038311206,0.0028917742450860137,0.002911514586340905,0.0029312549275957965,0.002950995268850686,0.0029707356101055776,0.002990475951360469,0.0030102162926153603,0.00302995663387025,0.0030496969751251414,0.003069437316380033,0.003089177657634924,0.003108917998889814,0.003128658340144707,0.0031483986813995984,0.003168139022654488],\"xaxis\":\"x\",\"y\":[0.21107691500405093,0.21006485556478724,0.2068561170002625,0.20157845864818716,0.19443118995453787,0.18567693806178268,0.1756307289617588,0.16464718834585582,0.15310675299378904,0.1414017848720739,0.1299234035023712,0.11904971171687562,0.10913590631088543,0.10050656264510884,0.09345018559258972,0.0882159501035375,0.08501242913354594,0.08400803320524114,0.08533286447051952,0.08908171073520155,0.09531795680510019,0.1040782528186884,0.11537783191640864,0.12921639480428646,0.1455844639410473,0.16447005044608895,0.18586537689114496,0.20977327283539904,0.2362127293705886,0.2652229915768774,0.2968655127308513,0.33122311738840693,0.3683958403500922,0.40849313135303716,0.4516224327095264,0.4978745249047699,0.5473064548782623,0.5999232641667167,0.6556600651912692,0.7143662219103086,0.7757934339467191,0.8395893761756346,0.9052982057890667,0.9723687377480449,1.0401704525981148,1.1080168023118186,1.1751945962025472,1.240997658068635,1.304762517167557,1.365903680893767,1.4239460622071403,1.4785523966947536,1.529543950401045,1.5769134334590111,1.6208297228058566,1.6616346803395805,1.6998329559319543,1.7360761274725243,1.771142814104351,1.8059164909736882,1.8413626460933241,1.878506685089223,1.9184136543474273,1.9621704696914553,2.0108709559485813,2.065603663235102,2.1274421559725596,2.1974372837420897,2.276610839634572,2.365949983193304,2.4664018381013455,2.578867755567349,2.7041968513073154,2.8431785688466324,2.9965341889517894,3.1649073892939,3.3488541529034426,3.548832517389212,3.7651928329561097,3.9981693353072445,4.247873917030555,4.514292977413875,4.7972881312996085,5.09660135798158,5.411864878967475,5.7426156891504885,6.088314261110179,6.4483665360235065,6.82214794904703,7.20902795202546,7.608393325620518,8.019668540628418,8.442331547631673,8.875923647431367,9.320052513980873,9.774387989719541,10.23865092481381,10.712596052881882,11.195990643040561,11.68859138800139,12.190122616290651,12.700259380209674,13.218619191757012,13.744766080893932,14.278230171864681,14.818545076988572,15.365304094820472,15.918234520749092,16.477287436939154,17.042738301713594,17.61529170581584,18.19618202965274,18.78726064751759,19.391059980002996,20.010825235700718,20.650506167663924,21.3147035604608,22.00856831751021,22.737654696594962,23.507733128073003,24.324571783318365,25.193699269998177,26.120163177636222,27.108300413090213,28.161535183232758,29.28221905395151,30.471524820805563,31.729402168639748,33.05459857897332,34.44474404269223,35.89649326800464,37.40571465728689,38.96771174302584,40.577460335402975,42.22984355999532,43.91986735815043,45.64284086748807,47.39450925699772,49.17113081063118,50.96949499312058,52.78688348417865,54.62098129101968,56.46974960566733,58.33127566407278,60.203617164970495,62.084659598819314,63.97200402874632,65.8629005005231,67.75423851670298,69.64260119077164,71.52438419421962,73.39597487573519,75.25398143888911,77.09549726248017,78.91838172598125,80.72153656107612,82.50515597749131,84.27092967432128,86.02218029231287,87.76392072146449,89.50282168853273,91.24708587116201,93.00623102629696,94.79079085720127,96.61194814651216,98.48111964091389,100.40951591703472,102.40770168568807,104.48518249154498,106.6500424399373,108.90865446540204,111.26547992276656,113.72296824668409,116.28156053160494,118.93979367038662,121.69449474941594,124.54104932450917,127.47372252827044,130.48600910110838,133.57098764164368,136.72165568343144,139.93122545654265,143.19336501750783,146.50237530047724,149.85329992285838,153.24197060504224,156.66499621482342,160.1197072176191,163.60406937166536,167.11658073064038,170.6561645027876,174.22206736825805,177.81376894276573,181.43090377003492,185.07319313846136,188.7403807231181,192.43216402176867,196.14811309190597,199.8875693158658,203.64951972071788,207.43244645210504,211.23415586628408,215.05159676012218,218.88068184694944,222.71613006835543,226.55134916397452,230.37837772062184,234.1879035196139,237.9693704700677,241.7111800740269,245.40098575313536,249.02607017942185,252.5737877924738,256.0320477593934,259.38980747290105,262.63754386092694,265.76766965355745,268.774864419738,271.6562954782868,274.4117112877012,277.0433990004072,279.55600775646576,281.9562491423468,284.25249520994936,286.45430177715076,288.5718897979002,290.615619980441,292.59549536445155,294.5207233093435,296.3993626086914,298.2380737598689,300.0419814851539,301.81464923255476,303.558156426889,305.2732614950349,306.95962782949266,308.6160863649261,310.24090756373556,311.8320573114562,313.3874152184292,314.9049395883678,316.3827701528478,317.81926680063185,319.2129891695347,320.56262742726443,321.86689832912987,323.1244224165271,324.3335979814081,325.4924853919238,326.59871199369195,327.6494036623558,328.64114484741685,329.5699652520575,330.4313486631187,331.22025821826026,331.9311726783603,332.5581299188357,333.09477649213426,333.53442520073116,333.87012551831833,334.0947537764674,334.20113077024814,334.18217349970683,334.0310850819764,333.74158265123333,333.3081577861305,332.7263583513331,331.9930754100393,331.1068148585984,330.06793133463003,328.8788022134445,327.5439222907409,326.069904872864,324.46538196004457,322.7408042531177,320.9081499235015,318.9805585072221,316.9719120610944,314.8963892088714,312.76801856097705,310.6002562071581,308.4056078849744,306.1953106285835,303.97908200446085,301.7649383248505,299.5590773359515,297.36581649453916,295.1875755248006,293.02489165004675,290.8764575873778,288.7391756745345,286.6082257590028,284.47714899318345,282.33795369880414,280.1812523177164,277.9964396443545,275.77192174826905,273.4954022098483,271.15422773206956,268.7357893100272,266.2279685702796,263.61961237274454,260.9010130636696,258.0643675861528,255.104186567292,252.0176248841813,248.80470820027736,245.4684354364686,242.01474472175948,238.45233946030976,234.79238099030047,231.04806403481683,227.2340998807473,223.36613916438517,219.46017063996237,215.53193392526242,211.5963827870016,207.66723116067536,203.75660718168098,199.8748316577141,196.03032742928326,192.2296558288427,188.47766684479578,184.77774142521025,181.13209825974891,177.54213378725785,174.0087632802709,170.53273260405868,167.11487436591662,163.7562882122363,160.45843242673055,157.22312209897407,154.05243732549502,150.94855257184412,147.91350493355262,144.9489241553573,142.0557505834746,139.23396853666367,136.48238181258534,133.79845524368918,131.178241550494,128.6164064978352,126.10635794203239,123.64047626392694,121.21043549188481,118.8075967524389,116.42344916889697,114.05006853533907,111.68056149679074,109.30946288064082,106.93305636396838,104.54959371186578,102.15939503391527,99.76482131388099,97.37012013330138,94.9811551887157,92.60503902687942,90.24969559090033,87.9233840337432,85.6342173900148,83.38970895198771,81.19637571260334,79.05942243361514,76.98252241501248,74.96770267764768,73.01533287765001,71.12420965996492,69.29172200631406,67.51407890930835,65.78657862585591,64.10389878224437,62.46038843314313,60.85034634479839,59.26827369747019,57.709093481149566,56.16833255306589,54.64226523180141,53.12801919920477,51.62364534461552,50.12815317736129,48.64151285615638,47.16462412051052,45.69925184968451,44.24792794659509,42.8138199552384,41.400568323274406,40.01209640455253,38.652399901155555,37.32532510723169,36.03434762589319,34.78236479072072,33.57151551761807,32.40304055014758,31.27719400745552,30.19321392675817,29.149355387103373,28.142985193632455,27.170732439315966,26.228684997717743,25.312618541996418,24.418242346173738,23.54144509594391,22.678524272301747,21.826384292434632,20.98269130286309,20.145976036738368,19.315680135599948,18.49214544582805,17.676549700642973,16.870795405881577,16.07736144481985,15.299128764433693,14.53919244298657,13.800672481720708,13.086534890735955,12.39943317945572,11.741578377306988,11.114643379210031,10.519704913775755,9.957223939267433,9.427062931951287,8.928536464469957,8.460489768574085,8.021398696152735,7.609483665321703,7.222829809463927,6.859505620905343,6.5176728651664675,6.195681391275709,5.892143622630828,5.605984916224257,5.336467551907073,5.083187775978763,4.84604698636671,4.625199717808971,4.420982473227488,4.2338285670462925,4.064174926507933,3.912367187870368,3.7785694023307004,3.6626842386534166,3.564288773721809,3.482589864347153,3.4164017808971296,3.364147355500851,3.3238824572167798,3.2933422489432727,3.2700064861791285,3.2511801457171776,3.234084960186873,3.215956997814689,3.19414526362098,3.1662063930932773,3.1299908384086597,3.0837164823240677,3.0260263254948447,2.9560277469613787,2.8733117996624307,2.777952033155088,2.670483388068947,2.551862728516567,2.4234135121711584,2.286757884283174,2.143740067083957,1.9963452559724069,1.8466183015063693,1.6965862459158063,1.5481883128226888,1.4032162604247327,1.2632671622649971,1.1297097495215378,1.003664513066081,0.885996897259759,0.7773221840591175,0.6780201116341805,0.5882569218023135,0.5080123893887557,0.43710943924914697,0.37524417321756537,0.322014470014521,0.27694574227372104,0.2395128931728075,0.20915797207771147,0.18530345245410929,0.1673614222608998,0.15473927098883714,0.14684266903856188,0.14307676034141956,0.14284652849574533,0.14555725434153738,0.1506158662805937,0.1574338045843034,0.16543179174648912,0.1740466404533327,0.18273995981491603,0.19100836198311877,0.1983945483404939,0.2044984884222033,0.20898781276147171,0.21160653363935314],\"yaxis\":\"y\",\"type\":\"scatter\"}],                        {\"barmode\":\"overlay\",\"hovermode\":\"closest\",\"legend\":{\"traceorder\":\"reversed\"},\"xaxis\":{\"anchor\":\"y2\",\"domain\":[0.0,1.0],\"zeroline\":false},\"yaxis\":{\"anchor\":\"free\",\"domain\":[0.0,1],\"position\":0.0},\"template\":{\"data\":{\"histogram2dcontour\":[{\"type\":\"histogram2dcontour\",\"colorbar\":{\"outlinewidth\":0,\"ticks\":\"\"},\"colorscale\":[[0.0,\"#0d0887\"],[0.1111111111111111,\"#46039f\"],[0.2222222222222222,\"#7201a8\"],[0.3333333333333333,\"#9c179e\"],[0.4444444444444444,\"#bd3786\"],[0.5555555555555556,\"#d8576b\"],[0.6666666666666666,\"#ed7953\"],[0.7777777777777778,\"#fb9f3a\"],[0.8888888888888888,\"#fdca26\"],[1.0,\"#f0f921\"]]}],\"choropleth\":[{\"type\":\"choropleth\",\"colorbar\":{\"outlinewidth\":0,\"ticks\":\"\"}}],\"histogram2d\":[{\"type\":\"histogram2d\",\"colorbar\":{\"outlinewidth\":0,\"ticks\":\"\"},\"colorscale\":[[0.0,\"#0d0887\"],[0.1111111111111111,\"#46039f\"],[0.2222222222222222,\"#7201a8\"],[0.3333333333333333,\"#9c179e\"],[0.4444444444444444,\"#bd3786\"],[0.5555555555555556,\"#d8576b\"],[0.6666666666666666,\"#ed7953\"],[0.7777777777777778,\"#fb9f3a\"],[0.8888888888888888,\"#fdca26\"],[1.0,\"#f0f921\"]]}],\"heatmap\":[{\"type\":\"heatmap\",\"colorbar\":{\"outlinewidth\":0,\"ticks\":\"\"},\"colorscale\":[[0.0,\"#0d0887\"],[0.1111111111111111,\"#46039f\"],[0.2222222222222222,\"#7201a8\"],[0.3333333333333333,\"#9c179e\"],[0.4444444444444444,\"#bd3786\"],[0.5555555555555556,\"#d8576b\"],[0.6666666666666666,\"#ed7953\"],[0.7777777777777778,\"#fb9f3a\"],[0.8888888888888888,\"#fdca26\"],[1.0,\"#f0f921\"]]}],\"heatmapgl\":[{\"type\":\"heatmapgl\",\"colorbar\":{\"outlinewidth\":0,\"ticks\":\"\"},\"colorscale\":[[0.0,\"#0d0887\"],[0.1111111111111111,\"#46039f\"],[0.2222222222222222,\"#7201a8\"],[0.3333333333333333,\"#9c179e\"],[0.4444444444444444,\"#bd3786\"],[0.5555555555555556,\"#d8576b\"],[0.6666666666666666,\"#ed7953\"],[0.7777777777777778,\"#fb9f3a\"],[0.8888888888888888,\"#fdca26\"],[1.0,\"#f0f921\"]]}],\"contourcarpet\":[{\"type\":\"contourcarpet\",\"colorbar\":{\"outlinewidth\":0,\"ticks\":\"\"}}],\"contour\":[{\"type\":\"contour\",\"colorbar\":{\"outlinewidth\":0,\"ticks\":\"\"},\"colorscale\":[[0.0,\"#0d0887\"],[0.1111111111111111,\"#46039f\"],[0.2222222222222222,\"#7201a8\"],[0.3333333333333333,\"#9c179e\"],[0.4444444444444444,\"#bd3786\"],[0.5555555555555556,\"#d8576b\"],[0.6666666666666666,\"#ed7953\"],[0.7777777777777778,\"#fb9f3a\"],[0.8888888888888888,\"#fdca26\"],[1.0,\"#f0f921\"]]}],\"surface\":[{\"type\":\"surface\",\"colorbar\":{\"outlinewidth\":0,\"ticks\":\"\"},\"colorscale\":[[0.0,\"#0d0887\"],[0.1111111111111111,\"#46039f\"],[0.2222222222222222,\"#7201a8\"],[0.3333333333333333,\"#9c179e\"],[0.4444444444444444,\"#bd3786\"],[0.5555555555555556,\"#d8576b\"],[0.6666666666666666,\"#ed7953\"],[0.7777777777777778,\"#fb9f3a\"],[0.8888888888888888,\"#fdca26\"],[1.0,\"#f0f921\"]]}],\"mesh3d\":[{\"type\":\"mesh3d\",\"colorbar\":{\"outlinewidth\":0,\"ticks\":\"\"}}],\"scatter\":[{\"fillpattern\":{\"fillmode\":\"overlay\",\"size\":10,\"solidity\":0.2},\"type\":\"scatter\"}],\"parcoords\":[{\"type\":\"parcoords\",\"line\":{\"colorbar\":{\"outlinewidth\":0,\"ticks\":\"\"}}}],\"scatterpolargl\":[{\"type\":\"scatterpolargl\",\"marker\":{\"colorbar\":{\"outlinewidth\":0,\"ticks\":\"\"}}}],\"bar\":[{\"error_x\":{\"color\":\"#2a3f5f\"},\"error_y\":{\"color\":\"#2a3f5f\"},\"marker\":{\"line\":{\"color\":\"#E5ECF6\",\"width\":0.5},\"pattern\":{\"fillmode\":\"overlay\",\"size\":10,\"solidity\":0.2}},\"type\":\"bar\"}],\"scattergeo\":[{\"type\":\"scattergeo\",\"marker\":{\"colorbar\":{\"outlinewidth\":0,\"ticks\":\"\"}}}],\"scatterpolar\":[{\"type\":\"scatterpolar\",\"marker\":{\"colorbar\":{\"outlinewidth\":0,\"ticks\":\"\"}}}],\"histogram\":[{\"marker\":{\"pattern\":{\"fillmode\":\"overlay\",\"size\":10,\"solidity\":0.2}},\"type\":\"histogram\"}],\"scattergl\":[{\"type\":\"scattergl\",\"marker\":{\"colorbar\":{\"outlinewidth\":0,\"ticks\":\"\"}}}],\"scatter3d\":[{\"type\":\"scatter3d\",\"line\":{\"colorbar\":{\"outlinewidth\":0,\"ticks\":\"\"}},\"marker\":{\"colorbar\":{\"outlinewidth\":0,\"ticks\":\"\"}}}],\"scattermapbox\":[{\"type\":\"scattermapbox\",\"marker\":{\"colorbar\":{\"outlinewidth\":0,\"ticks\":\"\"}}}],\"scatterternary\":[{\"type\":\"scatterternary\",\"marker\":{\"colorbar\":{\"outlinewidth\":0,\"ticks\":\"\"}}}],\"scattercarpet\":[{\"type\":\"scattercarpet\",\"marker\":{\"colorbar\":{\"outlinewidth\":0,\"ticks\":\"\"}}}],\"carpet\":[{\"aaxis\":{\"endlinecolor\":\"#2a3f5f\",\"gridcolor\":\"white\",\"linecolor\":\"white\",\"minorgridcolor\":\"white\",\"startlinecolor\":\"#2a3f5f\"},\"baxis\":{\"endlinecolor\":\"#2a3f5f\",\"gridcolor\":\"white\",\"linecolor\":\"white\",\"minorgridcolor\":\"white\",\"startlinecolor\":\"#2a3f5f\"},\"type\":\"carpet\"}],\"table\":[{\"cells\":{\"fill\":{\"color\":\"#EBF0F8\"},\"line\":{\"color\":\"white\"}},\"header\":{\"fill\":{\"color\":\"#C8D4E3\"},\"line\":{\"color\":\"white\"}},\"type\":\"table\"}],\"barpolar\":[{\"marker\":{\"line\":{\"color\":\"#E5ECF6\",\"width\":0.5},\"pattern\":{\"fillmode\":\"overlay\",\"size\":10,\"solidity\":0.2}},\"type\":\"barpolar\"}],\"pie\":[{\"automargin\":true,\"type\":\"pie\"}]},\"layout\":{\"autotypenumbers\":\"strict\",\"colorway\":[\"#636efa\",\"#EF553B\",\"#00cc96\",\"#ab63fa\",\"#FFA15A\",\"#19d3f3\",\"#FF6692\",\"#B6E880\",\"#FF97FF\",\"#FECB52\"],\"font\":{\"color\":\"#2a3f5f\"},\"hovermode\":\"closest\",\"hoverlabel\":{\"align\":\"left\"},\"paper_bgcolor\":\"white\",\"plot_bgcolor\":\"#E5ECF6\",\"polar\":{\"bgcolor\":\"#E5ECF6\",\"angularaxis\":{\"gridcolor\":\"white\",\"linecolor\":\"white\",\"ticks\":\"\"},\"radialaxis\":{\"gridcolor\":\"white\",\"linecolor\":\"white\",\"ticks\":\"\"}},\"ternary\":{\"bgcolor\":\"#E5ECF6\",\"aaxis\":{\"gridcolor\":\"white\",\"linecolor\":\"white\",\"ticks\":\"\"},\"baxis\":{\"gridcolor\":\"white\",\"linecolor\":\"white\",\"ticks\":\"\"},\"caxis\":{\"gridcolor\":\"white\",\"linecolor\":\"white\",\"ticks\":\"\"}},\"coloraxis\":{\"colorbar\":{\"outlinewidth\":0,\"ticks\":\"\"}},\"colorscale\":{\"sequential\":[[0.0,\"#0d0887\"],[0.1111111111111111,\"#46039f\"],[0.2222222222222222,\"#7201a8\"],[0.3333333333333333,\"#9c179e\"],[0.4444444444444444,\"#bd3786\"],[0.5555555555555556,\"#d8576b\"],[0.6666666666666666,\"#ed7953\"],[0.7777777777777778,\"#fb9f3a\"],[0.8888888888888888,\"#fdca26\"],[1.0,\"#f0f921\"]],\"sequentialminus\":[[0.0,\"#0d0887\"],[0.1111111111111111,\"#46039f\"],[0.2222222222222222,\"#7201a8\"],[0.3333333333333333,\"#9c179e\"],[0.4444444444444444,\"#bd3786\"],[0.5555555555555556,\"#d8576b\"],[0.6666666666666666,\"#ed7953\"],[0.7777777777777778,\"#fb9f3a\"],[0.8888888888888888,\"#fdca26\"],[1.0,\"#f0f921\"]],\"diverging\":[[0,\"#8e0152\"],[0.1,\"#c51b7d\"],[0.2,\"#de77ae\"],[0.3,\"#f1b6da\"],[0.4,\"#fde0ef\"],[0.5,\"#f7f7f7\"],[0.6,\"#e6f5d0\"],[0.7,\"#b8e186\"],[0.8,\"#7fbc41\"],[0.9,\"#4d9221\"],[1,\"#276419\"]]},\"xaxis\":{\"gridcolor\":\"white\",\"linecolor\":\"white\",\"ticks\":\"\",\"title\":{\"standoff\":15},\"zerolinecolor\":\"white\",\"automargin\":true,\"zerolinewidth\":2},\"yaxis\":{\"gridcolor\":\"white\",\"linecolor\":\"white\",\"ticks\":\"\",\"title\":{\"standoff\":15},\"zerolinecolor\":\"white\",\"automargin\":true,\"zerolinewidth\":2},\"scene\":{\"xaxis\":{\"backgroundcolor\":\"#E5ECF6\",\"gridcolor\":\"white\",\"linecolor\":\"white\",\"showbackground\":true,\"ticks\":\"\",\"zerolinecolor\":\"white\",\"gridwidth\":2},\"yaxis\":{\"backgroundcolor\":\"#E5ECF6\",\"gridcolor\":\"white\",\"linecolor\":\"white\",\"showbackground\":true,\"ticks\":\"\",\"zerolinecolor\":\"white\",\"gridwidth\":2},\"zaxis\":{\"backgroundcolor\":\"#E5ECF6\",\"gridcolor\":\"white\",\"linecolor\":\"white\",\"showbackground\":true,\"ticks\":\"\",\"zerolinecolor\":\"white\",\"gridwidth\":2}},\"shapedefaults\":{\"line\":{\"color\":\"#2a3f5f\"}},\"annotationdefaults\":{\"arrowcolor\":\"#2a3f5f\",\"arrowhead\":0,\"arrowwidth\":1},\"geo\":{\"bgcolor\":\"white\",\"landcolor\":\"#E5ECF6\",\"subunitcolor\":\"white\",\"showland\":true,\"showlakes\":true,\"lakecolor\":\"white\"},\"title\":{\"x\":0.05},\"mapbox\":{\"style\":\"light\"}}},\"title\":{\"text\":\"\\u0420\\u0430\\u0441\\u043f\\u0440\\u0435\\u0434\\u0435\\u043b\\u043d\\u0438\\u0435 \\u0440\\u0430\\u0437\\u043d\\u0438\\u0446\\u044b \\u0441\\u0440\\u0435\\u0434\\u043d\\u0438\\u0445\"},\"height\":650,\"width\":1000},                        {\"responsive\": true}                    ).then(function(){\n",
       "                            \n",
       "var gd = document.getElementById('db2900a6-acc5-499d-9fb1-a10f05629ffd');\n",
       "var x = new MutationObserver(function (mutations, observer) {{\n",
       "        var display = window.getComputedStyle(gd).display;\n",
       "        if (!display || display === 'none') {{\n",
       "            console.log([gd, 'removed!']);\n",
       "            Plotly.purge(gd);\n",
       "            observer.disconnect();\n",
       "        }}\n",
       "}});\n",
       "\n",
       "// Listen for the removal of the full notebook cells\n",
       "var notebookContainer = gd.closest('#notebook-container');\n",
       "if (notebookContainer) {{\n",
       "    x.observe(notebookContainer, {childList: true});\n",
       "}}\n",
       "\n",
       "// Listen for the clearing of the current output cell\n",
       "var outputEl = gd.closest('.output');\n",
       "if (outputEl) {{\n",
       "    x.observe(outputEl, {childList: true});\n",
       "}}\n",
       "\n",
       "                        })                };                });            </script>        </div>"
      ]
     },
     "metadata": {},
     "output_type": "display_data"
    }
   ],
   "source": [
    "boot_1d['diff'] = boot_1d.new_page-boot_1d.old_page\n",
    "\n",
    "hist_data = [list(boot_1d['diff'])]\n",
    "group_labels = ['Разница средних']\n",
    "\n",
    "fig = ff.create_distplot(hist_data, group_labels, show_hist=False, bin_size=.01, show_rug=False)\n",
    "\n",
    "fig.update_layout(height=650, width=1000, title_text='Распределние разницы средних')\n",
    "fig.show()\n"
   ]
  },
  {
   "cell_type": "code",
   "execution_count": null,
   "id": "38dea385-89e5-4660-87e6-b9ad66d8367a",
   "metadata": {},
   "outputs": [],
   "source": [
    "Посчитаем 95%-й доверительный интервал для разницы средних."
   ]
  },
  {
   "cell_type": "code",
   "execution_count": 43,
   "id": "a49ded71-68cf-464a-91c9-d1ade2d69cb0",
   "metadata": {},
   "outputs": [
    {
     "name": "stdout",
     "output_type": "stream",
     "text": [
      "-0.003913549473393928 0.0007873280463671311\n"
     ]
    }
   ],
   "source": [
    "alpha=0.05\n",
    "\n",
    "left = np.quantile(boot_1d['diff'], alpha/2)\n",
    "right = np.quantile(boot_1d['diff'], 1-alpha/2)\n",
    "\n",
    "print(left, right)"
   ]
  },
  {
   "cell_type": "markdown",
   "id": "eabdf3d4-ff5e-4693-a6b4-7191eb75d042",
   "metadata": {},
   "source": [
    "Ноль попадает в доверительный интервал, значит на уровне значимости 5% разницы между исследуемыми группами нет. Изменения в конверсии можно считать статистически не значимыми."
   ]
  },
  {
   "cell_type": "markdown",
   "id": "6270b9a0-4b5f-4f2a-ae03-74341d95598d",
   "metadata": {},
   "source": [
    "## Результаты исследования: Влияние нового дизайна посадочной страницы на конверсию\n",
    "\n",
    "### 1. **Доверительный интервал**\n",
    "Для оценки разницы средних значений конверсии был построен 95%-й доверительный интервал. На уровне значимости 5% результаты показали, что разница между конверсиями в группах не является статистически значимой. Это позволяет заключить, что новый дизайн не оказывает влияния на конверсию пользователей.\n",
    "\n",
    "### 2. **Критерий хи-квадрат Пирсона**\n",
    "Применив критерий хи-квадрат Пирсона, был получен p-уровень значимости, который оказался больше критического значения (p > 0.05). Это также подтверждает отсутствие статистически значимой разницы между конверсиями в исследуемых группах.\n",
    "\n",
    "### 3. **Бутстрэп метод**\n",
    "После применения метода бутстрэпа к данным о конверсиях пользователей результаты показали, что на уровне значимости 5% различий между группами нет. Это подтверждает выводы предыдущих анализов.\n",
    "\n",
    "### **Заключение**\n",
    "Исходя из проведённых статистических тестов, можно утверждать, что изменение дизайна посадочной страницы не оказывает значимого влияния на конверсию пользователей."
   ]
  }
 ],
 "metadata": {
  "kernelspec": {
   "display_name": "sklearn_env",
   "language": "python",
   "name": "sklearn_env"
  },
  "language_info": {
   "codemirror_mode": {
    "name": "ipython",
    "version": 3
   },
   "file_extension": ".py",
   "mimetype": "text/x-python",
   "name": "python",
   "nbconvert_exporter": "python",
   "pygments_lexer": "ipython3",
   "version": "3.13.0"
  }
 },
 "nbformat": 4,
 "nbformat_minor": 5
}
